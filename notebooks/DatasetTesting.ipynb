{
 "cells": [
  {
   "cell_type": "code",
   "execution_count": 1,
   "id": "0a48cffd",
   "metadata": {},
   "outputs": [],
   "source": [
    "import os\n",
    "os.chdir('..')\n",
    "%load_ext autoreload\n",
    "%autoreload 2"
   ]
  },
  {
   "cell_type": "code",
   "execution_count": 2,
   "id": "fe411589",
   "metadata": {},
   "outputs": [],
   "source": [
    "from project.dataset.ChessDataset import ChessDataset"
   ]
  },
  {
   "cell_type": "code",
   "execution_count": 9,
   "id": "cd502228",
   "metadata": {},
   "outputs": [
    {
     "name": "stdout",
     "output_type": "stream",
     "text": [
      "Loading parquet file @  ./data/games_0001/train_100K.parquet  with columns  ['Moves', 'pieces', 'captures']\n",
      "Loaded 70000 rows and 3 columns\n"
     ]
    },
    {
     "name": "stderr",
     "output_type": "stream",
     "text": [
      "Building lookup tables: 100%|██████████| 3/3 [00:02<00:00,  1.15it/s]\n",
      "Converting columns to indices: 100%|██████████| 3/3 [00:04<00:00,  1.54s/it]\n"
     ]
    },
    {
     "name": "stdout",
     "output_type": "stream",
     "text": [
      "Loading parquet file @  ./data/games_0001/test_100K.parquet  with columns  ['Moves', 'pieces', 'captures']\n",
      "Loaded 10001 rows and 3 columns\n"
     ]
    },
    {
     "name": "stderr",
     "output_type": "stream",
     "text": [
      "Building lookup tables: 100%|██████████| 3/3 [00:00<00:00,  7.46it/s]\n",
      "Converting columns to indices: 100%|██████████| 3/3 [00:00<00:00,  3.16it/s]\n"
     ]
    }
   ],
   "source": [
    "dataset = ChessDataset('./data/games_0001/train_100K.parquet', ['Moves'], ['pieces', 'captures'])\n",
    "datasetTest = ChessDataset('./data/games_0001/test_100K.parquet', ['Moves'], ['pieces', 'captures'], lookupReference=dataset)"
   ]
  },
  {
   "cell_type": "code",
   "execution_count": 17,
   "id": "1ee8b9d9",
   "metadata": {},
   "outputs": [],
   "source": [
    "lookUpsTrain = dataset.lookup_tables\n",
    "lookUpsTest = datasetTest.lookup_tables\n",
    "\n",
    "for column in lookUpsTest:\n",
    "    lookUpTrain = lookUpsTrain[column]\n",
    "    lookUpTest = lookUpsTest[column]\n",
    "\n",
    "    #Check that all keys in lookupTest have the same value as in lookupTrain\n",
    "    for key in lookUpTest:\n",
    "        if key in lookUpTrain:\n",
    "            assert lookUpTrain[key] == lookUpTest[key], f\"Key {key} in lookupTest has different value than in lookupTrain: {lookUpTrain[key]} != {lookUpTest[key]}\"\n",
    "\n",
    "    #Check that all keys in lookupTrain have the same value as in lookupTest\n",
    "    for key in lookUpTrain:\n",
    "        if key in lookUpTest:\n",
    "            assert lookUpTrain[key] == lookUpTest[key], f\"Key {key} in lookupTrain has different value than in lookupTest: {lookUpTrain[key]} != {lookUpTest[key]}\""
   ]
  },
  {
   "cell_type": "code",
   "execution_count": 5,
   "id": "760dc170",
   "metadata": {},
   "outputs": [
    {
     "data": {
      "text/plain": [
       "<bound method ChessDataset.getLookupTable of <project.dataset.ChessDataset.ChessDataset object at 0x0000025F1F2E6150>>"
      ]
     },
     "execution_count": 5,
     "metadata": {},
     "output_type": "execute_result"
    }
   ],
   "source": [
    "dataset.getLookupTable"
   ]
  },
  {
   "cell_type": "code",
   "execution_count": null,
   "id": "96574f7c",
   "metadata": {},
   "outputs": [
    {
     "data": {
      "text/plain": [
       "tensor([[  0,   1,   2,   3,   4,   5,   6,   7,   8,   9,  10,  11,  12,  13,\n",
       "          14,  15,  16,  17,  18,  19,  20,  21,  22,  23,  24,  25,  26,  27,\n",
       "          28,  29,  30,  31,  32,  33,  34,  35,  36,  37,  38,  39,  40,  41,\n",
       "          42,  43,  44,  45,  46,  47,  48,  49,  50,  51,  52,  53,  54,  55,\n",
       "          56,  57,  58,  59,  60,  61,  62,  63,  64,  65,  66,  67,  68,  69,\n",
       "          70,  71,  72,  59,  73,  74,  75,  76,  77,  78,  79,  80,  81,  82,\n",
       "          83,  84,  85,  86,  87,  88,  89,  90,  91,  92,  93,  88,  94,  95,\n",
       "          96,  97,  98,  99, 100, 101, 102,   3, 103, 104, 105,  35, 106,  33,\n",
       "         107,  55, 108, 109, 110,  78, 111, 112, 113, 114, 115, 116, 117,  48,\n",
       "         118, 119, 120, 121, 122, 119, 123, 124, 125],\n",
       "        [  0,   0,   1,   0,   0,   0,   2,   1,   2,   1,   1,   0,   0,   3,\n",
       "           3,   3,   4,   5,   3,   0,   5,   4,   5,   0,   0,   0,   3,   1,\n",
       "           0,   0,   1,   0,   1,   0,   1,   3,   0,   4,   3,   0,   1,   0,\n",
       "           1,   1,   3,   1,   1,   3,   3,   1,   5,   1,   2,   1,   5,   0,\n",
       "           3,   2,   1,   3,   0,   1,   1,   3,   2,   2,   2,   4,   5,   5,\n",
       "           5,   5,   5,   4,   3,   5,   5,   4,   0,   0,   0,   0,   4,   4,\n",
       "           4,   0,   4,   0,   4,   4,   0,   4,   0,   0,   0,   4,   0,   0,\n",
       "           4,   4,   0,   0,   4,   4,   4,   4,   4,   4,   0,   4,   0,   4,\n",
       "           2,   4,   2,   4,   2,   4,   2,   4,   2,   4,   0,   4,   0,   4,\n",
       "           0,   4,   2,   4,   2,   4,   2,   4,   2]])"
      ]
     },
     "execution_count": 6,
     "metadata": {},
     "output_type": "execute_result"
    }
   ],
   "source": [
    "import numpy as np\n",
    "import torch\n",
    "row = dataset.df.iloc[0]\n",
    "\n",
    "# Get the input and label columns\n",
    "inputs = row[dataset.inputColumns + dataset.labelColumns].values\n",
    "#Convert the lists to np.arrays\n",
    "inputs  = [torch.tensor(x) for x in inputs]\n",
    "# If you want to concatenate all tensors in the inputs list into a single tensor:\n",
    "inputs = torch.vstack([x if x.dim() > 0 else x.unsqueeze(0) for x in inputs])\n",
    "\n",
    "labels = row[dataset.labelColumns].values\n",
    "\n",
    "inputs"
   ]
  }
 ],
 "metadata": {
  "kernelspec": {
   "display_name": "Python 3",
   "language": "python",
   "name": "python3"
  },
  "language_info": {
   "codemirror_mode": {
    "name": "ipython",
    "version": 3
   },
   "file_extension": ".py",
   "mimetype": "text/x-python",
   "name": "python",
   "nbconvert_exporter": "python",
   "pygments_lexer": "ipython3",
   "version": "3.11.12"
  }
 },
 "nbformat": 4,
 "nbformat_minor": 5
}
