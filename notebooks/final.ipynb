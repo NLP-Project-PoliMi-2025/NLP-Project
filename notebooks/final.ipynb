{
 "cells": [
  {
   "cell_type": "markdown",
   "id": "aee1561e",
   "metadata": {},
   "source": [
    "# Group Assignment NLP course 2024/2025"
   ]
  },
  {
   "cell_type": "markdown",
   "id": "203a2f15",
   "metadata": {},
   "source": [
    "## Group: NLP Processors\n",
    "* Ginefra Paolo\n",
    "* Onori Ferdinando\n",
    "* Missana Martina\n",
    "* Uhrich Robin\n",
    "\n",
    "##  Dataset: [Strategic Game Chess](https://huggingface.co/datasets/laion/strategic_game_chess)"
   ]
  },
  {
   "cell_type": "markdown",
   "id": "f04b28d8",
   "metadata": {},
   "source": [
    "### 1. Preliminary Analysis"
   ]
  },
  {
   "cell_type": "markdown",
   "id": "22b740de",
   "metadata": {},
   "source": [
    "### 2. Training Models"
   ]
  },
  {
   "cell_type": "markdown",
   "id": "b07f05ac",
   "metadata": {},
   "source": [
    "### 3. Possible Extensions"
   ]
  }
 ],
 "metadata": {
  "language_info": {
   "name": "python"
  }
 },
 "nbformat": 4,
 "nbformat_minor": 5
}
