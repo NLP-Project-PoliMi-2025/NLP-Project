{
 "cells": [
  {
   "cell_type": "markdown",
   "id": "aee1561e",
   "metadata": {},
   "source": [
    "# Group Assignment NLP course 2024/2025"
   ]
  },
  {
   "cell_type": "markdown",
   "id": "203a2f15",
   "metadata": {},
   "source": [
    "## Group: NLP Processors\n",
    "* Ginefra Paolo\n",
    "* Onori Ferdinando\n",
    "* Missana Martina\n",
    "* Uhrich Robin\n",
    "\n",
    "##  Dataset: [Strategic Game Chess](https://huggingface.co/datasets/laion/strategic_game_chess)"
   ]
  },
  {
   "cell_type": "markdown",
   "id": "993f4ef4",
   "metadata": {},
   "source": [
    "#### TODOs:\n",
    "* explaining why we used just one parquet file\n",
    "* creation of the dataset\n",
    "* our goal for the project (how much chess lang is a natural lang)\n",
    "* disclaimer that we stick the dataset as closely as possible with assumingnot  having knowledge ofunderlyingmodelof chess"
   ]
  },
  {
   "cell_type": "markdown",
   "id": "f04b28d8",
   "metadata": {},
   "source": [
    "### 1. Preliminary Analysis"
   ]
  },
  {
   "cell_type": "markdown",
   "id": "ef483155",
   "metadata": {},
   "source": [
    "#### TODOs:\n",
    "* Data Exploration (type of data, structure, vocaboulary, ...) - verbose stuff\n",
    "* graph - verbose stuff\n",
    "* Zipf's Law\n",
    "* usage of move visualizer/ move plotter\n",
    "* clustering (Australia  plot) (Paolo explaining if  clusters make sens)\n",
    "* word2vec and embeddings (Paolo)\n",
    "* move distribution(martina)\n",
    "* FEN distribution (Ferdinando)\n",
    "* skipgrams n-grams(matrices, dendrograms(?))"
   ]
  },
  {
   "cell_type": "markdown",
   "id": "22b740de",
   "metadata": {},
   "source": [
    "### 2. Training Models"
   ]
  },
  {
   "cell_type": "markdown",
   "id": "2fc68fed",
   "metadata": {},
   "source": [
    "#### TODOs:\n",
    "* LAMA\n",
    "* LSTM\n",
    "* RAG (Paolo)\n",
    "* Transformer (plots)\n",
    "* Zeroshot-multishot(?)(Ferdinando)\n"
   ]
  },
  {
   "cell_type": "markdown",
   "id": "b07f05ac",
   "metadata": {},
   "source": [
    "### 3. Possible Extensions"
   ]
  },
  {
   "cell_type": "markdown",
   "id": "d46ee36a",
   "metadata": {},
   "source": [
    "#### TODOs:\n",
    "* chessbots with game entropy etc. (lstm,ferdinando,voice)\n",
    "\n",
    "(menu and intuition)"
   ]
  },
  {
   "cell_type": "markdown",
   "id": "72dacaa8",
   "metadata": {},
   "source": [
    "### 4. Conclusions (?)"
   ]
  },
  {
   "cell_type": "markdown",
   "id": "fee1d89b",
   "metadata": {},
   "source": [
    "* adding knowledge should result in better performances...\n",
    "* computationalconstraintsssss\n",
    "* chess grammar"
   ]
  }
 ],
 "metadata": {
  "language_info": {
   "name": "python"
  }
 },
 "nbformat": 4,
 "nbformat_minor": 5
}
