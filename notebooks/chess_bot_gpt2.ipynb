{
 "cells": [
  {
   "cell_type": "code",
   "execution_count": 2,
   "id": "928383f7",
   "metadata": {},
   "outputs": [
    {
     "data": {
      "application/vnd.jupyter.widget-view+json": {
       "model_id": "68b58ceb59f6439e9d1be80a5e7ffbee",
       "version_major": 2,
       "version_minor": 0
      },
      "text/plain": [
       "config.json:   0%|          | 0.00/907 [00:00<?, ?B/s]"
      ]
     },
     "metadata": {},
     "output_type": "display_data"
    },
    {
     "data": {
      "application/vnd.jupyter.widget-view+json": {
       "model_id": "df87c5e6b9ef45509b5cd7b457f7ddc2",
       "version_major": 2,
       "version_minor": 0
      },
      "text/plain": [
       "model.safetensors:   0%|          | 0.00/498M [00:00<?, ?B/s]"
      ]
     },
     "metadata": {},
     "output_type": "display_data"
    },
    {
     "data": {
      "application/vnd.jupyter.widget-view+json": {
       "model_id": "1d757a6b255244938ea1fade753fbb88",
       "version_major": 2,
       "version_minor": 0
      },
      "text/plain": [
       "generation_config.json:   0%|          | 0.00/119 [00:00<?, ?B/s]"
      ]
     },
     "metadata": {},
     "output_type": "display_data"
    },
    {
     "data": {
      "application/vnd.jupyter.widget-view+json": {
       "model_id": "88ba06b7a3d74ab3a0da7ce3205cfffe",
       "version_major": 2,
       "version_minor": 0
      },
      "text/plain": [
       "tokenizer_config.json:   0%|          | 0.00/26.0 [00:00<?, ?B/s]"
      ]
     },
     "metadata": {},
     "output_type": "display_data"
    },
    {
     "data": {
      "application/vnd.jupyter.widget-view+json": {
       "model_id": "12e77558966f4bba92fc3ffd7e17f62d",
       "version_major": 2,
       "version_minor": 0
      },
      "text/plain": [
       "vocab.json:   0%|          | 0.00/1.04M [00:00<?, ?B/s]"
      ]
     },
     "metadata": {},
     "output_type": "display_data"
    },
    {
     "data": {
      "application/vnd.jupyter.widget-view+json": {
       "model_id": "d9bda7e73fc74acc9c33c94495e4cb37",
       "version_major": 2,
       "version_minor": 0
      },
      "text/plain": [
       "tokenizer.json:   0%|          | 0.00/1.36M [00:00<?, ?B/s]"
      ]
     },
     "metadata": {},
     "output_type": "display_data"
    },
    {
     "name": "stderr",
     "output_type": "stream",
     "text": [
      "Device set to use cuda:0\n"
     ]
    }
   ],
   "source": [
    "# Use a pipeline as a high-level helper\n",
    "from transformers import pipeline\n",
    "\n",
    "pipe = pipeline(\"text-generation\", model=\"yp-edu/gpt2-stockfish-debug\")"
   ]
  },
  {
   "cell_type": "code",
   "execution_count": 3,
   "id": "1bd2df4f",
   "metadata": {},
   "outputs": [],
   "source": [
    "# Load model directly\n",
    "from transformers import AutoTokenizer, AutoModelForCausalLM\n",
    "\n",
    "tokenizer = AutoTokenizer.from_pretrained(\"yp-edu/gpt2-stockfish-debug\")\n",
    "model = AutoModelForCausalLM.from_pretrained(\"yp-edu/gpt2-stockfish-debug\")"
   ]
  },
  {
   "cell_type": "code",
   "execution_count": null,
   "id": "8ce952d0",
   "metadata": {},
   "outputs": [
    {
     "name": "stdout",
     "output_type": "stream",
     "text": [
      "e2e4\n",
      "e7e6\n",
      "d2d4\n",
      "d7d5\n",
      "b1c3\n",
      "f8b4\n",
      "e4d5\n",
      "e6d5\n",
      "f1d3\n",
      "g8f6\n",
      "d1e2\n",
      "c8e6\n",
      "g1f3\n",
      "e8g8\n",
      "e1g1\n",
      "b8c6\n",
      "c1f4\n",
      "f8e8\n",
      "a2a3\n",
      "b4c3\n",
      "b2c3\n",
      "f6e4\n",
      "f1e1\n",
      "e4c3\n",
      "e2e3\n",
      "c3e4\n",
      "f4g3\n",
      "e4g3\n",
      "h2g3\n",
      "a7a5\n",
      "a1b1\n",
      "d8d7\n",
      "c2c3\n",
      "a5a4\n",
      "e3d2\n",
      "b7b6\n",
      "d2c2\n",
      "a8b8\n",
      "c2d2\n",
      "e6g4\n",
      "e1e8\n",
      "b8e8\n",
      "b1e1\n",
      "e8e1\n",
      "d2e1\n",
      "g4f3\n",
      "e1e8\n",
      "d7e8\n",
      "g2f3\n",
      "e8e1\n",
      "g1g2\n",
      "e1d1\n",
      "d3b5\n",
      "d1c2\n",
      "g2h3\n",
      "c2f2\n",
      "b5c6\n",
      "f2f3\n",
      "c6d5\n",
      "f3h5\n",
      "h3g2\n",
      "h5d5\n",
      "g2f3\n",
      ". . . . . . k .\n",
      ". . p . . p p p\n",
      ". p . . . . . .\n",
      ". . . q . . . .\n",
      "p . . P . . . .\n",
      "P . P . . . P .\n",
      ". . . . . . K .\n",
      ". . . . . . . .\n",
      "Illegal move 62\n"
     ]
    }
   ],
   "source": [
    "import chess\n",
    "from transformers import AutoModelForCausalLM, AutoTokenizer\n",
    "\n",
    "\n",
    "def next_move(model, tokenizer, fen):\n",
    "    input_ids = tokenizer(f\"FEN: {fen}\\nMOVE:\", return_tensors=\"pt\")\n",
    "    input_ids = {k: v.to(model.device) for k, v in input_ids.items()}\n",
    "    out = model.generate(\n",
    "        **input_ids,\n",
    "        max_new_tokens=10,\n",
    "        pad_token_id=tokenizer.eos_token_id,\n",
    "        do_sample=True,\n",
    "        temperature=0.1,\n",
    "    )\n",
    "    out_str = tokenizer.batch_decode(out)[0]\n",
    "    return out_str.split(\"MOVE:\")[-1].replace(\"<|endoftext|>\", \"\").strip()\n",
    "\n",
    "\n",
    "board = chess.Board()\n",
    "model = AutoModelForCausalLM.from_pretrained(\"yp-edu/gpt2-stockfish-debug\")\n",
    "tokenizer = AutoTokenizer.from_pretrained(\"yp-edu/gpt2-stockfish-debug\")  # or \"gpt2\"\n",
    "tokenizer.pad_token = tokenizer.eos_token\n",
    "for i in range(100):\n",
    "    fen = board.fen()\n",
    "    move_uci = next_move(model, tokenizer, fen)\n",
    "    try:\n",
    "        print(move_uci)\n",
    "        move = chess.Move.from_uci(move_uci)\n",
    "        if move not in board.legal_moves:\n",
    "            raise chess.IllegalMoveError\n",
    "        board.push(move)\n",
    "        outcome = board.outcome()\n",
    "        if outcome is not None:\n",
    "            print(board)\n",
    "            print(outcome.result())\n",
    "            break\n",
    "    except chess.IllegalMoveError:\n",
    "        print(board)\n",
    "        print(\"Illegal move\", i)\n",
    "        break\n",
    "else:\n",
    "    print(board)\n"
   ]
  },
  {
   "cell_type": "code",
   "execution_count": 26,
   "id": "701fa2d1",
   "metadata": {},
   "outputs": [
    {
     "name": "stdout",
     "output_type": "stream",
     "text": [
      "Loading parquet file @  data/games_0001/train_100K.parquet  with columns  ['Moves', 'Result']\n",
      "Loaded 70000 rows and 2 columns\n"
     ]
    },
    {
     "name": "stderr",
     "output_type": "stream",
     "text": [
      "Building lookup tables: 100%|██████████| 2/2 [00:00<00:00,  3.62it/s]\n",
      "Converting columns to indices: 100%|██████████| 2/2 [00:00<00:00,  2.65it/s]\n"
     ]
    },
    {
     "name": "stdout",
     "output_type": "stream",
     "text": [
      "Loading parquet file @  data/games_0001/val_100K.parquet  with columns  ['Moves', 'Result']\n",
      "Loaded 19999 rows and 2 columns\n"
     ]
    },
    {
     "name": "stderr",
     "output_type": "stream",
     "text": [
      "Building lookup tables: 100%|██████████| 2/2 [00:00<00:00, 11.91it/s]\n",
      "Converting columns to indices: 100%|██████████| 2/2 [00:00<00:00,  8.31it/s]\n"
     ]
    },
    {
     "name": "stdout",
     "output_type": "stream",
     "text": [
      "Loading parquet file @  data/games_0001/test_100K.parquet  with columns  ['Moves', 'Result']\n",
      "Loaded 10001 rows and 2 columns\n"
     ]
    },
    {
     "name": "stderr",
     "output_type": "stream",
     "text": [
      "Building lookup tables: 100%|██████████| 2/2 [00:00<00:00, 25.36it/s]\n",
      "Converting columns to indices: 100%|██████████| 2/2 [00:00<00:00, 16.09it/s]\n"
     ]
    }
   ],
   "source": [
    "from project.dataset.lit_module import SeqAnnotationDM\n",
    "label = \"Result\"\n",
    "dm = SeqAnnotationDM(\n",
    "    \"data/games_0001/train_100K.parquet\",\n",
    "    \"data/games_0001/val_100K.parquet\",\n",
    "    \"data/games_0001/test_100K.parquet\",\n",
    "    32,\n",
    "    [\"Moves\"],\n",
    "    [label],\n",
    "    8,\n",
    ")\n",
    "dm.setup()\n"
   ]
  },
  {
   "cell_type": "code",
   "execution_count": 29,
   "id": "4b43cfec",
   "metadata": {},
   "outputs": [
    {
     "data": {
      "text/html": [
       "<div>\n",
       "<style scoped>\n",
       "    .dataframe tbody tr th:only-of-type {\n",
       "        vertical-align: middle;\n",
       "    }\n",
       "\n",
       "    .dataframe tbody tr th {\n",
       "        vertical-align: top;\n",
       "    }\n",
       "\n",
       "    .dataframe thead th {\n",
       "        text-align: right;\n",
       "    }\n",
       "</style>\n",
       "<table border=\"1\" class=\"dataframe\">\n",
       "  <thead>\n",
       "    <tr style=\"text-align: right;\">\n",
       "      <th></th>\n",
       "      <th>Moves</th>\n",
       "      <th>Result</th>\n",
       "    </tr>\n",
       "  </thead>\n",
       "  <tbody>\n",
       "    <tr>\n",
       "      <th>75721</th>\n",
       "      <td>[1, 2, 3, 4, 5, 6, 7, 8, 9, 10, 11, 12, 13, 14...</td>\n",
       "      <td>1</td>\n",
       "    </tr>\n",
       "    <tr>\n",
       "      <th>80184</th>\n",
       "      <td>[1, 154, 155, 6, 156, 157, 158, 8, 159, 160, 1...</td>\n",
       "      <td>2</td>\n",
       "    </tr>\n",
       "    <tr>\n",
       "      <th>19864</th>\n",
       "      <td>[1, 268, 3, 6, 5, 269, 270, 157, 13, 266, 188,...</td>\n",
       "      <td>3</td>\n",
       "    </tr>\n",
       "    <tr>\n",
       "      <th>76699</th>\n",
       "      <td>[5, 6, 3, 157, 50, 2, 123, 4, 13, 154, 295, 27...</td>\n",
       "      <td>2</td>\n",
       "    </tr>\n",
       "    <tr>\n",
       "      <th>92991</th>\n",
       "      <td>[1, 2, 5, 494, 210, 268, 495, 4, 496, 304, 3, ...</td>\n",
       "      <td>2</td>\n",
       "    </tr>\n",
       "    <tr>\n",
       "      <th>...</th>\n",
       "      <td>...</td>\n",
       "      <td>...</td>\n",
       "    </tr>\n",
       "    <tr>\n",
       "      <th>7075</th>\n",
       "      <td>[5, 494, 3, 157, 123, 278, 295, 268, 35, 531, ...</td>\n",
       "      <td>3</td>\n",
       "    </tr>\n",
       "    <tr>\n",
       "      <th>51072</th>\n",
       "      <td>[5, 157, 3, 278, 50, 494, 13, 268, 738, 576, 1...</td>\n",
       "      <td>1</td>\n",
       "    </tr>\n",
       "    <tr>\n",
       "      <th>71582</th>\n",
       "      <td>[5, 157, 3, 278, 9, 268, 123, 531, 164, 277, 1...</td>\n",
       "      <td>3</td>\n",
       "    </tr>\n",
       "    <tr>\n",
       "      <th>21635</th>\n",
       "      <td>[3, 157, 50, 2, 5, 4, 13, 494, 738, 576, 1, 63...</td>\n",
       "      <td>3</td>\n",
       "    </tr>\n",
       "    <tr>\n",
       "      <th>91054</th>\n",
       "      <td>[5, 494, 50, 154, 123, 157, 295, 278, 3, 277, ...</td>\n",
       "      <td>1</td>\n",
       "    </tr>\n",
       "  </tbody>\n",
       "</table>\n",
       "<p>70000 rows × 2 columns</p>\n",
       "</div>"
      ],
      "text/plain": [
       "                                                   Moves  Result\n",
       "75721  [1, 2, 3, 4, 5, 6, 7, 8, 9, 10, 11, 12, 13, 14...       1\n",
       "80184  [1, 154, 155, 6, 156, 157, 158, 8, 159, 160, 1...       2\n",
       "19864  [1, 268, 3, 6, 5, 269, 270, 157, 13, 266, 188,...       3\n",
       "76699  [5, 6, 3, 157, 50, 2, 123, 4, 13, 154, 295, 27...       2\n",
       "92991  [1, 2, 5, 494, 210, 268, 495, 4, 496, 304, 3, ...       2\n",
       "...                                                  ...     ...\n",
       "7075   [5, 494, 3, 157, 123, 278, 295, 268, 35, 531, ...       3\n",
       "51072  [5, 157, 3, 278, 50, 494, 13, 268, 738, 576, 1...       1\n",
       "71582  [5, 157, 3, 278, 9, 268, 123, 531, 164, 277, 1...       3\n",
       "21635  [3, 157, 50, 2, 5, 4, 13, 494, 738, 576, 1, 63...       3\n",
       "91054  [5, 494, 50, 154, 123, 157, 295, 278, 3, 277, ...       1\n",
       "\n",
       "[70000 rows x 2 columns]"
      ]
     },
     "execution_count": 29,
     "metadata": {},
     "output_type": "execute_result"
    }
   ],
   "source": [
    "dm.fit_set.df"
   ]
  },
  {
   "cell_type": "code",
   "execution_count": 27,
   "id": "ecece2fa",
   "metadata": {},
   "outputs": [
    {
     "data": {
      "text/plain": [
       "(array([0.        , 0.30691389, 0.47402682, 0.2190593 ]),\n",
       " Result\n",
       " 1    22962\n",
       " 2    14867\n",
       " 3    32171\n",
       " Name: count, dtype: int64)"
      ]
     },
     "execution_count": 27,
     "metadata": {},
     "output_type": "execute_result"
    }
   ],
   "source": [
    "import numpy as np\n",
    "\n",
    "value_counts = dm.fit_set.df[label].explode().value_counts()\n",
    "weights = 1 / value_counts\n",
    "weights = weights / weights.sum()\n",
    "weights = weights.sort_index().values\n",
    "weights = np.concatenate([np.zeros(1), weights])\n",
    "weights, value_counts.sort_index()\n"
   ]
  },
  {
   "cell_type": "code",
   "execution_count": 24,
   "id": "fbee3b11",
   "metadata": {},
   "outputs": [
    {
     "data": {
      "text/plain": [
       "'20250520091935'"
      ]
     },
     "execution_count": 24,
     "metadata": {},
     "output_type": "execute_result"
    }
   ],
   "source": [
    "from datetime import datetime\n",
    "timestamp = datetime.now().strftime(\"%Y%m%d%H%M%S\")\n",
    "timestamp"
   ]
  }
 ],
 "metadata": {
  "kernelspec": {
   "display_name": "nlp",
   "language": "python",
   "name": "python3"
  },
  "language_info": {
   "codemirror_mode": {
    "name": "ipython",
    "version": 3
   },
   "file_extension": ".py",
   "mimetype": "text/x-python",
   "name": "python",
   "nbconvert_exporter": "python",
   "pygments_lexer": "ipython3",
   "version": "3.12.9"
  }
 },
 "nbformat": 4,
 "nbformat_minor": 5
}
