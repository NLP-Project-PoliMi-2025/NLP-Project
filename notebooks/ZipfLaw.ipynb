{
 "cells": [
  {
   "cell_type": "markdown",
   "id": "d20fef39",
   "metadata": {},
   "source": [
    "# Zipf's Law Analysis"
   ]
  },
  {
   "cell_type": "code",
   "execution_count": 44,
   "id": "b08a6bed",
   "metadata": {},
   "outputs": [
    {
     "name": "stdout",
     "output_type": "stream",
     "text": [
      "The autoreload extension is already loaded. To reload it, use:\n",
      "  %reload_ext autoreload\n"
     ]
    }
   ],
   "source": [
    "import chess\n",
    "import numpy as np\n",
    "import matplotlib.pyplot as plt\n",
    "import sqlite3\n",
    "import pandas as pd\n",
    "from collections import Counter\n",
    "from datasets import load_dataset\n",
    "import tqdm\n",
    "import seaborn as sns\n",
    "sns.set_theme()\n",
    "\n",
    "%load_ext autoreload\n",
    "%autoreload 2"
   ]
  },
  {
   "cell_type": "markdown",
   "id": "b28b55ac",
   "metadata": {},
   "source": [
    "Importing the datasets"
   ]
  },
  {
   "cell_type": "code",
   "execution_count": 2,
   "id": "c721b826",
   "metadata": {},
   "outputs": [],
   "source": [
    "from nlpChess.utils.DatasetLoader import loadConcatenatedDataset\n",
    "ds = loadConcatenatedDataset()\n",
    "df = ds.to_pandas()"
   ]
  },
  {
   "cell_type": "code",
   "execution_count": 3,
   "id": "8fb5fe09",
   "metadata": {},
   "outputs": [],
   "source": [
    "conn = sqlite3.connect(\"chess_games.db\")\n",
    "cursor = conn.cursor()"
   ]
  },
  {
   "cell_type": "markdown",
   "id": "7d78eb57",
   "metadata": {},
   "source": [
    "## Zipf's Law for the moves"
   ]
  },
  {
   "cell_type": "code",
   "execution_count": 4,
   "id": "6aab45d8",
   "metadata": {},
   "outputs": [
    {
     "data": {
      "text/html": [
       "<div>\n",
       "<style scoped>\n",
       "    .dataframe tbody tr th:only-of-type {\n",
       "        vertical-align: middle;\n",
       "    }\n",
       "\n",
       "    .dataframe tbody tr th {\n",
       "        vertical-align: top;\n",
       "    }\n",
       "\n",
       "    .dataframe thead th {\n",
       "        text-align: right;\n",
       "    }\n",
       "</style>\n",
       "<table border=\"1\" class=\"dataframe\">\n",
       "  <thead>\n",
       "    <tr style=\"text-align: right;\">\n",
       "      <th></th>\n",
       "      <th>Moves</th>\n",
       "      <th>Termination</th>\n",
       "      <th>Result</th>\n",
       "      <th>pieces</th>\n",
       "      <th>captures</th>\n",
       "      <th>checks</th>\n",
       "      <th>next_moves</th>\n",
       "      <th>termination_seqs</th>\n",
       "      <th>result_seqs</th>\n",
       "      <th>__index_level_0__</th>\n",
       "    </tr>\n",
       "  </thead>\n",
       "  <tbody>\n",
       "    <tr>\n",
       "      <th>0</th>\n",
       "      <td>[e2e4, g7g6, g1f3, f8g7, d2d4, d7d6, f1d3, e7e...</td>\n",
       "      <td>CHECKMATE</td>\n",
       "      <td>1-0</td>\n",
       "      <td>[p, p, n, b, p, p, b, p, b, n, p, p, n, p, b, ...</td>\n",
       "      <td>[, , , , , , , , , , p, p, , , , , , , , , p, ...</td>\n",
       "      <td>[False, False, False, False, False, False, Fal...</td>\n",
       "      <td>[g7g6, g1f3, f8g7, d2d4, d7d6, f1d3, e7e5, c1g...</td>\n",
       "      <td>[CHECKMATE, CHECKMATE, CHECKMATE, CHECKMATE, C...</td>\n",
       "      <td>[1-0, 1-0, 1-0, 1-0, 1-0, 1-0, 1-0, 1-0, 1-0, ...</td>\n",
       "      <td>75721</td>\n",
       "    </tr>\n",
       "    <tr>\n",
       "      <th>1</th>\n",
       "      <td>[e2e4, c7c6, d2d3, d7d6, g2g3, g8f6, h2h4, e7e...</td>\n",
       "      <td>CHECKMATE</td>\n",
       "      <td>0-1</td>\n",
       "      <td>[p, p, p, p, p, n, p, p, b, p, n, p, n, p, n, ...</td>\n",
       "      <td>[, , , , , , , , , , , , , , , , , , , , , , ,...</td>\n",
       "      <td>[False, False, False, False, False, False, Fal...</td>\n",
       "      <td>[c7c6, d2d3, d7d6, g2g3, g8f6, h2h4, e7e5, f1g...</td>\n",
       "      <td>[CHECKMATE, CHECKMATE, CHECKMATE, CHECKMATE, C...</td>\n",
       "      <td>[0-1, 0-1, 0-1, 0-1, 0-1, 0-1, 0-1, 0-1, 0-1, ...</td>\n",
       "      <td>80184</td>\n",
       "    </tr>\n",
       "    <tr>\n",
       "      <th>2</th>\n",
       "      <td>[e2e4, c7c5, g1f3, d7d6, d2d4, c5d4, f3d4, g8f...</td>\n",
       "      <td>INSUFFICIENT_MATERIAL</td>\n",
       "      <td>1/2-1/2</td>\n",
       "      <td>[p, p, n, p, p, p, n, n, n, p, b, p, p, q, p, ...</td>\n",
       "      <td>[, , , , , p, p, , , , , , , , , , , , , , , q...</td>\n",
       "      <td>[False, False, False, False, False, False, Fal...</td>\n",
       "      <td>[c7c5, g1f3, d7d6, d2d4, c5d4, f3d4, g8f6, b1c...</td>\n",
       "      <td>[INSUFFICIENT_MATERIAL, INSUFFICIENT_MATERIAL,...</td>\n",
       "      <td>[1/2-1/2, 1/2-1/2, 1/2-1/2, 1/2-1/2, 1/2-1/2, ...</td>\n",
       "      <td>19864</td>\n",
       "    </tr>\n",
       "    <tr>\n",
       "      <th>3</th>\n",
       "      <td>[d2d4, d7d6, g1f3, g8f6, c2c4, g7g6, e2e3, f8g...</td>\n",
       "      <td>CHECKMATE</td>\n",
       "      <td>0-1</td>\n",
       "      <td>[p, p, n, n, p, p, p, b, n, p, b, k, p, p, p, ...</td>\n",
       "      <td>[, , , , , , , , , , , , , , p, p, q, q, p, , ...</td>\n",
       "      <td>[False, False, False, False, False, False, Fal...</td>\n",
       "      <td>[d7d6, g1f3, g8f6, c2c4, g7g6, e2e3, f8g7, b1c...</td>\n",
       "      <td>[CHECKMATE, CHECKMATE, CHECKMATE, CHECKMATE, C...</td>\n",
       "      <td>[0-1, 0-1, 0-1, 0-1, 0-1, 0-1, 0-1, 0-1, 0-1, ...</td>\n",
       "      <td>76699</td>\n",
       "    </tr>\n",
       "    <tr>\n",
       "      <th>4</th>\n",
       "      <td>[e2e4, g7g6, d2d4, d7d5, e4e5, c7c5, d4c5, f8g...</td>\n",
       "      <td>CHECKMATE</td>\n",
       "      <td>0-1</td>\n",
       "      <td>[p, p, p, p, p, p, p, b, b, p, n, n, b, b, q, ...</td>\n",
       "      <td>[, , , , , , p, , , , , , , , , n, b, p, p, , ...</td>\n",
       "      <td>[False, False, False, False, False, False, Fal...</td>\n",
       "      <td>[g7g6, d2d4, d7d5, e4e5, c7c5, d4c5, f8g7, c1f...</td>\n",
       "      <td>[CHECKMATE, CHECKMATE, CHECKMATE, CHECKMATE, C...</td>\n",
       "      <td>[0-1, 0-1, 0-1, 0-1, 0-1, 0-1, 0-1, 0-1, 0-1, ...</td>\n",
       "      <td>92991</td>\n",
       "    </tr>\n",
       "  </tbody>\n",
       "</table>\n",
       "</div>"
      ],
      "text/plain": [
       "                                               Moves            Termination  \\\n",
       "0  [e2e4, g7g6, g1f3, f8g7, d2d4, d7d6, f1d3, e7e...              CHECKMATE   \n",
       "1  [e2e4, c7c6, d2d3, d7d6, g2g3, g8f6, h2h4, e7e...              CHECKMATE   \n",
       "2  [e2e4, c7c5, g1f3, d7d6, d2d4, c5d4, f3d4, g8f...  INSUFFICIENT_MATERIAL   \n",
       "3  [d2d4, d7d6, g1f3, g8f6, c2c4, g7g6, e2e3, f8g...              CHECKMATE   \n",
       "4  [e2e4, g7g6, d2d4, d7d5, e4e5, c7c5, d4c5, f8g...              CHECKMATE   \n",
       "\n",
       "    Result                                             pieces  \\\n",
       "0      1-0  [p, p, n, b, p, p, b, p, b, n, p, p, n, p, b, ...   \n",
       "1      0-1  [p, p, p, p, p, n, p, p, b, p, n, p, n, p, n, ...   \n",
       "2  1/2-1/2  [p, p, n, p, p, p, n, n, n, p, b, p, p, q, p, ...   \n",
       "3      0-1  [p, p, n, n, p, p, p, b, n, p, b, k, p, p, p, ...   \n",
       "4      0-1  [p, p, p, p, p, p, p, b, b, p, n, n, b, b, q, ...   \n",
       "\n",
       "                                            captures  \\\n",
       "0  [, , , , , , , , , , p, p, , , , , , , , , p, ...   \n",
       "1  [, , , , , , , , , , , , , , , , , , , , , , ,...   \n",
       "2  [, , , , , p, p, , , , , , , , , , , , , , , q...   \n",
       "3  [, , , , , , , , , , , , , , p, p, q, q, p, , ...   \n",
       "4  [, , , , , , p, , , , , , , , , n, b, p, p, , ...   \n",
       "\n",
       "                                              checks  \\\n",
       "0  [False, False, False, False, False, False, Fal...   \n",
       "1  [False, False, False, False, False, False, Fal...   \n",
       "2  [False, False, False, False, False, False, Fal...   \n",
       "3  [False, False, False, False, False, False, Fal...   \n",
       "4  [False, False, False, False, False, False, Fal...   \n",
       "\n",
       "                                          next_moves  \\\n",
       "0  [g7g6, g1f3, f8g7, d2d4, d7d6, f1d3, e7e5, c1g...   \n",
       "1  [c7c6, d2d3, d7d6, g2g3, g8f6, h2h4, e7e5, f1g...   \n",
       "2  [c7c5, g1f3, d7d6, d2d4, c5d4, f3d4, g8f6, b1c...   \n",
       "3  [d7d6, g1f3, g8f6, c2c4, g7g6, e2e3, f8g7, b1c...   \n",
       "4  [g7g6, d2d4, d7d5, e4e5, c7c5, d4c5, f8g7, c1f...   \n",
       "\n",
       "                                    termination_seqs  \\\n",
       "0  [CHECKMATE, CHECKMATE, CHECKMATE, CHECKMATE, C...   \n",
       "1  [CHECKMATE, CHECKMATE, CHECKMATE, CHECKMATE, C...   \n",
       "2  [INSUFFICIENT_MATERIAL, INSUFFICIENT_MATERIAL,...   \n",
       "3  [CHECKMATE, CHECKMATE, CHECKMATE, CHECKMATE, C...   \n",
       "4  [CHECKMATE, CHECKMATE, CHECKMATE, CHECKMATE, C...   \n",
       "\n",
       "                                         result_seqs  __index_level_0__  \n",
       "0  [1-0, 1-0, 1-0, 1-0, 1-0, 1-0, 1-0, 1-0, 1-0, ...              75721  \n",
       "1  [0-1, 0-1, 0-1, 0-1, 0-1, 0-1, 0-1, 0-1, 0-1, ...              80184  \n",
       "2  [1/2-1/2, 1/2-1/2, 1/2-1/2, 1/2-1/2, 1/2-1/2, ...              19864  \n",
       "3  [0-1, 0-1, 0-1, 0-1, 0-1, 0-1, 0-1, 0-1, 0-1, ...              76699  \n",
       "4  [0-1, 0-1, 0-1, 0-1, 0-1, 0-1, 0-1, 0-1, 0-1, ...              92991  "
      ]
     },
     "execution_count": 4,
     "metadata": {},
     "output_type": "execute_result"
    }
   ],
   "source": [
    "df.head()"
   ]
  },
  {
   "cell_type": "code",
   "execution_count": 5,
   "id": "5e130ad1",
   "metadata": {},
   "outputs": [],
   "source": [
    "def removeFifthChar(string):\n",
    "    if len(string) < 5:\n",
    "        return string\n",
    "    return string[:4]\n",
    "\n",
    "#Apply the function to the 'moves' column\n",
    "df['moves'] = df['Moves'].apply(removeFifthChar)"
   ]
  },
  {
   "cell_type": "code",
   "execution_count": 6,
   "id": "402ae909",
   "metadata": {},
   "outputs": [
    {
     "data": {
      "text/plain": [
       "0        163\n",
       "1        134\n",
       "2        334\n",
       "3        126\n",
       "4        164\n",
       "        ... \n",
       "99995    122\n",
       "99996    116\n",
       "99997    289\n",
       "99998    159\n",
       "99999    246\n",
       "Name: Moves, Length: 100000, dtype: int64"
      ]
     },
     "execution_count": 6,
     "metadata": {},
     "output_type": "execute_result"
    }
   ],
   "source": [
    "len_games = df['Moves'].apply(len)\n",
    "len_games"
   ]
  },
  {
   "cell_type": "code",
   "execution_count": 7,
   "id": "027cc76f",
   "metadata": {},
   "outputs": [],
   "source": [
    "# Get all the performed moves\n",
    "# Concatenate all moves from all games into a single list\n",
    "moves = [move for game in df['Moves'] for move in game]"
   ]
  },
  {
   "cell_type": "code",
   "execution_count": 8,
   "id": "9fa2922e",
   "metadata": {},
   "outputs": [],
   "source": [
    "# Count the occurrences of each move\n",
    "move_counts = Counter(moves)\n",
    "\n",
    "# Sort the moves by frequency\n",
    "sorted_move_counts = move_counts.most_common()\n",
    "move_ranks = range(1, len(sorted_move_counts) + 1)\n",
    "move_frequencies = [count for fen, count in sorted_move_counts]\n"
   ]
  },
  {
   "cell_type": "markdown",
   "id": "00954704",
   "metadata": {},
   "source": [
    "Plot the Zipf's Law for moves"
   ]
  },
  {
   "cell_type": "code",
   "execution_count": 9,
   "id": "3c51737c",
   "metadata": {},
   "outputs": [
    {
     "data": {
      "image/png": "[encoded data removed]",
      "text/plain": [
       "<Figure size 500x500 with 1 Axes>"
      ]
     },
     "metadata": {},
     "output_type": "display_data"
    }
   ],
   "source": [
    "plt.figure(figsize=(5, 5))\n",
    "plt.loglog(move_ranks, move_frequencies, marker='o', markersize=2)\n",
    "plt.title(\"Zipf's Law: Frequency of Chess Moves\")\n",
    "plt.xlabel(\"Rank\")\n",
    "plt.ylabel(\"Frequency\")\n",
    "plt.axis('equal') \n",
    "plt.show()\n"
   ]
  },
  {
   "cell_type": "markdown",
   "id": "4e626dc1",
   "metadata": {},
   "source": [
    "### Compute the exponent of the Zipf's Law \n",
    "\n",
    "$f(r) = \\frac{C}{r^s}$\n",
    "\n",
    "where f(r) is the frequency of the word at rank r, C is a constant, and s is the Zipf exponent.\n",
    "\n",
    "The Zipf's exponent is useful for analysis since:\n",
    "- s<1: The distribution flattens. Frequencies are more evenly spread across ranks, indicating a more uniform distribution of items.\n",
    "- s=1: The classic Zipfian case. The second-ranked item occurs half as frequently as the first, and so on. This implies that a few words are extremely common, and many are rare.\n",
    "- s>1: The distribution is steeper.\n",
    "    High-ranked items dominate, and lower-ranked items become significantly rare. \n",
    "    This suggests a system where a few elements are overwhelmingly prevalent.\n",
    "\n"
   ]
  },
  {
   "cell_type": "code",
   "execution_count": 10,
   "id": "8dd08c69",
   "metadata": {},
   "outputs": [
    {
     "name": "stdout",
     "output_type": "stream",
     "text": [
      "Estimated Zipf exponent for moves: 1.28\n"
     ]
    }
   ],
   "source": [
    "log_move_ranks = np.log(move_ranks)\n",
    "log_move_freqs = np.log(move_frequencies)\n",
    "move_coeffs = np.polyfit(log_move_ranks, log_move_freqs, 1)\n",
    "move_slope = move_coeffs[0]\n",
    "print(f\"Estimated Zipf exponent for moves: {abs(move_slope):.2f}\")"
   ]
  },
  {
   "cell_type": "markdown",
   "id": "d60e924a",
   "metadata": {},
   "source": [
    "This exponent is extremely similar to a natural language!\n",
    "Let's try to compare it to a natural language taking the Zipf's law exponent of some Shakespear's writings as a benchmark"
   ]
  },
  {
   "cell_type": "code",
   "execution_count": 11,
   "id": "864e8afb",
   "metadata": {},
   "outputs": [
    {
     "data": {
      "text/html": [
       "<div>\n",
       "<style scoped>\n",
       "    .dataframe tbody tr th:only-of-type {\n",
       "        vertical-align: middle;\n",
       "    }\n",
       "\n",
       "    .dataframe tbody tr th {\n",
       "        vertical-align: top;\n",
       "    }\n",
       "\n",
       "    .dataframe thead th {\n",
       "        text-align: right;\n",
       "    }\n",
       "</style>\n",
       "<table border=\"1\" class=\"dataframe\">\n",
       "  <thead>\n",
       "    <tr style=\"text-align: right;\">\n",
       "      <th></th>\n",
       "      <th>Unnamed: 0</th>\n",
       "      <th>Dataline</th>\n",
       "      <th>Play</th>\n",
       "      <th>PlayerLinenumber</th>\n",
       "      <th>ActSceneLine</th>\n",
       "      <th>Player</th>\n",
       "      <th>PlayerLine</th>\n",
       "    </tr>\n",
       "  </thead>\n",
       "  <tbody>\n",
       "    <tr>\n",
       "      <th>0</th>\n",
       "      <td>19217</td>\n",
       "      <td>19218</td>\n",
       "      <td>Antony and Cleopatra</td>\n",
       "      <td>9.0</td>\n",
       "      <td>2.1.33</td>\n",
       "      <td>POMPEY</td>\n",
       "      <td>How now, Varrius!</td>\n",
       "    </tr>\n",
       "    <tr>\n",
       "      <th>1</th>\n",
       "      <td>99413</td>\n",
       "      <td>99414</td>\n",
       "      <td>Troilus and Cressida</td>\n",
       "      <td>32.0</td>\n",
       "      <td>1.2.66</td>\n",
       "      <td>CRESSIDA</td>\n",
       "      <td>Ay, if I ever saw him before and knew him.</td>\n",
       "    </tr>\n",
       "    <tr>\n",
       "      <th>2</th>\n",
       "      <td>104667</td>\n",
       "      <td>104668</td>\n",
       "      <td>Twelfth Night</td>\n",
       "      <td>86.0</td>\n",
       "      <td>3.4.193</td>\n",
       "      <td>VIOLA</td>\n",
       "      <td>With the same 'havior that your passion bears</td>\n",
       "    </tr>\n",
       "    <tr>\n",
       "      <th>3</th>\n",
       "      <td>41989</td>\n",
       "      <td>41990</td>\n",
       "      <td>Henry VIII</td>\n",
       "      <td>41.0</td>\n",
       "      <td>3.2.121</td>\n",
       "      <td>SUFFOLK</td>\n",
       "      <td>May be, he hears the king</td>\n",
       "    </tr>\n",
       "    <tr>\n",
       "      <th>4</th>\n",
       "      <td>36553</td>\n",
       "      <td>36554</td>\n",
       "      <td>Hamlet</td>\n",
       "      <td>119.0</td>\n",
       "      <td>5.2.312</td>\n",
       "      <td>HAMLET</td>\n",
       "      <td>Nay, come, again.</td>\n",
       "    </tr>\n",
       "  </tbody>\n",
       "</table>\n",
       "</div>"
      ],
      "text/plain": [
       "   Unnamed: 0  Dataline                  Play  PlayerLinenumber ActSceneLine  \\\n",
       "0       19217     19218  Antony and Cleopatra               9.0       2.1.33   \n",
       "1       99413     99414  Troilus and Cressida              32.0       1.2.66   \n",
       "2      104667    104668         Twelfth Night              86.0      3.4.193   \n",
       "3       41989     41990            Henry VIII              41.0      3.2.121   \n",
       "4       36553     36554                Hamlet             119.0      5.2.312   \n",
       "\n",
       "     Player                                     PlayerLine  \n",
       "0    POMPEY                              How now, Varrius!  \n",
       "1  CRESSIDA     Ay, if I ever saw him before and knew him.  \n",
       "2     VIOLA  With the same 'havior that your passion bears  \n",
       "3   SUFFOLK                      May be, he hears the king  \n",
       "4    HAMLET                              Nay, come, again.  "
      ]
     },
     "execution_count": 11,
     "metadata": {},
     "output_type": "execute_result"
    }
   ],
   "source": [
    "from nlpChess.utils.DatasetLoader import loadConcatenatedShakespeareDataset\n",
    "dsShakespeare = loadConcatenatedShakespeareDataset()\n",
    "dfShakespeare = dsShakespeare.to_pandas()\n",
    "dfShakespeare.head()"
   ]
  },
  {
   "cell_type": "code",
   "execution_count": 15,
   "id": "26dd92b4",
   "metadata": {},
   "outputs": [
    {
     "data": {
      "text/plain": [
       "\"How now, Varrius! Ay, if I ever saw him before and knew him. With the same 'havior that your passion bears May be, he hears the king Nay, come, again. Nor in a way so chaste, since my desires My lord, Fie on sinful fantasy! I warrant thee. Of ill-shaped fishes, and about his shelves Prithee, do, Jack. So bad an instrument: his name's Parolles. Your franchises, whereon you stood, confined The rest is labour, which is not used for you: Hot, hot, and moist: this hand of yours requires Why might not\""
      ]
     },
     "execution_count": 15,
     "metadata": {},
     "output_type": "execute_result"
    }
   ],
   "source": [
    "lines = dfShakespeare['PlayerLine'].tolist()\n",
    "lines = ' '.join(lines)\n",
    "lines[:500]"
   ]
  },
  {
   "cell_type": "markdown",
   "id": "1dd9ecaa",
   "metadata": {},
   "source": [
    "Tokenization"
   ]
  },
  {
   "cell_type": "code",
   "execution_count": 16,
   "id": "b03eef2c",
   "metadata": {},
   "outputs": [],
   "source": [
    "shakespearWritings = lines.split()"
   ]
  },
  {
   "cell_type": "markdown",
   "id": "450e7abe",
   "metadata": {},
   "source": [
    "Zipf's Law"
   ]
  },
  {
   "cell_type": "code",
   "execution_count": 17,
   "id": "f9dc41d4",
   "metadata": {},
   "outputs": [],
   "source": [
    "word_counts = Counter(shakespearWritings)\n",
    "# Sort the words by frequency\n",
    "sorted_word_counts = word_counts.most_common()\n",
    "word_ranks = range(1, len(sorted_word_counts) + 1)\n",
    "word_frequencies = [count for word, count in sorted_word_counts]\n"
   ]
  },
  {
   "cell_type": "markdown",
   "id": "7020ce89",
   "metadata": {},
   "source": [
    "Plot"
   ]
  },
  {
   "cell_type": "code",
   "execution_count": 19,
   "id": "eb9fca46",
   "metadata": {},
   "outputs": [
    {
     "data": {
      "image/png": "[encoded data removed]",
      "text/plain": [
       "<Figure size 500x500 with 1 Axes>"
      ]
     },
     "metadata": {},
     "output_type": "display_data"
    }
   ],
   "source": [
    "plt.figure(figsize=(5, 5))\n",
    "plt.loglog(word_ranks, word_frequencies, marker='o', markersize=2)\n",
    "plt.title(\"Zipf's Law: Frequency of Words in Shakespeare's Writings\")\n",
    "plt.xlabel(\"Rank\")\n",
    "plt.ylabel(\"Frequency\")\n",
    "plt.axis('equal')\n",
    "plt.show()"
   ]
  },
  {
   "cell_type": "markdown",
   "id": "04d341aa",
   "metadata": {},
   "source": [
    "Zipf's Law Exponent"
   ]
  },
  {
   "cell_type": "code",
   "execution_count": 20,
   "id": "1ec43cdb",
   "metadata": {},
   "outputs": [
    {
     "name": "stdout",
     "output_type": "stream",
     "text": [
      "Estimated Zipf exponent in Shakespear's writings: 1.14\n"
     ]
    }
   ],
   "source": [
    "log_word_ranks = np.log(word_ranks)\n",
    "log_word_freqs = np.log(word_frequencies)\n",
    "word_coeffs = np.polyfit(log_word_ranks, log_word_freqs, 1)\n",
    "word_slope = word_coeffs[0]\n",
    "print(f\"Estimated Zipf exponent in Shakespear's writings: {abs(word_slope):.2f}\")"
   ]
  },
  {
   "cell_type": "markdown",
   "id": "525fcc82",
   "metadata": {},
   "source": [
    "Compare on the same plot the chess plot and the Shakespear one"
   ]
  },
  {
   "cell_type": "code",
   "execution_count": 22,
   "id": "dbb9035b",
   "metadata": {},
   "outputs": [
    {
     "data": {
      "image/png": "[encoded data removed]",
      "text/plain": [
       "<Figure size 1000x500 with 1 Axes>"
      ]
     },
     "metadata": {},
     "output_type": "display_data"
    }
   ],
   "source": [
    "#Compare on the same plot the chess plot and the Shakespear one\n",
    "plt.figure(figsize=(10, 5))\n",
    "plt.loglog(move_ranks, move_frequencies, marker='o', label=\"Chess Moves\", markersize=2)\n",
    "plt.loglog(word_ranks, word_frequencies, marker='o', label=\"Shakespeare Words\", markersize=2)\n",
    "plt.title(\"Zipf's Law: Frequency of Chess Moves vs. Words in Shakespeare's Writings\")\n",
    "plt.xlabel(\"Rank\")\n",
    "plt.ylabel(\"Frequency\")\n",
    "plt.legend()\n",
    "plt.axis('equal')\n",
    "plt.show()"
   ]
  },
  {
   "cell_type": "markdown",
   "id": "8a80416f",
   "metadata": {},
   "source": [
    "## Zipf's Law for the moves depending on phase of the game"
   ]
  },
  {
   "cell_type": "markdown",
   "id": "e13fae44",
   "metadata": {},
   "source": [
    "Divide the moves in:\n",
    "- 10%: opening\n",
    "- 30%:  midgame\n",
    "- 31+: endgame"
   ]
  },
  {
   "cell_type": "code",
   "execution_count": 25,
   "id": "b2d12b7a",
   "metadata": {},
   "outputs": [],
   "source": [
    "openingLimit = len_games*0.1\n",
    "midgameLimit = len_games*0.3\n",
    "endgameLimit = len_games.apply(lambda x:max(x, 31))"
   ]
  },
  {
   "cell_type": "code",
   "execution_count": 28,
   "id": "732c0467",
   "metadata": {},
   "outputs": [
    {
     "data": {
      "text/html": [
       "<div>\n",
       "<style scoped>\n",
       "    .dataframe tbody tr th:only-of-type {\n",
       "        vertical-align: middle;\n",
       "    }\n",
       "\n",
       "    .dataframe tbody tr th {\n",
       "        vertical-align: top;\n",
       "    }\n",
       "\n",
       "    .dataframe thead th {\n",
       "        text-align: right;\n",
       "    }\n",
       "</style>\n",
       "<table border=\"1\" class=\"dataframe\">\n",
       "  <thead>\n",
       "    <tr style=\"text-align: right;\">\n",
       "      <th></th>\n",
       "      <th>Moves</th>\n",
       "      <th>Termination</th>\n",
       "      <th>Result</th>\n",
       "      <th>pieces</th>\n",
       "      <th>captures</th>\n",
       "      <th>checks</th>\n",
       "      <th>next_moves</th>\n",
       "      <th>termination_seqs</th>\n",
       "      <th>result_seqs</th>\n",
       "      <th>__index_level_0__</th>\n",
       "      <th>moves</th>\n",
       "      <th>Opening</th>\n",
       "      <th>Midgame</th>\n",
       "      <th>Endgame</th>\n",
       "    </tr>\n",
       "  </thead>\n",
       "  <tbody>\n",
       "    <tr>\n",
       "      <th>0</th>\n",
       "      <td>[e2e4, g7g6, g1f3, f8g7, d2d4, d7d6, f1d3, e7e...</td>\n",
       "      <td>CHECKMATE</td>\n",
       "      <td>1-0</td>\n",
       "      <td>[p, p, n, b, p, p, b, p, b, n, p, p, n, p, b, ...</td>\n",
       "      <td>[, , , , , , , , , , p, p, , , , , , , , , p, ...</td>\n",
       "      <td>[False, False, False, False, False, False, Fal...</td>\n",
       "      <td>[g7g6, g1f3, f8g7, d2d4, d7d6, f1d3, e7e5, c1g...</td>\n",
       "      <td>[CHECKMATE, CHECKMATE, CHECKMATE, CHECKMATE, C...</td>\n",
       "      <td>[1-0, 1-0, 1-0, 1-0, 1-0, 1-0, 1-0, 1-0, 1-0, ...</td>\n",
       "      <td>75721</td>\n",
       "      <td>[e2e4, g7g6, g1f3, f8g7]</td>\n",
       "      <td>[e2e4, g7g6, g1f3, f8g7, d2d4, d7d6, f1d3, e7e...</td>\n",
       "      <td>[d1d2, c6d4, d3c4, c8h3, f3e5, g7e5, f2f4, h3e...</td>\n",
       "      <td>[b2b3, c4e6, b6f2, h8d8, c2c4, d7d2, f4d2, d8d...</td>\n",
       "    </tr>\n",
       "    <tr>\n",
       "      <th>1</th>\n",
       "      <td>[e2e4, c7c6, d2d3, d7d6, g2g3, g8f6, h2h4, e7e...</td>\n",
       "      <td>CHECKMATE</td>\n",
       "      <td>0-1</td>\n",
       "      <td>[p, p, p, p, p, n, p, p, b, p, n, p, n, p, n, ...</td>\n",
       "      <td>[, , , , , , , , , , , , , , , , , , , , , , ,...</td>\n",
       "      <td>[False, False, False, False, False, False, Fal...</td>\n",
       "      <td>[c7c6, d2d3, d7d6, g2g3, g8f6, h2h4, e7e5, f1g...</td>\n",
       "      <td>[CHECKMATE, CHECKMATE, CHECKMATE, CHECKMATE, C...</td>\n",
       "      <td>[0-1, 0-1, 0-1, 0-1, 0-1, 0-1, 0-1, 0-1, 0-1, ...</td>\n",
       "      <td>80184</td>\n",
       "      <td>[e2e4, c7c6, d2d3, d7d6]</td>\n",
       "      <td>[e2e4, c7c6, d2d3, d7d6, g2g3, g8f6, h2h4, e7e...</td>\n",
       "      <td>[a7a5, b1d2, a5a4, g2h3, b7b5, d2f3, b8d7, g3g...</td>\n",
       "      <td>[f2f3, g4e3, c1e3, d4e3, d1e2, c4d3, c2d3, c5b...</td>\n",
       "    </tr>\n",
       "    <tr>\n",
       "      <th>2</th>\n",
       "      <td>[e2e4, c7c5, g1f3, d7d6, d2d4, c5d4, f3d4, g8f...</td>\n",
       "      <td>INSUFFICIENT_MATERIAL</td>\n",
       "      <td>1/2-1/2</td>\n",
       "      <td>[p, p, n, p, p, p, n, n, n, p, b, p, p, q, p, ...</td>\n",
       "      <td>[, , , , , p, p, , , , , , , , , , , , , , , q...</td>\n",
       "      <td>[False, False, False, False, False, False, Fal...</td>\n",
       "      <td>[c7c5, g1f3, d7d6, d2d4, c5d4, f3d4, g8f6, b1c...</td>\n",
       "      <td>[INSUFFICIENT_MATERIAL, INSUFFICIENT_MATERIAL,...</td>\n",
       "      <td>[1/2-1/2, 1/2-1/2, 1/2-1/2, 1/2-1/2, 1/2-1/2, ...</td>\n",
       "      <td>19864</td>\n",
       "      <td>[e2e4, c7c5, g1f3, d7d6]</td>\n",
       "      <td>[e2e4, c7c5, g1f3, d7d6, d2d4, c5d4, f3d4, g8f...</td>\n",
       "      <td>[e8c8, h4h5, h8g8, h5h6, g7f6, g2g4, b8c6, d4e...</td>\n",
       "      <td>[e4f5, g6f5, a7d7, b4a4, f2f3, a4a3, f3f2, a3a...</td>\n",
       "    </tr>\n",
       "    <tr>\n",
       "      <th>3</th>\n",
       "      <td>[d2d4, d7d6, g1f3, g8f6, c2c4, g7g6, e2e3, f8g...</td>\n",
       "      <td>CHECKMATE</td>\n",
       "      <td>0-1</td>\n",
       "      <td>[p, p, n, n, p, p, p, b, n, p, b, k, p, p, p, ...</td>\n",
       "      <td>[, , , , , , , , , , , , , , p, p, q, q, p, , ...</td>\n",
       "      <td>[False, False, False, False, False, False, Fal...</td>\n",
       "      <td>[d7d6, g1f3, g8f6, c2c4, g7g6, e2e3, f8g7, b1c...</td>\n",
       "      <td>[CHECKMATE, CHECKMATE, CHECKMATE, CHECKMATE, C...</td>\n",
       "      <td>[0-1, 0-1, 0-1, 0-1, 0-1, 0-1, 0-1, 0-1, 0-1, ...</td>\n",
       "      <td>76699</td>\n",
       "      <td>[d2d4, d7d6, g1f3, g8f6]</td>\n",
       "      <td>[d2d4, d7d6, g1f3, g8f6, c2c4, g7g6, e2e3, f8g...</td>\n",
       "      <td>[h2h3, e7e5, d4e5, d6e5, d1d8, f8d8, f3e5, b8a...</td>\n",
       "      <td>[e6c4, d3e5, c4b5, c3c4, b5a4, d1d3, f7f6, d3a...</td>\n",
       "    </tr>\n",
       "    <tr>\n",
       "      <th>4</th>\n",
       "      <td>[e2e4, g7g6, d2d4, d7d5, e4e5, c7c5, d4c5, f8g...</td>\n",
       "      <td>CHECKMATE</td>\n",
       "      <td>0-1</td>\n",
       "      <td>[p, p, p, p, p, p, p, b, b, p, n, n, b, b, q, ...</td>\n",
       "      <td>[, , , , , , p, , , , , , , , , n, b, p, p, , ...</td>\n",
       "      <td>[False, False, False, False, False, False, Fal...</td>\n",
       "      <td>[g7g6, d2d4, d7d5, e4e5, c7c5, d4c5, f8g7, c1f...</td>\n",
       "      <td>[CHECKMATE, CHECKMATE, CHECKMATE, CHECKMATE, C...</td>\n",
       "      <td>[0-1, 0-1, 0-1, 0-1, 0-1, 0-1, 0-1, 0-1, 0-1, ...</td>\n",
       "      <td>92991</td>\n",
       "      <td>[e2e4, g7g6, d2d4, d7d5]</td>\n",
       "      <td>[e2e4, g7g6, d2d4, d7d5, e4e5, c7c5, d4c5, f8g...</td>\n",
       "      <td>[g2f3, f6e5, f4e5, g8f6, b1d2, e8g8, b5c6, b7c...</td>\n",
       "      <td>[g2f3, e3f3, f6f3, d1d6, f3f2, b2b3, f8g6, e5e...</td>\n",
       "    </tr>\n",
       "  </tbody>\n",
       "</table>\n",
       "</div>"
      ],
      "text/plain": [
       "                                               Moves            Termination  \\\n",
       "0  [e2e4, g7g6, g1f3, f8g7, d2d4, d7d6, f1d3, e7e...              CHECKMATE   \n",
       "1  [e2e4, c7c6, d2d3, d7d6, g2g3, g8f6, h2h4, e7e...              CHECKMATE   \n",
       "2  [e2e4, c7c5, g1f3, d7d6, d2d4, c5d4, f3d4, g8f...  INSUFFICIENT_MATERIAL   \n",
       "3  [d2d4, d7d6, g1f3, g8f6, c2c4, g7g6, e2e3, f8g...              CHECKMATE   \n",
       "4  [e2e4, g7g6, d2d4, d7d5, e4e5, c7c5, d4c5, f8g...              CHECKMATE   \n",
       "\n",
       "    Result                                             pieces  \\\n",
       "0      1-0  [p, p, n, b, p, p, b, p, b, n, p, p, n, p, b, ...   \n",
       "1      0-1  [p, p, p, p, p, n, p, p, b, p, n, p, n, p, n, ...   \n",
       "2  1/2-1/2  [p, p, n, p, p, p, n, n, n, p, b, p, p, q, p, ...   \n",
       "3      0-1  [p, p, n, n, p, p, p, b, n, p, b, k, p, p, p, ...   \n",
       "4      0-1  [p, p, p, p, p, p, p, b, b, p, n, n, b, b, q, ...   \n",
       "\n",
       "                                            captures  \\\n",
       "0  [, , , , , , , , , , p, p, , , , , , , , , p, ...   \n",
       "1  [, , , , , , , , , , , , , , , , , , , , , , ,...   \n",
       "2  [, , , , , p, p, , , , , , , , , , , , , , , q...   \n",
       "3  [, , , , , , , , , , , , , , p, p, q, q, p, , ...   \n",
       "4  [, , , , , , p, , , , , , , , , n, b, p, p, , ...   \n",
       "\n",
       "                                              checks  \\\n",
       "0  [False, False, False, False, False, False, Fal...   \n",
       "1  [False, False, False, False, False, False, Fal...   \n",
       "2  [False, False, False, False, False, False, Fal...   \n",
       "3  [False, False, False, False, False, False, Fal...   \n",
       "4  [False, False, False, False, False, False, Fal...   \n",
       "\n",
       "                                          next_moves  \\\n",
       "0  [g7g6, g1f3, f8g7, d2d4, d7d6, f1d3, e7e5, c1g...   \n",
       "1  [c7c6, d2d3, d7d6, g2g3, g8f6, h2h4, e7e5, f1g...   \n",
       "2  [c7c5, g1f3, d7d6, d2d4, c5d4, f3d4, g8f6, b1c...   \n",
       "3  [d7d6, g1f3, g8f6, c2c4, g7g6, e2e3, f8g7, b1c...   \n",
       "4  [g7g6, d2d4, d7d5, e4e5, c7c5, d4c5, f8g7, c1f...   \n",
       "\n",
       "                                    termination_seqs  \\\n",
       "0  [CHECKMATE, CHECKMATE, CHECKMATE, CHECKMATE, C...   \n",
       "1  [CHECKMATE, CHECKMATE, CHECKMATE, CHECKMATE, C...   \n",
       "2  [INSUFFICIENT_MATERIAL, INSUFFICIENT_MATERIAL,...   \n",
       "3  [CHECKMATE, CHECKMATE, CHECKMATE, CHECKMATE, C...   \n",
       "4  [CHECKMATE, CHECKMATE, CHECKMATE, CHECKMATE, C...   \n",
       "\n",
       "                                         result_seqs  __index_level_0__  \\\n",
       "0  [1-0, 1-0, 1-0, 1-0, 1-0, 1-0, 1-0, 1-0, 1-0, ...              75721   \n",
       "1  [0-1, 0-1, 0-1, 0-1, 0-1, 0-1, 0-1, 0-1, 0-1, ...              80184   \n",
       "2  [1/2-1/2, 1/2-1/2, 1/2-1/2, 1/2-1/2, 1/2-1/2, ...              19864   \n",
       "3  [0-1, 0-1, 0-1, 0-1, 0-1, 0-1, 0-1, 0-1, 0-1, ...              76699   \n",
       "4  [0-1, 0-1, 0-1, 0-1, 0-1, 0-1, 0-1, 0-1, 0-1, ...              92991   \n",
       "\n",
       "                      moves  \\\n",
       "0  [e2e4, g7g6, g1f3, f8g7]   \n",
       "1  [e2e4, c7c6, d2d3, d7d6]   \n",
       "2  [e2e4, c7c5, g1f3, d7d6]   \n",
       "3  [d2d4, d7d6, g1f3, g8f6]   \n",
       "4  [e2e4, g7g6, d2d4, d7d5]   \n",
       "\n",
       "                                             Opening  \\\n",
       "0  [e2e4, g7g6, g1f3, f8g7, d2d4, d7d6, f1d3, e7e...   \n",
       "1  [e2e4, c7c6, d2d3, d7d6, g2g3, g8f6, h2h4, e7e...   \n",
       "2  [e2e4, c7c5, g1f3, d7d6, d2d4, c5d4, f3d4, g8f...   \n",
       "3  [d2d4, d7d6, g1f3, g8f6, c2c4, g7g6, e2e3, f8g...   \n",
       "4  [e2e4, g7g6, d2d4, d7d5, e4e5, c7c5, d4c5, f8g...   \n",
       "\n",
       "                                             Midgame  \\\n",
       "0  [d1d2, c6d4, d3c4, c8h3, f3e5, g7e5, f2f4, h3e...   \n",
       "1  [a7a5, b1d2, a5a4, g2h3, b7b5, d2f3, b8d7, g3g...   \n",
       "2  [e8c8, h4h5, h8g8, h5h6, g7f6, g2g4, b8c6, d4e...   \n",
       "3  [h2h3, e7e5, d4e5, d6e5, d1d8, f8d8, f3e5, b8a...   \n",
       "4  [g2f3, f6e5, f4e5, g8f6, b1d2, e8g8, b5c6, b7c...   \n",
       "\n",
       "                                             Endgame  \n",
       "0  [b2b3, c4e6, b6f2, h8d8, c2c4, d7d2, f4d2, d8d...  \n",
       "1  [f2f3, g4e3, c1e3, d4e3, d1e2, c4d3, c2d3, c5b...  \n",
       "2  [e4f5, g6f5, a7d7, b4a4, f2f3, a4a3, f3f2, a3a...  \n",
       "3  [e6c4, d3e5, c4b5, c3c4, b5a4, d1d3, f7f6, d3a...  \n",
       "4  [g2f3, e3f3, f6f3, d1d6, f3f2, b2b3, f8g6, e5e...  "
      ]
     },
     "execution_count": 28,
     "metadata": {},
     "output_type": "execute_result"
    }
   ],
   "source": [
    "df['Opening'] = df.apply(lambda row: row['Moves'][:int(openingLimit.loc[row.name])], axis=1)\n",
    "df['Midgame'] = df.apply(lambda row: row['Moves'][int(openingLimit.loc[row.name]):int(midgameLimit.loc[row.name])], axis=1)\n",
    "df['Endgame'] = df.apply(lambda row: row['Moves'][int(midgameLimit.loc[row.name]):int(endgameLimit.loc[row.name])], axis=1)\n",
    "df.head()\n"
   ]
  },
  {
   "cell_type": "markdown",
   "id": "ac645546",
   "metadata": {},
   "source": [
    "Method to plot Zipf's Law for every phase"
   ]
  },
  {
   "cell_type": "code",
   "execution_count": 40,
   "id": "cf841442",
   "metadata": {},
   "outputs": [],
   "source": [
    "all_opening_moves = np.concatenate(df['Opening'].values)\n",
    "all_midgame_moves = np.concatenate(df['Midgame'].values)\n",
    "all_endgame_moves = np.concatenate(df['Endgame'].values)"
   ]
  },
  {
   "cell_type": "code",
   "execution_count": 42,
   "id": "7c9d19ff",
   "metadata": {},
   "outputs": [],
   "source": [
    "def zipf_plot(move_list, phase_name):\n",
    "    counter = Counter(move_list)\n",
    "    frequencies = np.array(sorted(counter.values(), reverse=True))\n",
    "    ranks = np.arange(1, len(frequencies) + 1)\n",
    "\n",
    "    plt.plot(np.log(ranks), np.log(frequencies), label=phase_name)\n",
    "    \n",
    "    coeffs = np.polyfit(np.log(ranks), np.log(frequencies), 1)\n",
    "    print(f\"{phase_name.capitalize()} Zipf exponent: {-coeffs[0]:.2f}\")"
   ]
  },
  {
   "cell_type": "code",
   "execution_count": 43,
   "id": "74bcbd6e",
   "metadata": {},
   "outputs": [
    {
     "name": "stdout",
     "output_type": "stream",
     "text": [
      "Opening Zipf exponent: 2.16\n",
      "Midgame Zipf exponent: 1.44\n",
      "Endgame Zipf exponent: 1.18\n"
     ]
    },
    {
     "data": {
      "image/png": "[encoded data removed]",
      "text/plain": [
       "<Figure size 500x500 with 1 Axes>"
      ]
     },
     "metadata": {},
     "output_type": "display_data"
    }
   ],
   "source": [
    "plt.figure(figsize=(5, 5))\n",
    "\n",
    "zipf_plot(all_opening_moves, \"Opening\")\n",
    "zipf_plot(all_midgame_moves, \"Midgame\")\n",
    "zipf_plot(all_endgame_moves, \"Endgame\")\n",
    "\n",
    "plt.title(\"Zipf's Law Across Game Phases\")\n",
    "plt.xlabel(\"Rank\")\n",
    "plt.ylabel(\"Frequency\")\n",
    "plt.legend()\n",
    "plt.show()"
   ]
  },
  {
   "cell_type": "markdown",
   "id": "b9a33249",
   "metadata": {},
   "source": [
    "At this point, since the exponent it's higher in the opening phase due to openings, it is interesting to investigate when the exponent gets close to one during games to try to find the lenght of openings (if the  exponent is close to one there are no few prevalent elements)."
   ]
  },
  {
   "cell_type": "code",
   "execution_count": 45,
   "id": "20f83e7e",
   "metadata": {},
   "outputs": [
    {
     "name": "stderr",
     "output_type": "stream",
     "text": [
      "100%|██████████| 833/833 [00:21<00:00, 38.78it/s]\n"
     ]
    }
   ],
   "source": [
    "def computeZipfExponentPerMoveNumber(df, move_number):\n",
    "    moves = df['Moves'].apply(lambda x: x[move_number-1] if len(x) >= move_number else None)\n",
    "    moves = moves.dropna()\n",
    "    move_counts = Counter(moves)\n",
    "    sorted_move_counts = move_counts.most_common()\n",
    "    move_ranks = range(1, len(sorted_move_counts) + 1)\n",
    "    move_frequencies = [count for move, count in sorted_move_counts]\n",
    "    log_move_ranks = np.log(move_ranks)\n",
    "    log_move_freqs = np.log(move_frequencies)\n",
    "    move_coeffs = np.polyfit(log_move_ranks, log_move_freqs, 1)\n",
    "    move_slope = move_coeffs[0]\n",
    "    return abs(move_slope)\n",
    "\n",
    "maxLegths = max(len_games)\n",
    "zipf_exponents = []\n",
    "for move_number in tqdm.tqdm(range(1, maxLegths + 1)):\n",
    "    exponent = computeZipfExponentPerMoveNumber(df, move_number)\n",
    "    zipf_exponents.append(exponent)"
   ]
  },
  {
   "cell_type": "markdown",
   "id": "23e82170",
   "metadata": {},
   "source": [
    "Source for Zipf's Law exponent for natural languages: [here](https://www.sciencedirect.com/science/article/pii/S0375960117305388)"
   ]
  },
  {
   "cell_type": "code",
   "execution_count": 51,
   "id": "b68fc1d0",
   "metadata": {},
   "outputs": [
    {
     "data": {
      "image/png": "[encoded data removed]",
      "text/plain": [
       "<Figure size 1000x500 with 1 Axes>"
      ]
     },
     "metadata": {},
     "output_type": "display_data"
    }
   ],
   "source": [
    "#Plot the Zipf exponents\n",
    "plt.figure(figsize=(10, 5))\n",
    "plt.plot(range(1, maxLegths + 1), zipf_exponents, markersize=2)\n",
    "plt.title(\"Zipf Exponent per Move Number\")\n",
    "plt.xlabel(\"Move Number\")\n",
    "plt.ylabel(\"Zipf Exponent\")\n",
    "plt.axhspan(0.77, 1.44, color='green', alpha=0.2, label='Natural Language-like (Exponent ≈ 1)')\n",
    "plt.legend()\n",
    "plt.show()"
   ]
  },
  {
   "cell_type": "code",
   "execution_count": 19,
   "id": "b4de1ca4",
   "metadata": {},
   "outputs": [],
   "source": [
    "df = pd.read_sql_query(\"SELECT game_id, move_number, move FROM moves\", conn)\n"
   ]
  },
  {
   "cell_type": "code",
   "execution_count": 20,
   "id": "22275a14",
   "metadata": {},
   "outputs": [],
   "source": [
    "#count the number of moves in each game\n",
    "df['move_count'] = df.groupby('game_id')['move'].transform('count')\n",
    "df['move_count'] = df['move_count'].astype(int)"
   ]
  },
  {
   "cell_type": "code",
   "execution_count": 21,
   "id": "50a034e9",
   "metadata": {},
   "outputs": [
    {
     "data": {
      "text/html": [
       "<div>\n",
       "<style scoped>\n",
       "    .dataframe tbody tr th:only-of-type {\n",
       "        vertical-align: middle;\n",
       "    }\n",
       "\n",
       "    .dataframe tbody tr th {\n",
       "        vertical-align: top;\n",
       "    }\n",
       "\n",
       "    .dataframe thead th {\n",
       "        text-align: right;\n",
       "    }\n",
       "</style>\n",
       "<table border=\"1\" class=\"dataframe\">\n",
       "  <thead>\n",
       "    <tr style=\"text-align: right;\">\n",
       "      <th></th>\n",
       "      <th>game_id</th>\n",
       "      <th>move_count</th>\n",
       "    </tr>\n",
       "  </thead>\n",
       "  <tbody>\n",
       "    <tr>\n",
       "      <th>0</th>\n",
       "      <td>1</td>\n",
       "      <td>198</td>\n",
       "    </tr>\n",
       "    <tr>\n",
       "      <th>198</th>\n",
       "      <td>2</td>\n",
       "      <td>147</td>\n",
       "    </tr>\n",
       "    <tr>\n",
       "      <th>345</th>\n",
       "      <td>3</td>\n",
       "      <td>118</td>\n",
       "    </tr>\n",
       "    <tr>\n",
       "      <th>463</th>\n",
       "      <td>4</td>\n",
       "      <td>267</td>\n",
       "    </tr>\n",
       "    <tr>\n",
       "      <th>730</th>\n",
       "      <td>5</td>\n",
       "      <td>237</td>\n",
       "    </tr>\n",
       "    <tr>\n",
       "      <th>...</th>\n",
       "      <td>...</td>\n",
       "      <td>...</td>\n",
       "    </tr>\n",
       "    <tr>\n",
       "      <th>18951038</th>\n",
       "      <td>99996</td>\n",
       "      <td>163</td>\n",
       "    </tr>\n",
       "    <tr>\n",
       "      <th>18951201</th>\n",
       "      <td>99997</td>\n",
       "      <td>171</td>\n",
       "    </tr>\n",
       "    <tr>\n",
       "      <th>18951372</th>\n",
       "      <td>99998</td>\n",
       "      <td>82</td>\n",
       "    </tr>\n",
       "    <tr>\n",
       "      <th>18951454</th>\n",
       "      <td>99999</td>\n",
       "      <td>150</td>\n",
       "    </tr>\n",
       "    <tr>\n",
       "      <th>18951604</th>\n",
       "      <td>100000</td>\n",
       "      <td>129</td>\n",
       "    </tr>\n",
       "  </tbody>\n",
       "</table>\n",
       "<p>100000 rows × 2 columns</p>\n",
       "</div>"
      ],
      "text/plain": [
       "          game_id  move_count\n",
       "0               1         198\n",
       "198             2         147\n",
       "345             3         118\n",
       "463             4         267\n",
       "730             5         237\n",
       "...           ...         ...\n",
       "18951038    99996         163\n",
       "18951201    99997         171\n",
       "18951372    99998          82\n",
       "18951454    99999         150\n",
       "18951604   100000         129\n",
       "\n",
       "[100000 rows x 2 columns]"
      ]
     },
     "execution_count": 21,
     "metadata": {},
     "output_type": "execute_result"
    }
   ],
   "source": [
    "df.drop_duplicates(subset=['game_id', 'move_count'], inplace=True)\n",
    "df.drop(columns=['move_number', 'move'], inplace=True)\n",
    "df"
   ]
  }
 ],
 "metadata": {
  "kernelspec": {
   "display_name": "Python 3",
   "language": "python",
   "name": "python3"
  },
  "language_info": {
   "codemirror_mode": {
    "name": "ipython",
    "version": 3
   },
   "file_extension": ".py",
   "mimetype": "text/x-python",
   "name": "python",
   "nbconvert_exporter": "python",
   "pygments_lexer": "ipython3",
   "version": "3.11.12"
  }
 },
 "nbformat": 4,
 "nbformat_minor": 5
}
