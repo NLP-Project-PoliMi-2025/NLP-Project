{
 "cells": [
  {
   "cell_type": "code",
   "execution_count": null,
   "id": "25c80eee",
   "metadata": {},
   "outputs": [],
   "source": [
    "!pip install datasets"
   ]
  },
  {
   "cell_type": "code",
   "execution_count": 2,
   "id": "6015aafb",
   "metadata": {},
   "outputs": [],
   "source": [
    "from datasets import load_dataset\n",
    "# \n",
    "# Login using e.g. `huggingface-cli login` to access this dataset\n",
    "ds = load_dataset(\"PaoloGinefra03/ChessGamesForNlp\")"
   ]
  },
  {
   "cell_type": "markdown",
   "id": "83fdddec",
   "metadata": {},
   "source": [
    "#### Zipf's Law\n",
    "The goal with Zipf`s Law was to identify how much the **chess language** (moves language) is related to a \"classic\" natural language.\n",
    "\n",
    "In order to do that a comparison was made between the chess dataset and a dataset containing the plays of Shakespear (it should be a good representation of english language), to understand if the sequence of moves in chess could be identified as Natural Language\n",
    "\n",
    "The Zipf`s Law is defined as: \n",
    "\n",
    "$f(r) = \\frac{C}{r^s}$\n",
    "\n",
    "where f(r) is the frequency of the word at rank r, C is a constant, and s is the Zipf`s exponent.\n",
    "\n",
    "The Zipf's exponent is useful to answer the question proposed since:\n",
    "\n",
    "- if **s<1**: The distribution flattens. Frequencies are more evenly spread across ranks, indicating a more uniform distribution of items.\n",
    "- if **s=1**: The classic Zipfian case. The second-ranked item occurs half as frequently as the first, and so on. This implies that a few words are extremely common, and many are rare. The classic natural languages are usually Zipfian.\n",
    "- if **s>1**: The distribution is steeper.\n",
    "    High-ranked items dominate, and lower-ranked items become significantly rare. \n",
    "    This suggests a system where a few elements are overwhelmingly prevalent."
   ]
  },
  {
   "cell_type": "code",
   "execution_count": null,
   "id": "c4689354",
   "metadata": {},
   "outputs": [],
   "source": []
  }
 ],
 "metadata": {
  "kernelspec": {
   "display_name": "nlp",
   "language": "python",
   "name": "python3"
  },
  "language_info": {
   "codemirror_mode": {
    "name": "ipython",
    "version": 3
   },
   "file_extension": ".py",
   "mimetype": "text/x-python",
   "name": "python",
   "nbconvert_exporter": "python",
   "pygments_lexer": "ipython3",
   "version": "3.12.9"
  }
 },
 "nbformat": 4,
 "nbformat_minor": 5
}
