{
 "cells": [
  {
   "cell_type": "code",
   "execution_count": null,
   "id": "a7067667",
   "metadata": {},
   "outputs": [
    {
     "name": "stderr",
     "output_type": "stream",
     "text": [
      "Load games into DB (1/1): 100%|██████████| 100000/100000 [12:16<00:00, 135.78it/s]\n"
     ]
    }
   ],
   "source": [
    "from scripts.db_utils import create_chess_db\n",
    "\n",
    "create_chess_db(\"data/chess_games_1.db\", [\"data/chess_game_0001.parquet\"], 100_000)"
   ]
  },
  {
   "cell_type": "code",
   "execution_count": null,
   "id": "8fbd559e",
   "metadata": {},
   "outputs": [
    {
     "data": {
      "application/vnd.microsoft.datawrangler.viewer.v0+json": {
       "columns": [
        {
         "name": "index",
         "rawType": "int64",
         "type": "integer"
        },
        {
         "name": "board_fen",
         "rawType": "object",
         "type": "string"
        }
       ],
       "conversionMethod": "pd.DataFrame",
       "ref": "0ca1992d-0dc9-41e8-ab87-9b2e694264c9",
       "rows": [
        [
         "0",
         "rnbqkbnr/pppppppp/8/8/8/8/PPPPPPPP/RNBQKBNR w KQkq - 0 1"
        ],
        [
         "1",
         "rnbqkbnr/pppppppp/8/8/3P4/8/PPP1PPPP/RNBQKBNR b KQkq - 0 1"
        ],
        [
         "2",
         "rnbqkb1r/pppppppp/5n2/8/3P4/8/PPP1PPPP/RNBQKBNR w KQkq - 1 2"
        ],
        [
         "3",
         "rnbqkb1r/pppppppp/5n2/8/2PP4/8/PP2PPPP/RNBQKBNR b KQkq - 0 2"
        ],
        [
         "4",
         "rnbqkb1r/pppppp1p/5np1/8/2PP4/8/PP2PPPP/RNBQKBNR w KQkq - 0 3"
        ],
        [
         "5",
         "rnbqkb1r/pppppp1p/5np1/8/2PP4/2N5/PP2PPPP/R1BQKBNR b KQkq - 1 3"
        ],
        [
         "6",
         "rnbqk2r/ppppppbp/5np1/8/2PP4/2N5/PP2PPPP/R1BQKBNR w KQkq - 2 4"
        ],
        [
         "7",
         "rnbqk2r/ppppppbp/5np1/8/2PPP3/2N5/PP3PPP/R1BQKBNR b KQkq - 0 4"
        ],
        [
         "8",
         "rnbqk2r/ppp1ppbp/3p1np1/8/2PPP3/2N5/PP3PPP/R1BQKBNR w KQkq - 0 5"
        ],
        [
         "9",
         "rnbqk2r/ppp1ppbp/3p1np1/8/2PPP3/2N5/PP2BPPP/R1BQK1NR b KQkq - 1 5"
        ],
        [
         "10",
         "r1bqk2r/pppnppbp/3p1np1/8/2PPP3/2N5/PP2BPPP/R1BQK1NR w KQkq - 2 6"
        ],
        [
         "11",
         "r1bqk2r/pppnppbp/3p1np1/8/2PPP2P/2N5/PP2BPP1/R1BQK1NR b KQkq - 0 6"
        ],
        [
         "12",
         "r1bqk2r/pppnppb1/3p1npp/8/2PPP2P/2N5/PP2BPP1/R1BQK1NR w KQkq - 0 7"
        ],
        [
         "13",
         "r1bqk2r/pppnppb1/3p1npp/8/2PPP2P/2N4N/PP2BPP1/R1BQK2R b KQkq - 1 7"
        ],
        [
         "14",
         "r1bqk2r/pppn1pb1/3p1npp/4p3/2PPP2P/2N4N/PP2BPP1/R1BQK2R w KQkq - 0 8"
        ],
        [
         "15",
         "r1bqk2r/pppn1pb1/3p1npp/3Pp3/2P1P2P/2N4N/PP2BPP1/R1BQK2R b KQkq - 0 8"
        ],
        [
         "16",
         "r1bqk2r/ppp2pb1/3p1npp/2nPp3/2P1P2P/2N4N/PP2BPP1/R1BQK2R w KQkq - 1 9"
        ],
        [
         "17",
         "r1bqk2r/ppp2pb1/3p1npp/2nPp3/2P1P2P/2N4N/PPQ1BPP1/R1B1K2R b KQkq - 2 9"
        ],
        [
         "18",
         "r1bqk2r/1pp2pb1/p2p1npp/2nPp3/2P1P2P/2N4N/PPQ1BPP1/R1B1K2R w KQkq - 0 10"
        ],
        [
         "19",
         "r1bqk2r/1pp2pb1/p2p1npp/2nPp3/2P1P2P/2N1B2N/PPQ1BPP1/R3K2R b KQkq - 1 10"
        ],
        [
         "20",
         "r1bqk2r/1pp2pb1/p2p2pp/2nPp3/2P1P1nP/2N1B2N/PPQ1BPP1/R3K2R w KQkq - 2 11"
        ],
        [
         "21",
         "r1bqk2r/1pp2pb1/p2p2pp/2nPp3/2P1P1BP/2N1B2N/PPQ2PP1/R3K2R b KQkq - 0 11"
        ],
        [
         "22",
         "r2qk2r/1pp2pb1/p2p2pp/2nPp3/2P1P1bP/2N1B2N/PPQ2PP1/R3K2R w KQkq - 0 12"
        ],
        [
         "23",
         "r2qk2r/1pp2pb1/p2p2pp/2nPp3/2P1P1bP/2N1BP1N/PPQ3P1/R3K2R b KQkq - 0 12"
        ],
        [
         "24",
         "r2qk2r/1pp2pb1/p2p2pp/2nPp3/2P1P2P/2N1BP1b/PPQ3P1/R3K2R w KQkq - 0 13"
        ],
        [
         "25",
         "r2qk2r/1pp2pb1/p2p2pp/2nPp3/2P1P2P/2N1BP1R/PPQ3P1/R3K3 b Qkq - 0 13"
        ],
        [
         "26",
         "r2qk2r/1pp2pb1/p2p2p1/2nPp2p/2P1P2P/2N1BP1R/PPQ3P1/R3K3 w Qkq - 0 14"
        ],
        [
         "27",
         "r2qk2r/1pp2pb1/p2p2p1/2nPp2p/1PP1P2P/2N1BP1R/P1Q3P1/R3K3 b Qkq - 0 14"
        ],
        [
         "28",
         "r2qk2r/1ppn1pb1/p2p2p1/3Pp2p/1PP1P2P/2N1BP1R/P1Q3P1/R3K3 w Qkq - 1 15"
        ],
        [
         "29",
         "r2qk2r/1ppn1pb1/p2p2p1/2PPp2p/1P2P2P/2N1BP1R/P1Q3P1/R3K3 b Qkq - 0 15"
        ],
        [
         "30",
         "r2qk2r/1ppn1p2/p2p2pb/2PPp2p/1P2P2P/2N1BP1R/P1Q3P1/R3K3 w Qkq - 1 16"
        ],
        [
         "31",
         "r2qk2r/1ppn1p2/p2p2pB/2PPp2p/1P2P2P/2N2P1R/P1Q3P1/R3K3 b Qkq - 0 16"
        ],
        [
         "32",
         "r2qk3/1ppn1p2/p2p2pr/2PPp2p/1P2P2P/2N2P1R/P1Q3P1/R3K3 w Qq - 0 17"
        ],
        [
         "33",
         "r2qk3/1ppn1p2/p1Pp2pr/3Pp2p/1P2P2P/2N2P1R/P1Q3P1/R3K3 b Qq - 0 17"
        ],
        [
         "34",
         "r2qk3/2pn1p2/p1pp2pr/3Pp2p/1P2P2P/2N2P1R/P1Q3P1/R3K3 w Qq - 0 18"
        ],
        [
         "35",
         "r2qk3/2pn1p2/p1Pp2pr/4p2p/1P2P2P/2N2P1R/P1Q3P1/R3K3 b Qq - 0 18"
        ],
        [
         "36",
         "r2qkn2/2p2p2/p1Pp2pr/4p2p/1P2P2P/2N2P1R/P1Q3P1/R3K3 w Qq - 1 19"
        ],
        [
         "37",
         "r2qkn2/2p2p2/p1Pp2pr/4p2p/1P2P2P/2N2P1R/P2Q2P1/R3K3 b Qq - 2 19"
        ],
        [
         "38",
         "r2qkn1r/2p2p2/p1Pp2p1/4p2p/1P2P2P/2N2P1R/P2Q2P1/R3K3 w Qq - 3 20"
        ],
        [
         "39",
         "r2qkn1r/2p2p2/p1Pp2p1/3Np2p/1P2P2P/5P1R/P2Q2P1/R3K3 b Qq - 4 20"
        ],
        [
         "40",
         "r2qk2r/2p2p2/p1Ppn1p1/3Np2p/1P2P2P/5P1R/P2Q2P1/R3K3 w Qq - 5 21"
        ],
        [
         "41",
         "r2qk2r/2p2p2/p1Ppn1p1/3Np2p/1P2P2P/2Q2P1R/P5P1/R3K3 b Qq - 6 21"
        ],
        [
         "42",
         "r2qk2r/2p2p2/p1Ppn3/3Np1pp/1P2P2P/2Q2P1R/P5P1/R3K3 w Qq - 0 22"
        ],
        [
         "43",
         "r2qk2r/2p2p2/p1Ppn3/3Np1pp/1P2P2P/2Q2PPR/P7/R3K3 b Qq - 0 22"
        ],
        [
         "44",
         "r2qk1r1/2p2p2/p1Ppn3/3Np1pp/1P2P2P/2Q2PPR/P7/R3K3 w Qq - 1 23"
        ],
        [
         "45",
         "r2qk1r1/2p2p2/p1Ppn3/3Np1pp/1P2P2P/2Q2PPR/P7/2KR4 b q - 2 23"
        ],
        [
         "46",
         "r2qk1r1/2p2p2/p1Ppn3/3Np2p/1P2P2p/2Q2PPR/P7/2KR4 w q - 0 24"
        ],
        [
         "47",
         "r2qk1r1/2p2p2/p1Ppn3/3Np2p/1P2P2R/2Q2PP1/P7/2KR4 b q - 0 24"
        ],
        [
         "48",
         "r2qk1r1/2p2p2/2Ppn3/p2Np2p/1P2P2R/2Q2PP1/P7/2KR4 w q - 0 25"
        ],
        [
         "49",
         "r2qk1r1/2p2p2/2Ppn3/pP1Np2p/4P2R/2Q2PP1/P7/2KR4 b q - 0 25"
        ]
       ],
       "shape": {
        "columns": 1,
        "rows": 9854144
       }
      },
      "text/html": [
       "<div>\n",
       "<style scoped>\n",
       "    .dataframe tbody tr th:only-of-type {\n",
       "        vertical-align: middle;\n",
       "    }\n",
       "\n",
       "    .dataframe tbody tr th {\n",
       "        vertical-align: top;\n",
       "    }\n",
       "\n",
       "    .dataframe thead th {\n",
       "        text-align: right;\n",
       "    }\n",
       "</style>\n",
       "<table border=\"1\" class=\"dataframe\">\n",
       "  <thead>\n",
       "    <tr style=\"text-align: right;\">\n",
       "      <th></th>\n",
       "      <th>board_fen</th>\n",
       "    </tr>\n",
       "  </thead>\n",
       "  <tbody>\n",
       "    <tr>\n",
       "      <th>0</th>\n",
       "      <td>rnbqkbnr/pppppppp/8/8/8/8/PPPPPPPP/RNBQKBNR w ...</td>\n",
       "    </tr>\n",
       "    <tr>\n",
       "      <th>1</th>\n",
       "      <td>rnbqkbnr/pppppppp/8/8/3P4/8/PPP1PPPP/RNBQKBNR ...</td>\n",
       "    </tr>\n",
       "    <tr>\n",
       "      <th>2</th>\n",
       "      <td>rnbqkb1r/pppppppp/5n2/8/3P4/8/PPP1PPPP/RNBQKBN...</td>\n",
       "    </tr>\n",
       "    <tr>\n",
       "      <th>3</th>\n",
       "      <td>rnbqkb1r/pppppppp/5n2/8/2PP4/8/PP2PPPP/RNBQKBN...</td>\n",
       "    </tr>\n",
       "    <tr>\n",
       "      <th>4</th>\n",
       "      <td>rnbqkb1r/pppppp1p/5np1/8/2PP4/8/PP2PPPP/RNBQKB...</td>\n",
       "    </tr>\n",
       "    <tr>\n",
       "      <th>...</th>\n",
       "      <td>...</td>\n",
       "    </tr>\n",
       "    <tr>\n",
       "      <th>9854139</th>\n",
       "      <td>6k1/5p2/p2p3p/2pP2r1/4P3/3RP2P/1P3R1K/6r1 b - ...</td>\n",
       "    </tr>\n",
       "    <tr>\n",
       "      <th>9854140</th>\n",
       "      <td>6k1/5p2/p2p3p/2pP2r1/4P3/3RP2P/1P3R1K/4r3 w - ...</td>\n",
       "    </tr>\n",
       "    <tr>\n",
       "      <th>9854141</th>\n",
       "      <td>6k1/5p2/p2p3p/2pP2r1/4P3/1R2P2P/1P3R1K/4r3 b -...</td>\n",
       "    </tr>\n",
       "    <tr>\n",
       "      <th>9854142</th>\n",
       "      <td>6k1/5p2/p2p2rp/2pP4/4P3/1R2P2P/1P3R1K/4r3 w - ...</td>\n",
       "    </tr>\n",
       "    <tr>\n",
       "      <th>9854143</th>\n",
       "      <td>1R4k1/5p2/p2p2rp/2pP4/4P3/4P2P/1P3R1K/4r3 b - ...</td>\n",
       "    </tr>\n",
       "  </tbody>\n",
       "</table>\n",
       "<p>9854144 rows × 1 columns</p>\n",
       "</div>"
      ],
      "text/plain": [
       "                                                 board_fen\n",
       "0        rnbqkbnr/pppppppp/8/8/8/8/PPPPPPPP/RNBQKBNR w ...\n",
       "1        rnbqkbnr/pppppppp/8/8/3P4/8/PPP1PPPP/RNBQKBNR ...\n",
       "2        rnbqkb1r/pppppppp/5n2/8/3P4/8/PPP1PPPP/RNBQKBN...\n",
       "3        rnbqkb1r/pppppppp/5n2/8/2PP4/8/PP2PPPP/RNBQKBN...\n",
       "4        rnbqkb1r/pppppp1p/5np1/8/2PP4/8/PP2PPPP/RNBQKB...\n",
       "...                                                    ...\n",
       "9854139  6k1/5p2/p2p3p/2pP2r1/4P3/3RP2P/1P3R1K/6r1 b - ...\n",
       "9854140  6k1/5p2/p2p3p/2pP2r1/4P3/3RP2P/1P3R1K/4r3 w - ...\n",
       "9854141  6k1/5p2/p2p3p/2pP2r1/4P3/1R2P2P/1P3R1K/4r3 b -...\n",
       "9854142  6k1/5p2/p2p2rp/2pP4/4P3/1R2P2P/1P3R1K/4r3 w - ...\n",
       "9854143  1R4k1/5p2/p2p2rp/2pP4/4P3/4P2P/1P3R1K/4r3 b - ...\n",
       "\n",
       "[9854144 rows x 1 columns]"
      ]
     },
     "execution_count": 2,
     "metadata": {},
     "output_type": "execute_result"
    }
   ],
   "source": [
    "from scripts.db_utils import fetch_moves\n",
    "\n",
    "\n",
    "fetch_moves(\n",
    "    \"data/chess_test_10.db\", [(\"move_number\", \"<=\", 100)], columns=[\"board_fen\"]\n",
    ")"
   ]
  },
  {
   "cell_type": "code",
   "execution_count": null,
   "id": "e23ceb90",
   "metadata": {},
   "outputs": [
    {
     "data": {
      "application/vnd.microsoft.datawrangler.viewer.v0+json": {
       "columns": [
        {
         "name": "index",
         "rawType": "int64",
         "type": "integer"
        },
        {
         "name": "board_fen",
         "rawType": "object",
         "type": "string"
        },
        {
         "name": "move",
         "rawType": "object",
         "type": "string"
        },
        {
         "name": "game_id",
         "rawType": "int64",
         "type": "integer"
        },
        {
         "name": "move_number",
         "rawType": "int64",
         "type": "integer"
        }
       ],
       "conversionMethod": "pd.DataFrame",
       "ref": "11968b95-0edb-4fb0-b9ea-ec81c599ed35",
       "rows": [
        [
         "0",
         "rnbqkbnr/pppppppp/8/8/8/8/PPPPPPPP/RNBQKBNR w KQkq - 0 1",
         "d2d4",
         "1",
         "1"
        ],
        [
         "1",
         "rnbqkbnr/pppppppp/8/8/3P4/8/PPP1PPPP/RNBQKBNR b KQkq - 0 1",
         "g8f6",
         "1",
         "2"
        ],
        [
         "2",
         "rnbqkb1r/pppppppp/5n2/8/3P4/8/PPP1PPPP/RNBQKBNR w KQkq - 1 2",
         "c2c4",
         "1",
         "3"
        ],
        [
         "3",
         "rnbqkb1r/pppppppp/5n2/8/2PP4/8/PP2PPPP/RNBQKBNR b KQkq - 0 2",
         "g7g6",
         "1",
         "4"
        ],
        [
         "4",
         "rnbqkb1r/pppppp1p/5np1/8/2PP4/8/PP2PPPP/RNBQKBNR w KQkq - 0 3",
         "b1c3",
         "1",
         "5"
        ],
        [
         "5",
         "rnbqkb1r/pppppp1p/5np1/8/2PP4/2N5/PP2PPPP/R1BQKBNR b KQkq - 1 3",
         "f8g7",
         "1",
         "6"
        ],
        [
         "6",
         "rnbqk2r/ppppppbp/5np1/8/2PP4/2N5/PP2PPPP/R1BQKBNR w KQkq - 2 4",
         "e2e4",
         "1",
         "7"
        ],
        [
         "7",
         "rnbqk2r/ppppppbp/5np1/8/2PPP3/2N5/PP3PPP/R1BQKBNR b KQkq - 0 4",
         "d7d6",
         "1",
         "8"
        ],
        [
         "8",
         "rnbqk2r/ppp1ppbp/3p1np1/8/2PPP3/2N5/PP3PPP/R1BQKBNR w KQkq - 0 5",
         "f1e2",
         "1",
         "9"
        ],
        [
         "9",
         "rnbqk2r/ppp1ppbp/3p1np1/8/2PPP3/2N5/PP2BPPP/R1BQK1NR b KQkq - 1 5",
         "b8d7",
         "1",
         "10"
        ]
       ],
       "shape": {
        "columns": 4,
        "rows": 10
       }
      },
      "text/html": [
       "<div>\n",
       "<style scoped>\n",
       "    .dataframe tbody tr th:only-of-type {\n",
       "        vertical-align: middle;\n",
       "    }\n",
       "\n",
       "    .dataframe tbody tr th {\n",
       "        vertical-align: top;\n",
       "    }\n",
       "\n",
       "    .dataframe thead th {\n",
       "        text-align: right;\n",
       "    }\n",
       "</style>\n",
       "<table border=\"1\" class=\"dataframe\">\n",
       "  <thead>\n",
       "    <tr style=\"text-align: right;\">\n",
       "      <th></th>\n",
       "      <th>board_fen</th>\n",
       "      <th>move</th>\n",
       "      <th>game_id</th>\n",
       "      <th>move_number</th>\n",
       "    </tr>\n",
       "  </thead>\n",
       "  <tbody>\n",
       "    <tr>\n",
       "      <th>0</th>\n",
       "      <td>rnbqkbnr/pppppppp/8/8/8/8/PPPPPPPP/RNBQKBNR w ...</td>\n",
       "      <td>d2d4</td>\n",
       "      <td>1</td>\n",
       "      <td>1</td>\n",
       "    </tr>\n",
       "    <tr>\n",
       "      <th>1</th>\n",
       "      <td>rnbqkbnr/pppppppp/8/8/3P4/8/PPP1PPPP/RNBQKBNR ...</td>\n",
       "      <td>g8f6</td>\n",
       "      <td>1</td>\n",
       "      <td>2</td>\n",
       "    </tr>\n",
       "    <tr>\n",
       "      <th>2</th>\n",
       "      <td>rnbqkb1r/pppppppp/5n2/8/3P4/8/PPP1PPPP/RNBQKBN...</td>\n",
       "      <td>c2c4</td>\n",
       "      <td>1</td>\n",
       "      <td>3</td>\n",
       "    </tr>\n",
       "    <tr>\n",
       "      <th>3</th>\n",
       "      <td>rnbqkb1r/pppppppp/5n2/8/2PP4/8/PP2PPPP/RNBQKBN...</td>\n",
       "      <td>g7g6</td>\n",
       "      <td>1</td>\n",
       "      <td>4</td>\n",
       "    </tr>\n",
       "    <tr>\n",
       "      <th>4</th>\n",
       "      <td>rnbqkb1r/pppppp1p/5np1/8/2PP4/8/PP2PPPP/RNBQKB...</td>\n",
       "      <td>b1c3</td>\n",
       "      <td>1</td>\n",
       "      <td>5</td>\n",
       "    </tr>\n",
       "    <tr>\n",
       "      <th>5</th>\n",
       "      <td>rnbqkb1r/pppppp1p/5np1/8/2PP4/2N5/PP2PPPP/R1BQ...</td>\n",
       "      <td>f8g7</td>\n",
       "      <td>1</td>\n",
       "      <td>6</td>\n",
       "    </tr>\n",
       "    <tr>\n",
       "      <th>6</th>\n",
       "      <td>rnbqk2r/ppppppbp/5np1/8/2PP4/2N5/PP2PPPP/R1BQK...</td>\n",
       "      <td>e2e4</td>\n",
       "      <td>1</td>\n",
       "      <td>7</td>\n",
       "    </tr>\n",
       "    <tr>\n",
       "      <th>7</th>\n",
       "      <td>rnbqk2r/ppppppbp/5np1/8/2PPP3/2N5/PP3PPP/R1BQK...</td>\n",
       "      <td>d7d6</td>\n",
       "      <td>1</td>\n",
       "      <td>8</td>\n",
       "    </tr>\n",
       "    <tr>\n",
       "      <th>8</th>\n",
       "      <td>rnbqk2r/ppp1ppbp/3p1np1/8/2PPP3/2N5/PP3PPP/R1B...</td>\n",
       "      <td>f1e2</td>\n",
       "      <td>1</td>\n",
       "      <td>9</td>\n",
       "    </tr>\n",
       "    <tr>\n",
       "      <th>9</th>\n",
       "      <td>rnbqk2r/ppp1ppbp/3p1np1/8/2PPP3/2N5/PP2BPPP/R1...</td>\n",
       "      <td>b8d7</td>\n",
       "      <td>1</td>\n",
       "      <td>10</td>\n",
       "    </tr>\n",
       "  </tbody>\n",
       "</table>\n",
       "</div>"
      ],
      "text/plain": [
       "                                           board_fen  move  game_id  \\\n",
       "0  rnbqkbnr/pppppppp/8/8/8/8/PPPPPPPP/RNBQKBNR w ...  d2d4        1   \n",
       "1  rnbqkbnr/pppppppp/8/8/3P4/8/PPP1PPPP/RNBQKBNR ...  g8f6        1   \n",
       "2  rnbqkb1r/pppppppp/5n2/8/3P4/8/PPP1PPPP/RNBQKBN...  c2c4        1   \n",
       "3  rnbqkb1r/pppppppp/5n2/8/2PP4/8/PP2PPPP/RNBQKBN...  g7g6        1   \n",
       "4  rnbqkb1r/pppppp1p/5np1/8/2PP4/8/PP2PPPP/RNBQKB...  b1c3        1   \n",
       "5  rnbqkb1r/pppppp1p/5np1/8/2PP4/2N5/PP2PPPP/R1BQ...  f8g7        1   \n",
       "6  rnbqk2r/ppppppbp/5np1/8/2PP4/2N5/PP2PPPP/R1BQK...  e2e4        1   \n",
       "7  rnbqk2r/ppppppbp/5np1/8/2PPP3/2N5/PP3PPP/R1BQK...  d7d6        1   \n",
       "8  rnbqk2r/ppp1ppbp/3p1np1/8/2PPP3/2N5/PP3PPP/R1B...  f1e2        1   \n",
       "9  rnbqk2r/ppp1ppbp/3p1np1/8/2PPP3/2N5/PP2BPPP/R1...  b8d7        1   \n",
       "\n",
       "   move_number  \n",
       "0            1  \n",
       "1            2  \n",
       "2            3  \n",
       "3            4  \n",
       "4            5  \n",
       "5            6  \n",
       "6            7  \n",
       "7            8  \n",
       "8            9  \n",
       "9           10  "
      ]
     },
     "execution_count": 3,
     "metadata": {},
     "output_type": "execute_result"
    }
   ],
   "source": [
    "from scripts.db_utils import fetch_games_with_moves\n",
    "\n",
    "\n",
    "fetch_games_with_moves(\n",
    "    \"data/chess_test_10.db\",\n",
    "    filters=[(\"game_id\", \"=\", 1), (\"move_number\", \"<=\", 10)],\n",
    "    columns=[\"board_fen\", \"move\", \"game_id\", \"move_number\"],\n",
    ")"
   ]
  }
 ],
 "metadata": {
  "kernelspec": {
   "display_name": "nlp",
   "language": "python",
   "name": "python3"
  },
  "language_info": {
   "codemirror_mode": {
    "name": "ipython",
    "version": 3
   },
   "file_extension": ".py",
   "mimetype": "text/x-python",
   "name": "python",
   "nbconvert_exporter": "python",
   "pygments_lexer": "ipython3",
   "version": "3.12.9"
  }
 },
 "nbformat": 4,
 "nbformat_minor": 5
}
