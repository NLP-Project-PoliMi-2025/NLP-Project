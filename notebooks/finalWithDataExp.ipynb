{
 "cells": [
  {
   "cell_type": "markdown",
   "id": "b85bbc69",
   "metadata": {},
   "source": [
    "# TODOs\n",
    "\n",
    "## Techinical\n",
    "- Try use plain BERT Rob\n",
    "- RAG Paolo\n",
    "- shakespear\n",
    "- Checkpoints for outcome prediction\n",
    "\n",
    "## Chores\n",
    "- Setting up model on hugging face\n",
    "- How to use the dataset from hugging face\n",
    "- How to use the mdoel from hugging face\n",
    "- Clean the github repo\n",
    "- Make a question list\n",
    "- Make a usable pip package from the repo\n",
    "- write a README"
   ]
  },
  {
   "cell_type": "markdown",
   "id": "aee1561e",
   "metadata": {},
   "source": [
    "# Group Assignment NLP course 2024/2025"
   ]
  },
  {
   "cell_type": "markdown",
   "id": "203a2f15",
   "metadata": {},
   "source": [
    "## Group: NLP Processors\n",
    "* Ginefra Paolo\n",
    "* Onori Ferdinando\n",
    "* Missana Martina\n",
    "* Uhrich Robin\n",
    "\n",
    "##  Dataset: [Strategic Game Chess](https://huggingface.co/datasets/laion/strategic_game_chess)"
   ]
  },
  {
   "cell_type": "markdown",
   "id": "788bbe48",
   "metadata": {},
   "source": [
    "The dataset used contains data on chess games generated through self-play **Stockfish** engine using **Fugaku** (a supercomputer in Kobe, Japan) adding initial moves to expand the diversity. It contains **3.2 billion games** with approximately 608 billion moves.\n",
    "\n",
    "Due to computational constraints we decided to work just on the first parquet file of the dataset, containing the first **100.000 games**. \n",
    "\n",
    "Each game in the dataset is composed of three columns:\n",
    "* **Move**: a sequence of all the moves made during the game.\n",
    "\n",
    "* **Termination**: the condition under which the game ended. Possible values include: \n",
    "    - `CHECKMATE`\n",
    "    - `INSUFFICIENT MATERIAL`\n",
    "    - `FIVEFOLD_REPETITION`\n",
    "    - `SEVENTYFIVE_MOVES`\n",
    "    - `STALEMATE`\n",
    "* **Result**: result of the game\n",
    "    - `1-0`         (White wins)\n",
    "    - `1/2-1/2`     (Draw)\n",
    "    - `0-1`         (Black wins)"
   ]
  },
  {
   "cell_type": "markdown",
   "id": "18361cee",
   "metadata": {},
   "source": [
    " #### **Data Wrangling**\n",
    "\n",
    "To facilitate the use of the dataset and ensure all necessary information is available for the project, a set of Parquet files was created with the following structure:\n",
    "* **Moves**\n",
    "\n",
    "* **Termination**\n",
    "\n",
    "* **Result**\n",
    "\n",
    "* **Pieces**: the piece moved in every move\n",
    "\n",
    "* **Captures**: the type of piece captured (if any) at each move.\n",
    "\n",
    "* **Checks**: a boolean value indicating whether a move resulted in a check (`true` or `false`)\n",
    "\n",
    "* **Next_move**: the move sequence shifted by one position, useful for predictive modeling tasks\n",
    "\n",
    "* **Result_seqs**: a repeated sequence of the final result, aligned with the length of the move sequence for each game\n",
    "\n",
    "\n",
    "In addition, two YAML files were created to support data processing:\n",
    "\n",
    "- **Move Lookup Table**  \n",
    "\n",
    "  A mapping of all possible moves to unique integer identifiers.\n",
    "\n",
    "- **Result Lookup Table**  \n",
    "\n",
    "  A mapping of game results (`1-0`, `0-1`, `1/2-1/2`) to numerical labels, useful for classification tasks.\n",
    "\n",
    "\n",
    "All the files used were uploaded on **Hugging Face**"
   ]
  },
  {
   "cell_type": "markdown",
   "id": "993f4ef4",
   "metadata": {},
   "source": [
    "#### TODOs:\n",
    "* explaining why we used just one parquet file\n",
    "* creation of the dataset\n",
    "* our goal for the project (how much chess lang is a natural lang)\n",
    "* disclaimer that we stick the dataset as closely as possible with assumingnot  having knowledge ofunderlyingmodelof chess"
   ]
  },
  {
   "cell_type": "markdown",
   "id": "f04b28d8",
   "metadata": {},
   "source": [
    "### 1. Preliminary Analysis"
   ]
  },
  {
   "cell_type": "markdown",
   "id": "ef483155",
   "metadata": {},
   "source": [
    "#### TODOs:\n",
    "* Data Exploration (type of data, structure, vocaboulary, ...) - verbose stuff\n",
    "* graph - verbose stuff\n",
    "* Zipf's Law\n",
    "* usage of move visualizer/ move plotter\n",
    "* clustering (Australia  plot) (Paolo explaining if  clusters make sens)\n",
    "* word2vec and embeddings (Paolo)\n",
    "* move distribution(martina)\n",
    "* FEN distribution (Ferdinando)\n",
    "* skipgrams n-grams(matrices, dendrograms(?))"
   ]
  },
  {
   "cell_type": "markdown",
   "id": "ff05ccd2",
   "metadata": {},
   "source": [
    "Termination and Result distribution globally and showed by gamelenght\n",
    "For the first move distribution there's few variability\n",
    "\n",
    "We try FEN as boardState describer, we were interest in it as we were looking if there were any convergences state among the match consideration regard [games_ID,FEN].unique\n",
    "plot with the overallFEN, we cut of the first 43 moves as we identified them as opening trough the the Zipf's exponent; most of the most common FEN were in the first moves after the 42th, it also visible the majority oif the most frequent fen happening in match wich end up in a tie"
   ]
  },
  {
   "cell_type": "markdown",
   "id": "f08f6738",
   "metadata": {},
   "source": [
    "#### Data Exploration\n",
    "\n",
    "This section will breafly explorer the data and reason on how stockfish play"
   ]
  },
  {
   "cell_type": "code",
   "execution_count": 8,
   "id": "7e7511ab",
   "metadata": {},
   "outputs": [],
   "source": [
    "import matplotlib.pyplot as plt\n",
    "import numpy as np\n",
    "import pandas as pd\n",
    "from tqdm import tqdm"
   ]
  },
  {
   "cell_type": "code",
   "execution_count": 9,
   "id": "44cfddbf",
   "metadata": {},
   "outputs": [],
   "source": [
    "from nlpChess.utils.DatasetLoader import loadConcatenatedDataset\n",
    "ds = loadConcatenatedDataset()\n",
    "df = ds.to_pandas()"
   ]
  },
  {
   "cell_type": "code",
   "execution_count": 3,
   "id": "1ad2d470",
   "metadata": {},
   "outputs": [
    {
     "data": {
      "text/plain": [
       "Text(0.5, 1.0, 'Result')"
      ]
     },
     "execution_count": 3,
     "metadata": {},
     "output_type": "execute_result"
    },
    {
     "data": {
      "image/png": "[encoded data removed]",
      "text/plain": [
       "<Figure size 640x480 with 2 Axes>"
      ]
     },
     "metadata": {},
     "output_type": "display_data"
    }
   ],
   "source": [
    "fig, (ax1, ax2) = plt.subplots(ncols=2)\n",
    "df[\"Termination\"].value_counts().plot.pie(ax=ax1)\n",
    "df[\"Result\"].value_counts().plot.pie(ax=ax2)\n",
    "fig.tight_layout()\n",
    "\n",
    "ax1.set_title(\"Termination\")\n",
    "ax2.set_title(\"Result\")"
   ]
  },
  {
   "cell_type": "markdown",
   "id": "9c660195",
   "metadata": {},
   "source": [
    "By rules all the termination not CHECKMATE lead to draw; within the CHECKMATE the distribution is around around 30% for \"1-0\" and around 20% for \"0-1\"\n",
    "For human chess this distribution is usually with less tie and the other two result are a bit more balanced but always with more \"1-0\""
   ]
  },
  {
   "cell_type": "code",
   "execution_count": 4,
   "id": "e5dac7b6",
   "metadata": {},
   "outputs": [
    {
     "data": {
      "text/plain": [
       "Text(0, 0.5, 'Number of Games')"
      ]
     },
     "execution_count": 4,
     "metadata": {},
     "output_type": "execute_result"
    },
    {
     "data": {
      "image/png": "[encoded data removed]",
      "text/plain": [
       "<Figure size 640x480 with 1 Axes>"
      ]
     },
     "metadata": {},
     "output_type": "display_data"
    }
   ],
   "source": [
    "lengths = df.copy()\n",
    "lengths[\"Moves\"] = df[\"Moves\"].apply(lambda x: len(x)) \n",
    "\n",
    "fig, ax = plt.subplots()            \n",
    "\n",
    "bins = np.linspace(0, max(lengths[\"Moves\"]), 100 + 1)\n",
    "bin_width = bins[1]\n",
    "counts = []\n",
    "labels = []\n",
    "n_labels = len(lengths[\"Termination\"].unique())\n",
    "bar_width = bin_width / n_labels\n",
    "for idx, (label, group) in enumerate(lengths.groupby(\"Termination\")):\n",
    "    count, _ = np.histogram(group[\"Moves\"], bins=bins)\n",
    "    counts.append(count)\n",
    "    labels.append(label)                    \n",
    "    #   ax.bar(bins[:-1] + bar_width / 2 + idx * bar_width, count, bar_width)\n",
    "counts = np.stack(counts)\n",
    "sort_idx = np.argsort(counts.sum(axis=1))\n",
    "counts = counts[sort_idx]\n",
    "labels = np.array(labels)[sort_idx]\n",
    "\n",
    "for count, label in zip(counts.cumsum(axis=0)[::-1], labels[::-1]):\n",
    "    ax.bar(bins[:-1] + bin_width / 2, count, width=bin_width, label=label)\n",
    "    \n",
    "ax.legend()\n",
    "ax.set_xlabel(\"Number of Moves\")\n",
    "ax.set_ylabel(\"Number of Games\")"
   ]
  },
  {
   "cell_type": "markdown",
   "id": "1a008ecd",
   "metadata": {},
   "source": [
    "Already the peak of the distribution is over the mean number of moves in a human chess game\n",
    "Probably during the match if not major error are commited by one of the two bot and then punished by the other in the phase were there're more strategy possibilities, otherwise the model playing nearly perfectly end up in the different type of stall which lead to a tie"
   ]
  },
  {
   "cell_type": "markdown",
   "id": "03cf4136",
   "metadata": {},
   "source": [
    "We have a brief look at the pawn promotion/capture distribution\n",
    "In the UCI format:\n",
    "\n",
    "    k: king\n",
    "\n",
    "    q: queen\n",
    "\n",
    "    r: rook\n",
    "\n",
    "    b: bishop\n",
    "\n",
    "    n: knight\n",
    "\n",
    "    p: pawn\n",
    "    "
   ]
  },
  {
   "cell_type": "code",
   "execution_count": 5,
   "id": "ef4d3b0e",
   "metadata": {},
   "outputs": [],
   "source": [
    "start_pos = np.zeros((8, 8), dtype=int)\n",
    "end_pos = np.zeros((8, 8), dtype=int)\n",
    "captured_pieces = []\n",
    "pieces = \"kqbnrp\"\n",
    "capture_pos = np.zeros((len(pieces), 8, 8), dtype=int)\n",
    "\n",
    "all_moves = np.concatenate(df[\"Moves\"].values)\n",
    "for move in all_moves:\n",
    "    start_pos[ord(move[0]) - ord(\"a\"), int(move[1]) - 1] += 1\n",
    "    end_pos[ord(move[2]) - ord(\"a\"), int(move[3]) - 1] += 1\n",
    "        \n",
    "    if len(move) == 5:\n",
    "        captured_pieces.append(move[4])\n",
    "        capture_pos[pieces.find(move[4]), ord(move[2]) - ord(\"a\"), int(move[3]) - 1] += 1"
   ]
  },
  {
   "cell_type": "code",
   "execution_count": 6,
   "id": "142142de",
   "metadata": {},
   "outputs": [
    {
     "data": {
      "text/plain": [
       "<Axes: >"
      ]
     },
     "execution_count": 6,
     "metadata": {},
     "output_type": "execute_result"
    },
    {
     "data": {
      "image/png": "[encoded data removed]",
      "text/plain": [
       "<Figure size 640x480 with 1 Axes>"
      ]
     },
     "metadata": {},
     "output_type": "display_data"
    }
   ],
   "source": [
    "pd.Series(captured_pieces).value_counts().plot.bar()        "
   ]
  },
  {
   "cell_type": "markdown",
   "id": "2fc7ed31",
   "metadata": {},
   "source": [
    "As expected the queen is largely the most promoted piece, pleasing some chess metrics as the queen is the piece with highest value, nonetheless it is also probabibly considered the most relevant strategic piece by Stockfish"
   ]
  },
  {
   "cell_type": "code",
   "execution_count": 7,
   "id": "bab07f66",
   "metadata": {},
   "outputs": [
    {
     "name": "stderr",
     "output_type": "stream",
     "text": [
      "100%|██████████| 100000/100000 [00:00<00:00, 490055.77it/s]\n"
     ]
    }
   ],
   "source": [
    "start_pos = np.zeros((8, 8), dtype=int)\n",
    "end_pos = np.zeros((8, 8), dtype=int)\n",
    "captured_pieces = []\n",
    "pieces = \"kqbnrp\"\n",
    "capture_pos = np.zeros((len(pieces), 8, 8), dtype=int)\n",
    "for move in tqdm(df[\"Moves\"]):\n",
    "    move = move[0]\n",
    "    start_pos[ord(move[0]) - ord(\"a\"), int(move[1]) - 1] += 1\n",
    "    end_pos[ord(move[2]) - ord(\"a\"), int(move[3]) - 1] += 1\n",
    "        \n",
    "    if len(move) == 5:\n",
    "        captured_pieces.append(move[4])\n",
    "        capture_pos[pieces.find(move[4]), ord(move[2]) - ord(\"a\"), int(move[3]) - 1] += 1"
   ]
  },
  {
   "cell_type": "code",
   "execution_count": 8,
   "id": "7983ab5b",
   "metadata": {},
   "outputs": [
    {
     "data": {
      "image/png": "[encoded data removed]",
      "text/plain": [
       "<Figure size 640x480 with 2 Axes>"
      ]
     },
     "metadata": {},
     "output_type": "display_data"
    }
   ],
   "source": [
    "fig, (ax1, ax2) = plt.subplots(ncols=2, sharey=True)\n",
    "ax1.matshow(start_pos.T)\n",
    "ax2.matshow(end_pos.T)\n",
    "\n",
    "fig.suptitle(\"First Move distribution\")\n",
    "ax1.set_title(\"From ...\")   \n",
    "ax2.set_title(\"To ...\")\n",
    "\n",
    "ax1.set_yticks(np.arange(8), np.arange(8) + 1)\n",
    "ax1.set_xticks(np.arange(8), [\"A\", \"B\", \"C\", \"D\", \"E\", \"F\", \"G\", \"H\"])\n",
    "ax2.set_xticks(np.arange(8), [\"A\", \"B\", \"C\", \"D\", \"E\", \"F\", \"G\", \"H\"])\n",
    "fig.tight_layout()"
   ]
  },
  {
   "cell_type": "markdown",
   "id": "5374e1db",
   "metadata": {},
   "source": [
    "Check if work otherwise delete this, is just for visualization and the \"openings\" are build from logic"
   ]
  },
  {
   "cell_type": "code",
   "execution_count": 10,
   "id": "13af4b90",
   "metadata": {},
   "outputs": [
    {
     "ename": "OSError",
     "evalue": "no library called \"cairo-2\" was found\nno library called \"cairo\" was found\nno library called \"libcairo-2\" was found\ncannot load library 'libcairo.so.2': error 0x7e.  Additionally, ctypes.util.find_library() did not manage to locate a library called 'libcairo.so.2'\ncannot load library 'libcairo.2.dylib': error 0x7e.  Additionally, ctypes.util.find_library() did not manage to locate a library called 'libcairo.2.dylib'\ncannot load library 'libcairo-2.dll': error 0x7e.  Additionally, ctypes.util.find_library() did not manage to locate a library called 'libcairo-2.dll'",
     "output_type": "error",
     "traceback": [
      "\u001b[1;31m---------------------------------------------------------------------------\u001b[0m",
      "\u001b[1;31mOSError\u001b[0m                                   Traceback (most recent call last)",
      "Cell \u001b[1;32mIn[10], line 1\u001b[0m\n\u001b[1;32m----> 1\u001b[0m \u001b[38;5;28;01mfrom\u001b[39;00m\u001b[38;5;250m \u001b[39m\u001b[38;5;21;01mnlpChess\u001b[39;00m\u001b[38;5;21;01m.\u001b[39;00m\u001b[38;5;21;01mutils\u001b[39;00m\u001b[38;5;21;01m.\u001b[39;00m\u001b[38;5;21;01mMovePlotter\u001b[39;00m\u001b[38;5;250m \u001b[39m\u001b[38;5;28;01mimport\u001b[39;00m MovePlotter\n\u001b[0;32m      3\u001b[0m openings \u001b[38;5;241m=\u001b[39m [\u001b[38;5;124m\"\u001b[39m\u001b[38;5;124mc2c4\u001b[39m\u001b[38;5;124m\"\u001b[39m,\u001b[38;5;124m\"\u001b[39m\u001b[38;5;124md2d4\u001b[39m\u001b[38;5;124m\"\u001b[39m,\u001b[38;5;124m\"\u001b[39m\u001b[38;5;124me2e4\u001b[39m\u001b[38;5;124m\"\u001b[39m,\u001b[38;5;124m\"\u001b[39m\u001b[38;5;124mg1f3\u001b[39m\u001b[38;5;124m\"\u001b[39m]\n\u001b[0;32m      5\u001b[0m plotter \u001b[38;5;241m=\u001b[39m MovePlotter(\u001b[38;5;124mf\u001b[39m\u001b[38;5;124m\"\u001b[39m\u001b[38;5;124mMost frequent first moves \u001b[39m\u001b[38;5;132;01m{\u001b[39;00mopenings\u001b[38;5;132;01m}\u001b[39;00m\u001b[38;5;124m\"\u001b[39m)\n",
      "File \u001b[1;32m~\\Documents\\GitHub\\NLP-Project\\nlpChess\\utils\\MovePlotter.py:7\u001b[0m\n\u001b[0;32m      5\u001b[0m \u001b[38;5;28;01mfrom\u001b[39;00m\u001b[38;5;250m \u001b[39m\u001b[38;5;21;01mIPython\u001b[39;00m\u001b[38;5;21;01m.\u001b[39;00m\u001b[38;5;21;01mdisplay\u001b[39;00m\u001b[38;5;250m \u001b[39m\u001b[38;5;28;01mimport\u001b[39;00m display, SVG\n\u001b[0;32m      6\u001b[0m \u001b[38;5;28;01mfrom\u001b[39;00m\u001b[38;5;250m \u001b[39m\u001b[38;5;21;01mchess\u001b[39;00m\u001b[38;5;250m \u001b[39m\u001b[38;5;28;01mimport\u001b[39;00m svg\n\u001b[1;32m----> 7\u001b[0m \u001b[38;5;28;01mfrom\u001b[39;00m\u001b[38;5;250m \u001b[39m\u001b[38;5;21;01mcairosvg\u001b[39;00m\u001b[38;5;250m \u001b[39m\u001b[38;5;28;01mimport\u001b[39;00m svg2png\n\u001b[0;32m     10\u001b[0m \u001b[38;5;28;01mclass\u001b[39;00m\u001b[38;5;250m \u001b[39m\u001b[38;5;21;01mMovePlotter\u001b[39;00m:\n\u001b[0;32m     11\u001b[0m     \u001b[38;5;28;01mdef\u001b[39;00m\u001b[38;5;250m \u001b[39m\u001b[38;5;21m__init__\u001b[39m(\u001b[38;5;28mself\u001b[39m, title: \u001b[38;5;28mstr\u001b[39m):\n",
      "File \u001b[1;32mc:\\Users\\ferdi\\AppData\\Local\\Programs\\Python\\Python310\\lib\\site-packages\\cairosvg\\__init__.py:25\u001b[0m\n\u001b[0;32m     21\u001b[0m VERSION \u001b[38;5;241m=\u001b[39m __version__ \u001b[38;5;241m=\u001b[39m (ROOT \u001b[38;5;241m/\u001b[39m \u001b[38;5;124m'\u001b[39m\u001b[38;5;124mVERSION\u001b[39m\u001b[38;5;124m'\u001b[39m)\u001b[38;5;241m.\u001b[39mread_text()\u001b[38;5;241m.\u001b[39mstrip()\n\u001b[0;32m     24\u001b[0m \u001b[38;5;66;03m# VERSION is used in the \"url\" module imported by \"surface\"\u001b[39;00m\n\u001b[1;32m---> 25\u001b[0m \u001b[38;5;28;01mfrom\u001b[39;00m\u001b[38;5;250m \u001b[39m\u001b[38;5;21;01m.\u001b[39;00m\u001b[38;5;250m \u001b[39m\u001b[38;5;28;01mimport\u001b[39;00m surface  \u001b[38;5;66;03m# noqa isort:skip\u001b[39;00m\n\u001b[0;32m     28\u001b[0m SURFACES \u001b[38;5;241m=\u001b[39m {\n\u001b[0;32m     29\u001b[0m     \u001b[38;5;124m'\u001b[39m\u001b[38;5;124mPDF\u001b[39m\u001b[38;5;124m'\u001b[39m: surface\u001b[38;5;241m.\u001b[39mPDFSurface,\n\u001b[0;32m     30\u001b[0m     \u001b[38;5;124m'\u001b[39m\u001b[38;5;124mPNG\u001b[39m\u001b[38;5;124m'\u001b[39m: surface\u001b[38;5;241m.\u001b[39mPNGSurface,\n\u001b[1;32m   (...)\u001b[0m\n\u001b[0;32m     33\u001b[0m     \u001b[38;5;124m'\u001b[39m\u001b[38;5;124mSVG\u001b[39m\u001b[38;5;124m'\u001b[39m: surface\u001b[38;5;241m.\u001b[39mSVGSurface,\n\u001b[0;32m     34\u001b[0m }\n\u001b[0;32m     37\u001b[0m \u001b[38;5;28;01mdef\u001b[39;00m\u001b[38;5;250m \u001b[39m\u001b[38;5;21msvg2svg\u001b[39m(bytestring\u001b[38;5;241m=\u001b[39m\u001b[38;5;28;01mNone\u001b[39;00m, \u001b[38;5;241m*\u001b[39m, file_obj\u001b[38;5;241m=\u001b[39m\u001b[38;5;28;01mNone\u001b[39;00m, url\u001b[38;5;241m=\u001b[39m\u001b[38;5;28;01mNone\u001b[39;00m, dpi\u001b[38;5;241m=\u001b[39m\u001b[38;5;241m96\u001b[39m,\n\u001b[0;32m     38\u001b[0m             parent_width\u001b[38;5;241m=\u001b[39m\u001b[38;5;28;01mNone\u001b[39;00m, parent_height\u001b[38;5;241m=\u001b[39m\u001b[38;5;28;01mNone\u001b[39;00m, scale\u001b[38;5;241m=\u001b[39m\u001b[38;5;241m1\u001b[39m, unsafe\u001b[38;5;241m=\u001b[39m\u001b[38;5;28;01mFalse\u001b[39;00m,\n\u001b[0;32m     39\u001b[0m             background_color\u001b[38;5;241m=\u001b[39m\u001b[38;5;28;01mNone\u001b[39;00m, negate_colors\u001b[38;5;241m=\u001b[39m\u001b[38;5;28;01mFalse\u001b[39;00m, invert_images\u001b[38;5;241m=\u001b[39m\u001b[38;5;28;01mFalse\u001b[39;00m,\n\u001b[0;32m     40\u001b[0m             write_to\u001b[38;5;241m=\u001b[39m\u001b[38;5;28;01mNone\u001b[39;00m, output_width\u001b[38;5;241m=\u001b[39m\u001b[38;5;28;01mNone\u001b[39;00m, output_height\u001b[38;5;241m=\u001b[39m\u001b[38;5;28;01mNone\u001b[39;00m):\n",
      "File \u001b[1;32mc:\\Users\\ferdi\\AppData\\Local\\Programs\\Python\\Python310\\lib\\site-packages\\cairosvg\\surface.py:9\u001b[0m\n\u001b[0;32m      6\u001b[0m \u001b[38;5;28;01mimport\u001b[39;00m\u001b[38;5;250m \u001b[39m\u001b[38;5;21;01mcopy\u001b[39;00m\n\u001b[0;32m      7\u001b[0m \u001b[38;5;28;01mimport\u001b[39;00m\u001b[38;5;250m \u001b[39m\u001b[38;5;21;01mio\u001b[39;00m\n\u001b[1;32m----> 9\u001b[0m \u001b[38;5;28;01mimport\u001b[39;00m\u001b[38;5;250m \u001b[39m\u001b[38;5;21;01mcairocffi\u001b[39;00m\u001b[38;5;250m \u001b[39m\u001b[38;5;28;01mas\u001b[39;00m\u001b[38;5;250m \u001b[39m\u001b[38;5;21;01mcairo\u001b[39;00m\n\u001b[0;32m     11\u001b[0m \u001b[38;5;28;01mfrom\u001b[39;00m\u001b[38;5;250m \u001b[39m\u001b[38;5;21;01m.\u001b[39;00m\u001b[38;5;21;01mcolors\u001b[39;00m\u001b[38;5;250m \u001b[39m\u001b[38;5;28;01mimport\u001b[39;00m color, negate_color\n\u001b[0;32m     12\u001b[0m \u001b[38;5;28;01mfrom\u001b[39;00m\u001b[38;5;250m \u001b[39m\u001b[38;5;21;01m.\u001b[39;00m\u001b[38;5;21;01mdefs\u001b[39;00m\u001b[38;5;250m \u001b[39m\u001b[38;5;28;01mimport\u001b[39;00m (\n\u001b[0;32m     13\u001b[0m     apply_filter_after_painting, apply_filter_before_painting, clip_path,\n\u001b[0;32m     14\u001b[0m     filter_, gradient_or_pattern, linear_gradient, marker, mask, paint_mask,\n\u001b[0;32m     15\u001b[0m     parse_all_defs, pattern, prepare_filter, radial_gradient, use)\n",
      "File \u001b[1;32mc:\\Users\\ferdi\\AppData\\Local\\Programs\\Python\\Python310\\lib\\site-packages\\cairocffi\\__init__.py:60\u001b[0m\n\u001b[0;32m     55\u001b[0m     error_message \u001b[38;5;241m=\u001b[39m \u001b[38;5;124m'\u001b[39m\u001b[38;5;130;01m\\n\u001b[39;00m\u001b[38;5;124m'\u001b[39m\u001b[38;5;241m.\u001b[39mjoin(  \u001b[38;5;66;03m# pragma: no cover\u001b[39;00m\n\u001b[0;32m     56\u001b[0m         \u001b[38;5;28mstr\u001b[39m(exception) \u001b[38;5;28;01mfor\u001b[39;00m exception \u001b[38;5;129;01min\u001b[39;00m exceptions)\n\u001b[0;32m     57\u001b[0m     \u001b[38;5;28;01mraise\u001b[39;00m \u001b[38;5;167;01mOSError\u001b[39;00m(error_message)  \u001b[38;5;66;03m# pragma: no cover\u001b[39;00m\n\u001b[1;32m---> 60\u001b[0m cairo \u001b[38;5;241m=\u001b[39m \u001b[43mdlopen\u001b[49m\u001b[43m(\u001b[49m\n\u001b[0;32m     61\u001b[0m \u001b[43m    \u001b[49m\u001b[43mffi\u001b[49m\u001b[43m,\u001b[49m\u001b[43m \u001b[49m\u001b[43m(\u001b[49m\u001b[38;5;124;43m'\u001b[39;49m\u001b[38;5;124;43mcairo-2\u001b[39;49m\u001b[38;5;124;43m'\u001b[39;49m\u001b[43m,\u001b[49m\u001b[43m \u001b[49m\u001b[38;5;124;43m'\u001b[39;49m\u001b[38;5;124;43mcairo\u001b[39;49m\u001b[38;5;124;43m'\u001b[39;49m\u001b[43m,\u001b[49m\u001b[43m \u001b[49m\u001b[38;5;124;43m'\u001b[39;49m\u001b[38;5;124;43mlibcairo-2\u001b[39;49m\u001b[38;5;124;43m'\u001b[39;49m\u001b[43m)\u001b[49m\u001b[43m,\u001b[49m\n\u001b[0;32m     62\u001b[0m \u001b[43m    \u001b[49m\u001b[43m(\u001b[49m\u001b[38;5;124;43m'\u001b[39;49m\u001b[38;5;124;43mlibcairo.so.2\u001b[39;49m\u001b[38;5;124;43m'\u001b[39;49m\u001b[43m,\u001b[49m\u001b[43m \u001b[49m\u001b[38;5;124;43m'\u001b[39;49m\u001b[38;5;124;43mlibcairo.2.dylib\u001b[39;49m\u001b[38;5;124;43m'\u001b[39;49m\u001b[43m,\u001b[49m\u001b[43m \u001b[49m\u001b[38;5;124;43m'\u001b[39;49m\u001b[38;5;124;43mlibcairo-2.dll\u001b[39;49m\u001b[38;5;124;43m'\u001b[39;49m\u001b[43m)\u001b[49m\u001b[43m)\u001b[49m\n\u001b[0;32m     65\u001b[0m \u001b[38;5;28;01mclass\u001b[39;00m\u001b[38;5;250m \u001b[39m\u001b[38;5;21;01m_keepref\u001b[39;00m(\u001b[38;5;28mobject\u001b[39m):  \u001b[38;5;66;03m# noqa: N801\u001b[39;00m\n\u001b[0;32m     66\u001b[0m \u001b[38;5;250m    \u001b[39m\u001b[38;5;124;03m\"\"\"Function wrapper that keeps a reference to another object.\"\"\"\u001b[39;00m\n",
      "File \u001b[1;32mc:\\Users\\ferdi\\AppData\\Local\\Programs\\Python\\Python310\\lib\\site-packages\\cairocffi\\__init__.py:57\u001b[0m, in \u001b[0;36mdlopen\u001b[1;34m(ffi, library_names, filenames)\u001b[0m\n\u001b[0;32m     53\u001b[0m         exceptions\u001b[38;5;241m.\u001b[39mappend(exception)\n\u001b[0;32m     55\u001b[0m error_message \u001b[38;5;241m=\u001b[39m \u001b[38;5;124m'\u001b[39m\u001b[38;5;130;01m\\n\u001b[39;00m\u001b[38;5;124m'\u001b[39m\u001b[38;5;241m.\u001b[39mjoin(  \u001b[38;5;66;03m# pragma: no cover\u001b[39;00m\n\u001b[0;32m     56\u001b[0m     \u001b[38;5;28mstr\u001b[39m(exception) \u001b[38;5;28;01mfor\u001b[39;00m exception \u001b[38;5;129;01min\u001b[39;00m exceptions)\n\u001b[1;32m---> 57\u001b[0m \u001b[38;5;28;01mraise\u001b[39;00m \u001b[38;5;167;01mOSError\u001b[39;00m(error_message)\n",
      "\u001b[1;31mOSError\u001b[0m: no library called \"cairo-2\" was found\nno library called \"cairo\" was found\nno library called \"libcairo-2\" was found\ncannot load library 'libcairo.so.2': error 0x7e.  Additionally, ctypes.util.find_library() did not manage to locate a library called 'libcairo.so.2'\ncannot load library 'libcairo.2.dylib': error 0x7e.  Additionally, ctypes.util.find_library() did not manage to locate a library called 'libcairo.2.dylib'\ncannot load library 'libcairo-2.dll': error 0x7e.  Additionally, ctypes.util.find_library() did not manage to locate a library called 'libcairo-2.dll'"
     ]
    }
   ],
   "source": [
    "from nlpChess.utils.MovePlotter import MovePlotter\n",
    "\n",
    "openings = [\"c2c4\",\"d2d4\",\"e2e4\",\"g1f3\"]\n",
    "\n",
    "plotter = MovePlotter(f\"Most frequent first moves {openings}\")\n",
    "for move in openings:\n",
    "    plotter.addMove(move)\n",
    "    \n",
    "plotter.plot(justBoard=True)"
   ]
  },
  {
   "cell_type": "markdown",
   "id": "b06a6915",
   "metadata": {},
   "source": [
    "The additional initial moves where very few or were all standard opening in chess;\n",
    "many opening start with e2e4 and the same is true for d2d4 while the other 2 moves here are indeed the start of other precise opening: c2c4 for the English Opening and g1f3 for the Réti Opening"
   ]
  },
  {
   "cell_type": "markdown",
   "id": "22b740de",
   "metadata": {},
   "source": [
    "### 2. Training Models"
   ]
  },
  {
   "cell_type": "markdown",
   "id": "2fc68fed",
   "metadata": {},
   "source": [
    "#### TODOs:\n",
    "* LAMA\n",
    "* LSTM\n",
    "* RAG (Paolo)\n",
    "* Transformer (plots)\n",
    "* Zeroshot-multishot(?)(Ferdinando)\n"
   ]
  },
  {
   "cell_type": "markdown",
   "id": "b07f05ac",
   "metadata": {},
   "source": [
    "### 3. Possible Extensions"
   ]
  },
  {
   "cell_type": "markdown",
   "id": "d46ee36a",
   "metadata": {},
   "source": [
    "#### TODOs:\n",
    "* chessbots with game entropy etc. (lstm,ferdinando,voice)\n",
    "\n",
    "(menu and intuition)"
   ]
  },
  {
   "cell_type": "markdown",
   "id": "72dacaa8",
   "metadata": {},
   "source": [
    "### 4. Conclusions (?)"
   ]
  },
  {
   "cell_type": "markdown",
   "id": "fee1d89b",
   "metadata": {},
   "source": [
    "* adding knowledge should result in better performances...\n",
    "* computationalconstraintsssss\n",
    "* chess grammar"
   ]
  }
 ],
 "metadata": {
  "kernelspec": {
   "display_name": "Python 3",
   "language": "python",
   "name": "python3"
  },
  "language_info": {
   "codemirror_mode": {
    "name": "ipython",
    "version": 3
   },
   "file_extension": ".py",
   "mimetype": "text/x-python",
   "name": "python",
   "nbconvert_exporter": "python",
   "pygments_lexer": "ipython3",
   "version": "3.10.0"
  }
 },
 "nbformat": 4,
 "nbformat_minor": 5
}
