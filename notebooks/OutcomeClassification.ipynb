{
 "cells": [
  {
   "cell_type": "code",
   "execution_count": 1,
   "id": "f25cb099",
   "metadata": {},
   "outputs": [],
   "source": [
    "import numpy as np\n",
    "import pandas as pd\n",
    "import torch\n",
    "from gensim.models import Word2Vec\n",
    "\n",
    "# Autoreload extensions\n",
    "%load_ext autoreload\n",
    "%autoreload 2"
   ]
  },
  {
   "cell_type": "code",
   "execution_count": 2,
   "id": "a1c5d3bf",
   "metadata": {},
   "outputs": [],
   "source": [
    "import os\n",
    "os.chdir('..')"
   ]
  },
  {
   "cell_type": "code",
   "execution_count": 3,
   "id": "0a1e22b8",
   "metadata": {},
   "outputs": [
    {
     "name": "stdout",
     "output_type": "stream",
     "text": [
      "EMBEDDING_SIZE: 100\n",
      "Vocab Size: 1912\n"
     ]
    }
   ],
   "source": [
    "word2VecModel =  Word2Vec.load(\"./project/models/word2vec100.model\")\n",
    "#print embedding dimensions\n",
    "EMBEDDING_SIZE = word2VecModel.wv.vectors.shape[1]\n",
    "print(f\"EMBEDDING_SIZE: {EMBEDDING_SIZE}\")\n",
    "print(f\"Vocab Size: {word2VecModel.wv.vectors.shape[0]}\")"
   ]
  },
  {
   "cell_type": "code",
   "execution_count": 4,
   "id": "1048b28c",
   "metadata": {},
   "outputs": [],
   "source": [
    "import sqlite3"
   ]
  },
  {
   "cell_type": "code",
   "execution_count": 5,
   "id": "4eefdb1e",
   "metadata": {},
   "outputs": [],
   "source": [
    "connection = sqlite3.connect('./chess_games.db')\n",
    "cursor = connection.cursor()"
   ]
  },
  {
   "cell_type": "code",
   "execution_count": 6,
   "id": "8dd57561",
   "metadata": {},
   "outputs": [
    {
     "name": "stdout",
     "output_type": "stream",
     "text": [
      "Schema for table: games\n",
      "(0, 'id', 'INTEGER', 0, None, 1)\n",
      "(1, 'result', 'TEXT', 0, None, 0)\n",
      "(2, 'termination', 'TEXT', 0, None, 0)\n",
      "----------------------------------------\n",
      "Schema for table: moves\n",
      "(0, 'id', 'INTEGER', 0, None, 1)\n",
      "(1, 'game_id', 'INTEGER', 0, None, 0)\n",
      "(2, 'move_number', 'INTEGER', 0, None, 0)\n",
      "(3, 'move', 'TEXT', 0, None, 0)\n",
      "(4, 'board_fen', 'TEXT', 0, None, 0)\n",
      "----------------------------------------\n",
      "Schema for table: pieces\n",
      "(0, 'game_id', 'INTEGER', 0, None, 1)\n",
      "(1, 'move_number', 'INTEGER', 0, None, 2)\n",
      "(2, 'piece', 'TEXT', 0, None, 0)\n",
      "(3, 'captured', 'TEXT', 0, None, 0)\n",
      "----------------------------------------\n"
     ]
    }
   ],
   "source": [
    "cursor.execute(\"SELECT name FROM sqlite_master WHERE type='table';\")\n",
    "tables = cursor.fetchall()\n",
    "\n",
    "for table_name in tables:\n",
    "    table_name = table_name[0]\n",
    "    print(f\"Schema for table: {table_name}\")\n",
    "    cursor.execute(f\"PRAGMA table_info({table_name});\")\n",
    "    schema = cursor.fetchall()\n",
    "    for column in schema:\n",
    "        print(column)\n",
    "    print(\"-\" * 40)"
   ]
  },
  {
   "cell_type": "code",
   "execution_count": 7,
   "id": "b8855ad5",
   "metadata": {},
   "outputs": [
    {
     "data": {
      "text/html": [
       "<div>\n",
       "<style scoped>\n",
       "    .dataframe tbody tr th:only-of-type {\n",
       "        vertical-align: middle;\n",
       "    }\n",
       "\n",
       "    .dataframe tbody tr th {\n",
       "        vertical-align: top;\n",
       "    }\n",
       "\n",
       "    .dataframe thead th {\n",
       "        text-align: right;\n",
       "    }\n",
       "</style>\n",
       "<table border=\"1\" class=\"dataframe\">\n",
       "  <thead>\n",
       "    <tr style=\"text-align: right;\">\n",
       "      <th></th>\n",
       "      <th>id</th>\n",
       "      <th>result</th>\n",
       "    </tr>\n",
       "  </thead>\n",
       "  <tbody>\n",
       "    <tr>\n",
       "      <th>0</th>\n",
       "      <td>1</td>\n",
       "      <td>1/2-1/2</td>\n",
       "    </tr>\n",
       "    <tr>\n",
       "      <th>1</th>\n",
       "      <td>2</td>\n",
       "      <td>1-0</td>\n",
       "    </tr>\n",
       "    <tr>\n",
       "      <th>2</th>\n",
       "      <td>3</td>\n",
       "      <td>1/2-1/2</td>\n",
       "    </tr>\n",
       "    <tr>\n",
       "      <th>3</th>\n",
       "      <td>4</td>\n",
       "      <td>1-0</td>\n",
       "    </tr>\n",
       "    <tr>\n",
       "      <th>4</th>\n",
       "      <td>5</td>\n",
       "      <td>1-0</td>\n",
       "    </tr>\n",
       "  </tbody>\n",
       "</table>\n",
       "</div>"
      ],
      "text/plain": [
       "   id   result\n",
       "0   1  1/2-1/2\n",
       "1   2      1-0\n",
       "2   3  1/2-1/2\n",
       "3   4      1-0\n",
       "4   5      1-0"
      ]
     },
     "execution_count": 7,
     "metadata": {},
     "output_type": "execute_result"
    }
   ],
   "source": [
    "df_games = pd.read_sql_query(\"SELECT id, result FROM games\", connection)\n",
    "df_games.head()"
   ]
  },
  {
   "cell_type": "code",
   "execution_count": 8,
   "id": "cebd75bf",
   "metadata": {},
   "outputs": [
    {
     "data": {
      "text/html": [
       "<div>\n",
       "<style scoped>\n",
       "    .dataframe tbody tr th:only-of-type {\n",
       "        vertical-align: middle;\n",
       "    }\n",
       "\n",
       "    .dataframe tbody tr th {\n",
       "        vertical-align: top;\n",
       "    }\n",
       "\n",
       "    .dataframe thead th {\n",
       "        text-align: right;\n",
       "    }\n",
       "</style>\n",
       "<table border=\"1\" class=\"dataframe\">\n",
       "  <thead>\n",
       "    <tr style=\"text-align: right;\">\n",
       "      <th></th>\n",
       "      <th>game_id</th>\n",
       "      <th>move_number</th>\n",
       "      <th>move</th>\n",
       "    </tr>\n",
       "  </thead>\n",
       "  <tbody>\n",
       "    <tr>\n",
       "      <th>0</th>\n",
       "      <td>1</td>\n",
       "      <td>1</td>\n",
       "      <td>d2d4</td>\n",
       "    </tr>\n",
       "    <tr>\n",
       "      <th>1</th>\n",
       "      <td>1</td>\n",
       "      <td>2</td>\n",
       "      <td>f7f5</td>\n",
       "    </tr>\n",
       "    <tr>\n",
       "      <th>2</th>\n",
       "      <td>1</td>\n",
       "      <td>3</td>\n",
       "      <td>g2g3</td>\n",
       "    </tr>\n",
       "    <tr>\n",
       "      <th>3</th>\n",
       "      <td>1</td>\n",
       "      <td>4</td>\n",
       "      <td>g7g6</td>\n",
       "    </tr>\n",
       "    <tr>\n",
       "      <th>4</th>\n",
       "      <td>1</td>\n",
       "      <td>5</td>\n",
       "      <td>f1g2</td>\n",
       "    </tr>\n",
       "  </tbody>\n",
       "</table>\n",
       "</div>"
      ],
      "text/plain": [
       "   game_id  move_number  move\n",
       "0        1            1  d2d4\n",
       "1        1            2  f7f5\n",
       "2        1            3  g2g3\n",
       "3        1            4  g7g6\n",
       "4        1            5  f1g2"
      ]
     },
     "execution_count": 8,
     "metadata": {},
     "output_type": "execute_result"
    }
   ],
   "source": [
    "df_moves = pd.read_sql_query(\"SELECT game_id, move_number, move FROM moves\", connection)\n",
    "df_moves.head()"
   ]
  },
  {
   "cell_type": "code",
   "execution_count": 9,
   "id": "310c7b12",
   "metadata": {},
   "outputs": [
    {
     "data": {
      "text/html": [
       "<div>\n",
       "<style scoped>\n",
       "    .dataframe tbody tr th:only-of-type {\n",
       "        vertical-align: middle;\n",
       "    }\n",
       "\n",
       "    .dataframe tbody tr th {\n",
       "        vertical-align: top;\n",
       "    }\n",
       "\n",
       "    .dataframe thead th {\n",
       "        text-align: right;\n",
       "    }\n",
       "</style>\n",
       "<table border=\"1\" class=\"dataframe\">\n",
       "  <thead>\n",
       "    <tr style=\"text-align: right;\">\n",
       "      <th></th>\n",
       "      <th>game_id</th>\n",
       "      <th>move</th>\n",
       "    </tr>\n",
       "  </thead>\n",
       "  <tbody>\n",
       "    <tr>\n",
       "      <th>0</th>\n",
       "      <td>1</td>\n",
       "      <td>[d2d4, f7f5, g2g3, g7g6, f1g2, f8g7, g1f3, d7d...</td>\n",
       "    </tr>\n",
       "    <tr>\n",
       "      <th>1</th>\n",
       "      <td>2</td>\n",
       "      <td>[e2e4, e7e6, d2d4, d7d5, b1c3, f8b4, e4e5, c7c...</td>\n",
       "    </tr>\n",
       "    <tr>\n",
       "      <th>2</th>\n",
       "      <td>3</td>\n",
       "      <td>[d2d4, g8f6, c2c4, e7e5, d4e5, f6g4, c1f4, b8c...</td>\n",
       "    </tr>\n",
       "    <tr>\n",
       "      <th>3</th>\n",
       "      <td>4</td>\n",
       "      <td>[c2c4, g8f6, b1c3, e7e5, g2g3, g7g6, f1g2, f8g...</td>\n",
       "    </tr>\n",
       "    <tr>\n",
       "      <th>4</th>\n",
       "      <td>5</td>\n",
       "      <td>[d2d4, g8f6, c2c4, e7e6, b1c3, f8b4, d1c2, c7c...</td>\n",
       "    </tr>\n",
       "  </tbody>\n",
       "</table>\n",
       "</div>"
      ],
      "text/plain": [
       "   game_id                                               move\n",
       "0        1  [d2d4, f7f5, g2g3, g7g6, f1g2, f8g7, g1f3, d7d...\n",
       "1        2  [e2e4, e7e6, d2d4, d7d5, b1c3, f8b4, e4e5, c7c...\n",
       "2        3  [d2d4, g8f6, c2c4, e7e5, d4e5, f6g4, c1f4, b8c...\n",
       "3        4  [c2c4, g8f6, b1c3, e7e5, g2g3, g7g6, f1g2, f8g...\n",
       "4        5  [d2d4, g8f6, c2c4, e7e6, b1c3, f8b4, d1c2, c7c..."
      ]
     },
     "execution_count": 9,
     "metadata": {},
     "output_type": "execute_result"
    }
   ],
   "source": [
    "# group by game_id\n",
    "df_moves_grouped = df_moves.groupby('game_id')['move'].apply(list).reset_index()\n",
    "df_moves_grouped.head()"
   ]
  },
  {
   "cell_type": "code",
   "execution_count": 10,
   "id": "3b8ea4ca",
   "metadata": {},
   "outputs": [
    {
     "data": {
      "text/plain": [
       "True"
      ]
     },
     "execution_count": 10,
     "metadata": {},
     "output_type": "execute_result"
    }
   ],
   "source": [
    "len(df_moves_grouped) == len(df_games)"
   ]
  },
  {
   "cell_type": "code",
   "execution_count": 11,
   "id": "c3d9d735",
   "metadata": {},
   "outputs": [
    {
     "data": {
      "text/html": [
       "<div>\n",
       "<style scoped>\n",
       "    .dataframe tbody tr th:only-of-type {\n",
       "        vertical-align: middle;\n",
       "    }\n",
       "\n",
       "    .dataframe tbody tr th {\n",
       "        vertical-align: top;\n",
       "    }\n",
       "\n",
       "    .dataframe thead th {\n",
       "        text-align: right;\n",
       "    }\n",
       "</style>\n",
       "<table border=\"1\" class=\"dataframe\">\n",
       "  <thead>\n",
       "    <tr style=\"text-align: right;\">\n",
       "      <th></th>\n",
       "      <th>move</th>\n",
       "      <th>result</th>\n",
       "    </tr>\n",
       "  </thead>\n",
       "  <tbody>\n",
       "    <tr>\n",
       "      <th>0</th>\n",
       "      <td>[d2d4, f7f5, g2g3, g7g6, f1g2, f8g7, g1f3, d7d...</td>\n",
       "      <td>1/2-1/2</td>\n",
       "    </tr>\n",
       "    <tr>\n",
       "      <th>1</th>\n",
       "      <td>[e2e4, e7e6, d2d4, d7d5, b1c3, f8b4, e4e5, c7c...</td>\n",
       "      <td>1-0</td>\n",
       "    </tr>\n",
       "    <tr>\n",
       "      <th>2</th>\n",
       "      <td>[d2d4, g8f6, c2c4, e7e5, d4e5, f6g4, c1f4, b8c...</td>\n",
       "      <td>1/2-1/2</td>\n",
       "    </tr>\n",
       "    <tr>\n",
       "      <th>3</th>\n",
       "      <td>[c2c4, g8f6, b1c3, e7e5, g2g3, g7g6, f1g2, f8g...</td>\n",
       "      <td>1-0</td>\n",
       "    </tr>\n",
       "    <tr>\n",
       "      <th>4</th>\n",
       "      <td>[d2d4, g8f6, c2c4, e7e6, b1c3, f8b4, d1c2, c7c...</td>\n",
       "      <td>1-0</td>\n",
       "    </tr>\n",
       "  </tbody>\n",
       "</table>\n",
       "</div>"
      ],
      "text/plain": [
       "                                                move   result\n",
       "0  [d2d4, f7f5, g2g3, g7g6, f1g2, f8g7, g1f3, d7d...  1/2-1/2\n",
       "1  [e2e4, e7e6, d2d4, d7d5, b1c3, f8b4, e4e5, c7c...      1-0\n",
       "2  [d2d4, g8f6, c2c4, e7e5, d4e5, f6g4, c1f4, b8c...  1/2-1/2\n",
       "3  [c2c4, g8f6, b1c3, e7e5, g2g3, g7g6, f1g2, f8g...      1-0\n",
       "4  [d2d4, g8f6, c2c4, e7e6, b1c3, f8b4, d1c2, c7c...      1-0"
      ]
     },
     "execution_count": 11,
     "metadata": {},
     "output_type": "execute_result"
    }
   ],
   "source": [
    "# Joinn the dfs by game_id\n",
    "df_merged = pd.merge(df_moves_grouped, df_games, left_on='game_id', right_on='id', how='left').drop(columns=['id', 'game_id'])\n",
    "df_merged.head()"
   ]
  },
  {
   "cell_type": "code",
   "execution_count": 99,
   "id": "cc1df52b",
   "metadata": {},
   "outputs": [
    {
     "data": {
      "text/html": [
       "<div>\n",
       "<style scoped>\n",
       "    .dataframe tbody tr th:only-of-type {\n",
       "        vertical-align: middle;\n",
       "    }\n",
       "\n",
       "    .dataframe tbody tr th {\n",
       "        vertical-align: top;\n",
       "    }\n",
       "\n",
       "    .dataframe thead th {\n",
       "        text-align: right;\n",
       "    }\n",
       "</style>\n",
       "<table border=\"1\" class=\"dataframe\">\n",
       "  <thead>\n",
       "    <tr style=\"text-align: right;\">\n",
       "      <th></th>\n",
       "      <th>move</th>\n",
       "      <th>result</th>\n",
       "      <th>one_hot_encodings</th>\n",
       "    </tr>\n",
       "  </thead>\n",
       "  <tbody>\n",
       "    <tr>\n",
       "      <th>0</th>\n",
       "      <td>[d2d4, f7f5, g2g3, g7g6, f1g2, f8g7, g1f3, d7d...</td>\n",
       "      <td>1/2-1/2</td>\n",
       "      <td>[False, False, True]</td>\n",
       "    </tr>\n",
       "    <tr>\n",
       "      <th>1</th>\n",
       "      <td>[e2e4, e7e6, d2d4, d7d5, b1c3, f8b4, e4e5, c7c...</td>\n",
       "      <td>1-0</td>\n",
       "      <td>[False, True, False]</td>\n",
       "    </tr>\n",
       "    <tr>\n",
       "      <th>2</th>\n",
       "      <td>[d2d4, g8f6, c2c4, e7e5, d4e5, f6g4, c1f4, b8c...</td>\n",
       "      <td>1/2-1/2</td>\n",
       "      <td>[False, False, True]</td>\n",
       "    </tr>\n",
       "    <tr>\n",
       "      <th>3</th>\n",
       "      <td>[c2c4, g8f6, b1c3, e7e5, g2g3, g7g6, f1g2, f8g...</td>\n",
       "      <td>1-0</td>\n",
       "      <td>[False, True, False]</td>\n",
       "    </tr>\n",
       "    <tr>\n",
       "      <th>4</th>\n",
       "      <td>[d2d4, g8f6, c2c4, e7e6, b1c3, f8b4, d1c2, c7c...</td>\n",
       "      <td>1-0</td>\n",
       "      <td>[False, True, False]</td>\n",
       "    </tr>\n",
       "  </tbody>\n",
       "</table>\n",
       "</div>"
      ],
      "text/plain": [
       "                                                move   result  \\\n",
       "0  [d2d4, f7f5, g2g3, g7g6, f1g2, f8g7, g1f3, d7d...  1/2-1/2   \n",
       "1  [e2e4, e7e6, d2d4, d7d5, b1c3, f8b4, e4e5, c7c...      1-0   \n",
       "2  [d2d4, g8f6, c2c4, e7e5, d4e5, f6g4, c1f4, b8c...  1/2-1/2   \n",
       "3  [c2c4, g8f6, b1c3, e7e5, g2g3, g7g6, f1g2, f8g...      1-0   \n",
       "4  [d2d4, g8f6, c2c4, e7e6, b1c3, f8b4, d1c2, c7c...      1-0   \n",
       "\n",
       "      one_hot_encodings  \n",
       "0  [False, False, True]  \n",
       "1  [False, True, False]  \n",
       "2  [False, False, True]  \n",
       "3  [False, True, False]  \n",
       "4  [False, True, False]  "
      ]
     },
     "execution_count": 99,
     "metadata": {},
     "output_type": "execute_result"
    }
   ],
   "source": [
    "#One hot encoding the result column\n",
    "one_hot = pd.get_dummies(df_merged['result'])\n",
    "df_one_hot = df_merged.copy()\n",
    "# Collect the dummies as a list of bools in a new column\n",
    "df_one_hot['one_hot_encodings'] = one_hot.values.tolist()\n",
    "# Drop the original result column\n",
    "df_one_hot.head()"
   ]
  },
  {
   "cell_type": "code",
   "execution_count": 100,
   "id": "763b7686",
   "metadata": {},
   "outputs": [
    {
     "data": {
      "text/plain": [
       "((64000, 3), (16000, 3), (20000, 3))"
      ]
     },
     "execution_count": 100,
     "metadata": {},
     "output_type": "execute_result"
    }
   ],
   "source": [
    "# Cross validation split the dataset\n",
    "from sklearn.model_selection import train_test_split\n",
    "df_train, df_test = train_test_split(df_one_hot, test_size=0.2, random_state=42)\n",
    "df_train, df_val  = train_test_split(df_train, test_size=0.2, random_state=42)\n",
    "df_train.shape, df_val.shape, df_test.shape"
   ]
  },
  {
   "cell_type": "code",
   "execution_count": 101,
   "id": "d8dec3f7",
   "metadata": {},
   "outputs": [],
   "source": [
    "from torch.utils.data import Dataset, DataLoader\n",
    "from typing import Dict\n",
    "\n",
    "class OutcomeClassificationDataset(Dataset):\n",
    "    def __init__(self, data, word2VecModel:Word2Vec):\n",
    "        self.data = data\n",
    "        self.word2VecModel:Word2Vec = word2VecModel\n",
    "\n",
    "    def __len__(self):\n",
    "        return len(self.data)\n",
    "\n",
    "    def __getitem__(self, idx):\n",
    "        sent = self.data[idx]['move']\n",
    "        # words = [self.word2VecModel.wv[token] if token in self.word2VecModel.wv.key_to_index else np.zeros(EMBEDDING_SIZE) for token in sent]\n",
    "        words = [self.word2VecModel.wv[token] if token in self.word2VecModel.wv.key_to_index else np.zeros(EMBEDDING_SIZE) for token in sent]\n",
    "        label = self.data[idx]['one_hot_encodings']\n",
    "        return torch.tensor(words, dtype=torch.float32), torch.tensor(label, dtype=torch.float32)\n",
    "    \n",
    "dataset_train = OutcomeClassificationDataset(df_train.to_dict(orient='records'), word2VecModel)\n",
    "dataset_val = OutcomeClassificationDataset(df_val.to_dict(orient='records'), word2VecModel)\n",
    "dataset_test = OutcomeClassificationDataset(df_test.to_dict(orient='records'), word2VecModel)"
   ]
  },
  {
   "cell_type": "code",
   "execution_count": 102,
   "id": "93bed7a6",
   "metadata": {},
   "outputs": [
    {
     "data": {
      "text/plain": [
       "(torch.Size([163, 100]), torch.Size([3]))"
      ]
     },
     "execution_count": 102,
     "metadata": {},
     "output_type": "execute_result"
    }
   ],
   "source": [
    "dataset_test[0][0].shape, dataset_test[0][1].shape"
   ]
  },
  {
   "cell_type": "code",
   "execution_count": 103,
   "id": "28fc8c36",
   "metadata": {},
   "outputs": [],
   "source": [
    "def collate_fn(batch):\n",
    "    # batch: list of tuples (word_tensor, tag_tensor)\n",
    "    # Get input sentences\n",
    "    moves = [item[0] for item in batch]\n",
    "    # Get labels\n",
    "    outcomes = [item[1] for item in batch]\n",
    "    # Get maximum length in the batch\n",
    "    lengths = [len(s) for s in moves]\n",
    "    max_len = max(lengths)\n",
    "\n",
    "    # Pad shorter sentences to let the input tensors all have the same size\n",
    "    padded_moves = []\n",
    "    for s in moves:\n",
    "        pad_len = max_len - len(s)\n",
    "        # Padding uses index 0 both for words and labels\n",
    "        padded_moves.append(torch.cat([s, torch.zeros((pad_len, s.shape[1]), dtype=torch.float32)]))\n",
    "\n",
    "    #\n",
    "    return torch.stack(padded_moves), torch.stack(outcomes), lengths\n",
    "\n",
    "BATCH_SIZE = 8\n",
    "train_loader = DataLoader(dataset_train, batch_size=BATCH_SIZE, shuffle=True, collate_fn=collate_fn)\n",
    "val_loader = DataLoader(dataset_val, batch_size=BATCH_SIZE, shuffle=False, collate_fn=collate_fn)\n",
    "test_loader = DataLoader(dataset_test, batch_size=BATCH_SIZE, shuffle=False, collate_fn=collate_fn)"
   ]
  },
  {
   "cell_type": "code",
   "execution_count": 104,
   "id": "e4f7fa60",
   "metadata": {},
   "outputs": [
    {
     "name": "stdout",
     "output_type": "stream",
     "text": [
      "Moves shape: torch.Size([8, 187, 100])\n",
      "Outcomes shape: torch.Size([8, 3])\n",
      "Lengths: [75, 169, 108, 95, 167, 155, 107, 187]\n"
     ]
    }
   ],
   "source": [
    "for batch in train_loader:\n",
    "    moves, outcomes, lengths = batch\n",
    "    print(\"Moves shape:\", moves.shape)\n",
    "    print(\"Outcomes shape:\", outcomes.shape)\n",
    "    print(\"Lengths:\", lengths)\n",
    "    break"
   ]
  },
  {
   "cell_type": "code",
   "execution_count": 105,
   "id": "ef91f5dd",
   "metadata": {},
   "outputs": [],
   "source": [
    "import torch\n",
    "import torch.nn as nn\n",
    "import torch.optim as optim\n",
    "from torch.utils.data import Dataset, DataLoader"
   ]
  },
  {
   "cell_type": "code",
   "execution_count": 106,
   "id": "11dda170",
   "metadata": {},
   "outputs": [],
   "source": [
    "class BiLSTM_NER(nn.Module):\n",
    "    def __init__(self, embedding_dim, hidden_dim, num_outcomes):\n",
    "        super(BiLSTM_NER, self).__init__()\n",
    "        # Bidirectional LSTM; we set batch_first=True to have input like [batch, seq_len, embedding_dim]\n",
    "        self.lstm = nn.LSTM(embedding_dim, hidden_dim, bidirectional=True, batch_first=True)\n",
    "        # Fully connected layer to map hidden state coming from LSTM to output labels\n",
    "        # (the hidden state is a concatenation of two LSTM outputs since it is bidirectional)\n",
    "        self.fc = nn.Linear(hidden_dim * 2, num_outcomes)\n",
    "\n",
    "    def forward(self, x):\n",
    "        # x: [batch_size, seq_len]\n",
    "        lstm_out, _ = self.lstm(x)   # lstm_out: [batch_size, seq_len, hidden_dim*2]\n",
    "        logits = self.fc(lstm_out[:, -1, :])        # logits: [batch_size, seq_len, num_tags]\n",
    "        probabs = torch.nn.functional.softmax(logits, dim=-1)  # probabs: [batch_size, seq_len, num_tags]\n",
    "        return probabs"
   ]
  },
  {
   "cell_type": "code",
   "execution_count": 107,
   "id": "ca574775",
   "metadata": {},
   "outputs": [],
   "source": [
    "# Parametri del modello\n",
    "HIDDEN_DIM = 128\n",
    "EPOCHS = 10"
   ]
  },
  {
   "cell_type": "code",
   "execution_count": 108,
   "id": "02caceff",
   "metadata": {},
   "outputs": [],
   "source": [
    "model = BiLSTM_NER(EMBEDDING_SIZE, HIDDEN_DIM, 3)"
   ]
  },
  {
   "cell_type": "code",
   "execution_count": 109,
   "id": "5baa419b",
   "metadata": {},
   "outputs": [],
   "source": [
    "criterion = nn.CrossEntropyLoss()\n",
    "optimizer = optim.Adam(model.parameters(), lr=0.001)"
   ]
  },
  {
   "cell_type": "code",
   "execution_count": 110,
   "id": "32cb2e23",
   "metadata": {},
   "outputs": [
    {
     "name": "stdout",
     "output_type": "stream",
     "text": [
      "cuda\n"
     ]
    }
   ],
   "source": [
    "import torch\n",
    "device = torch.device('cuda' if torch.cuda.is_available() else 'cpu')\n",
    "print(device)"
   ]
  },
  {
   "cell_type": "code",
   "execution_count": 111,
   "id": "04bbee9f",
   "metadata": {},
   "outputs": [],
   "source": [
    "model = model.to(device)"
   ]
  },
  {
   "cell_type": "code",
   "execution_count": null,
   "id": "477f4a0f",
   "metadata": {},
   "outputs": [
    {
     "name": "stderr",
     "output_type": "stream",
     "text": [
      "  6%|▌         | 460/8000 [00:14<04:01, 31.26it/s]"
     ]
    }
   ],
   "source": [
    "from tqdm import tqdm\n",
    "from sklearn.metrics import accuracy_score, recall_score, f1_score\n",
    "\n",
    "history = []\n",
    "best_val_loss = float('inf')\n",
    "patience = 3\n",
    "patience_counter = 0\n",
    "\n",
    "for epoch in range(EPOCHS):\n",
    "    # Training\n",
    "    model.train()\n",
    "    epoch_loss = 0\n",
    "    for inputs, targets, lengths in tqdm(train_loader):\n",
    "        optimizer.zero_grad()\n",
    "        inputs = inputs.to(device)\n",
    "        targets = targets.to(device)\n",
    "        outputs = model(inputs)\n",
    "        outputs = outputs.view(-1, 3)\n",
    "        targets = torch.argmax(targets, dim=-1) ##\n",
    "        #targets = targets.view(-1)\n",
    "        loss = criterion.forward(outputs, targets)\n",
    "        loss.backward()\n",
    "        optimizer.step()\n",
    "        epoch_loss += loss.item()\n",
    "        history.append(loss.item())\n",
    "    avg_train_loss = epoch_loss / len(train_loader)\n",
    "\n",
    "    # Validation\n",
    "    model.eval()\n",
    "    val_loss = 0\n",
    "    all_preds = []\n",
    "    all_true = []\n",
    "    with torch.no_grad():\n",
    "        for inputs, targets, lengths in val_loader:\n",
    "            inputs = inputs.to(device)\n",
    "            targets = targets.to(device)\n",
    "            outputs = model(inputs)\n",
    "            outputs = outputs.view(-1, 3)\n",
    "            targets = targets.view(-1, 3)\n",
    "            loss = criterion(outputs, torch.argmax(targets, dim=-1))\n",
    "            val_loss += loss.item()\n",
    "            preds = torch.argmax(outputs, dim=1).cpu().numpy()\n",
    "            true = torch.argmax(targets, dim=1).cpu().numpy()\n",
    "            all_preds.extend(preds)\n",
    "            all_true.extend(true)\n",
    "    avg_val_loss = val_loss / len(val_loader)\n",
    "\n",
    "    # Compute metrics\n",
    "    val_accuracy = accuracy_score(all_true, all_preds)\n",
    "    val_recall = recall_score(all_true, all_preds, average='weighted')\n",
    "    val_f1 = f1_score(all_true, all_preds, average='weighted')\n",
    "\n",
    "    print(f\"Epoch {epoch+1}/{EPOCHS} - Train Loss: {avg_train_loss:.4f} - Val Loss: {avg_val_loss:.4f} - Val Acc: {val_accuracy:.4f} - Val Recall: {val_recall:.4f} - Val F1: {val_f1:.4f}\")\n",
    "\n",
    "    # Early stopping check\n",
    "    if avg_val_loss < best_val_loss:\n",
    "        best_val_loss = avg_val_loss\n",
    "        patience_counter = 0\n",
    "        best_model_state = model.state_dict()\n",
    "    else:\n",
    "        patience_counter += 1\n",
    "        if patience_counter >= patience:\n",
    "            print(\"Early stopping triggered.\")\n",
    "            model.load_state_dict(best_model_state)\n",
    "            break"
   ]
  },
  {
   "cell_type": "code",
   "execution_count": null,
   "id": "dbd4ad8f",
   "metadata": {},
   "outputs": [
    {
     "name": "stdout",
     "output_type": "stream",
     "text": [
      "(10, 8000)\n"
     ]
    }
   ],
   "source": [
    "historyReshaped = np.array(history).reshape(-1, len(train_loader))\n",
    "print(historyReshaped.shape)"
   ]
  },
  {
   "cell_type": "code",
   "execution_count": null,
   "id": "470de76a",
   "metadata": {},
   "outputs": [
    {
     "data": {
      "image/png": "[encoded data removed]",
      "text/plain": [
       "<Figure size 640x480 with 1 Axes>"
      ]
     },
     "metadata": {},
     "output_type": "display_data"
    }
   ],
   "source": [
    "# plot the distribution of the loss\n",
    "import matplotlib.pyplot as plt\n",
    "\n",
    "plt.hist(history[:-1], bins=50)\n",
    "plt.xlabel('Loss')\n",
    "plt.ylabel('Frequency')\n",
    "plt.title('Loss Distribution')\n",
    "plt.show()"
   ]
  },
  {
   "cell_type": "code",
   "execution_count": null,
   "id": "8f84d749",
   "metadata": {},
   "outputs": [
    {
     "name": "stdout",
     "output_type": "stream",
     "text": [
      "Predictions: [[9.9986410e-01 1.1976578e-04 1.6119329e-05]\n",
      " [9.8178631e-01 3.3356673e-03 1.4877954e-02]\n",
      " [9.9997878e-01 3.9617944e-06 1.7328435e-05]\n",
      " [5.7009085e-11 3.0918339e-09 1.0000000e+00]\n",
      " [4.0642038e-01 5.9333920e-01 2.4044620e-04]\n",
      " [5.7048567e-11 3.0924590e-09 1.0000000e+00]\n",
      " [6.2929949e-08 9.9999988e-01 2.4011713e-09]\n",
      " [2.6170196e-07 9.9999976e-01 1.0728981e-08]\n",
      " [1.3491077e-05 6.6290498e-09 9.9998653e-01]\n",
      " [5.1923575e-08 9.9999988e-01 6.9050337e-08]]\n",
      "True labels: [0 1 0 2 1 2 1 1 2 1]\n"
     ]
    }
   ],
   "source": [
    "model.eval()\n",
    "with torch.no_grad():\n",
    "    # Get the first 10 samples from the validation set\n",
    "    sample_batch = [dataset_val[i] for i in range(10)]\n",
    "    moves, outcomes, lengths = collate_fn(sample_batch)\n",
    "    moves = moves.to(device)\n",
    "    outputs = model(moves)\n",
    "    preds = outputs.cpu().numpy()\n",
    "    true_labels = torch.argmax(outcomes, dim=1).numpy()\n",
    "    print(\"Predictions:\", preds)\n",
    "    print(\"True labels:\", true_labels)"
   ]
  },
  {
   "cell_type": "code",
   "execution_count": null,
   "id": "1edfebec",
   "metadata": {},
   "outputs": [
    {
     "data": {
      "image/png": "[encoded data removed]",
      "text/plain": [
       "<Figure size 500x500 with 2 Axes>"
      ]
     },
     "metadata": {},
     "output_type": "display_data"
    }
   ],
   "source": [
    "from sklearn.metrics import confusion_matrix, ConfusionMatrixDisplay\n",
    "import numpy as np\n",
    "\n",
    "import matplotlib.pyplot as plt\n",
    "\n",
    "# Get predictions and true labels for the entire validation set\n",
    "model.eval()\n",
    "all_preds = []\n",
    "all_true = []\n",
    "\n",
    "with torch.no_grad():\n",
    "    for inputs, targets, lengths in val_loader:\n",
    "        inputs = inputs.to(device)\n",
    "        targets = targets.to(device)\n",
    "        outputs = model(inputs)\n",
    "        preds = torch.argmax(outputs, dim=1).cpu().numpy()\n",
    "        true = torch.argmax(targets, dim=1).cpu().numpy()\n",
    "        all_preds.extend(preds)\n",
    "        all_true.extend(true)\n",
    "\n",
    "cm = confusion_matrix(all_true, all_preds)\n",
    "labels = ['0-1', '1-0', '1/2-1/2']\n",
    "disp = ConfusionMatrixDisplay(confusion_matrix=cm, display_labels=labels)\n",
    "fig, ax = plt.subplots(figsize=(5,5))\n",
    "disp.plot(ax=ax, cmap='Blues', values_format='d')\n",
    "plt.title(\"Confusion Matrix on Validation Set\")\n",
    "plt.show()"
   ]
  },
  {
   "cell_type": "code",
   "execution_count": null,
   "id": "847078f9",
   "metadata": {},
   "outputs": [
    {
     "data": {
      "image/png": "[encoded data removed]",
      "text/plain": [
       "<Figure size 500x500 with 2 Axes>"
      ]
     },
     "metadata": {},
     "output_type": "display_data"
    }
   ],
   "source": [
    "from sklearn.utils.class_weight import compute_class_weight\n",
    "\n",
    "# Plot a weighted confusion matrix\n",
    "# Compute class weights\n",
    "class_weights = compute_class_weight(class_weight='balanced', classes=np.unique(all_true), y=all_true)\n",
    "# Normalize weights for display\n",
    "norm_weights = class_weights / class_weights.sum()\n",
    "norm_weights = norm_weights[:, np.newaxis]  # Reshape to 2D for display\n",
    "\n",
    "norm_weights_matrix = norm_weights @ norm_weights.T\n",
    "\n",
    "cm_weighted = cm * norm_weights_matrix\n",
    "cm_weighted = cm_weighted.astype('float') / cm_weighted.sum()\n",
    "\n",
    "# Plot weighted confusion matrix\n",
    "fig, ax = plt.subplots(figsize=(5,5))\n",
    "disp = ConfusionMatrixDisplay(confusion_matrix=cm_weighted, display_labels=labels)\n",
    "disp.plot(ax=ax, cmap='Blues', values_format='.2f')\n",
    "plt.title(\"Weighted Confusion Matrix on Validation Set\")\n",
    "plt.show()"
   ]
  },
  {
   "cell_type": "code",
   "execution_count": null,
   "id": "1cba53e9",
   "metadata": {},
   "outputs": [
    {
     "name": "stdout",
     "output_type": "stream",
     "text": [
      "Sum of diagonal of weighted confusion matrix: 0.9189691312029433\n"
     ]
    }
   ],
   "source": [
    "print(\"Sum of diagonal of weighted confusion matrix:\", np.trace(cm_weighted))"
   ]
  },
  {
   "cell_type": "code",
   "execution_count": null,
   "id": "25ccda76",
   "metadata": {},
   "outputs": [
    {
     "name": "stdout",
     "output_type": "stream",
     "text": [
      "              precision    recall  f1-score   support\n",
      "\n",
      "         0-1       0.89      0.86      0.88      3323\n",
      "         1-0       0.95      0.89      0.92      5307\n",
      "     1/2-1/2       0.93      0.99      0.96      7370\n",
      "\n",
      "    accuracy                           0.93     16000\n",
      "   macro avg       0.92      0.91      0.92     16000\n",
      "weighted avg       0.93      0.93      0.93     16000\n",
      "\n"
     ]
    },
    {
     "data": {
      "image/png": "[encoded data removed]",
      "text/plain": [
       "<Figure size 1000x500 with 1 Axes>"
      ]
     },
     "metadata": {},
     "output_type": "display_data"
    }
   ],
   "source": [
    "#Comupte accuracy, recall and f1 score on validation set\n",
    "from sklearn.metrics import classification_report\n",
    "report = classification_report(all_true, all_preds, target_names=labels)\n",
    "print(report)\n",
    "\n",
    "# Plot the metrics\n",
    "import matplotlib.pyplot as plt\n",
    "\n",
    "plt.figure(figsize=(10, 5))\n",
    "plt.plot(history, label='Loss')\n",
    "\n",
    "plt.axhline(y=best_val_loss, color='r', linestyle='--', label='Best Validation Loss')\n",
    "plt.title('Training Loss')\n",
    "plt.xlabel('Iterations')\n",
    "plt.ylabel('Loss')\n",
    "plt.legend()\n",
    "plt.show()"
   ]
  },
  {
   "cell_type": "code",
   "execution_count": null,
   "id": "8a551b40",
   "metadata": {},
   "outputs": [],
   "source": [
    "# Save the model\n",
    "torch.save(model.state_dict(), 'bilstm_model.pth')"
   ]
  },
  {
   "cell_type": "markdown",
   "id": "3562d4c3",
   "metadata": {},
   "source": [
    "# Classification of the outcome cause"
   ]
  },
  {
   "cell_type": "code",
   "execution_count": null,
   "id": "cb182c7f",
   "metadata": {},
   "outputs": [],
   "source": [
    "df_cause = pd.read_sql_query(\"SELECT id, termination FROM games\", connection)"
   ]
  },
  {
   "cell_type": "code",
   "execution_count": null,
   "id": "78963404",
   "metadata": {},
   "outputs": [
    {
     "data": {
      "text/html": [
       "<div>\n",
       "<style scoped>\n",
       "    .dataframe tbody tr th:only-of-type {\n",
       "        vertical-align: middle;\n",
       "    }\n",
       "\n",
       "    .dataframe tbody tr th {\n",
       "        vertical-align: top;\n",
       "    }\n",
       "\n",
       "    .dataframe thead th {\n",
       "        text-align: right;\n",
       "    }\n",
       "</style>\n",
       "<table border=\"1\" class=\"dataframe\">\n",
       "  <thead>\n",
       "    <tr style=\"text-align: right;\">\n",
       "      <th></th>\n",
       "      <th>id</th>\n",
       "      <th>termination</th>\n",
       "    </tr>\n",
       "  </thead>\n",
       "  <tbody>\n",
       "    <tr>\n",
       "      <th>0</th>\n",
       "      <td>1</td>\n",
       "      <td>FIVEFOLD_REPETITION</td>\n",
       "    </tr>\n",
       "    <tr>\n",
       "      <th>1</th>\n",
       "      <td>2</td>\n",
       "      <td>CHECKMATE</td>\n",
       "    </tr>\n",
       "    <tr>\n",
       "      <th>2</th>\n",
       "      <td>3</td>\n",
       "      <td>INSUFFICIENT_MATERIAL</td>\n",
       "    </tr>\n",
       "    <tr>\n",
       "      <th>3</th>\n",
       "      <td>4</td>\n",
       "      <td>CHECKMATE</td>\n",
       "    </tr>\n",
       "    <tr>\n",
       "      <th>4</th>\n",
       "      <td>5</td>\n",
       "      <td>CHECKMATE</td>\n",
       "    </tr>\n",
       "  </tbody>\n",
       "</table>\n",
       "</div>"
      ],
      "text/plain": [
       "   id            termination\n",
       "0   1    FIVEFOLD_REPETITION\n",
       "1   2              CHECKMATE\n",
       "2   3  INSUFFICIENT_MATERIAL\n",
       "3   4              CHECKMATE\n",
       "4   5              CHECKMATE"
      ]
     },
     "execution_count": 77,
     "metadata": {},
     "output_type": "execute_result"
    }
   ],
   "source": [
    "df_cause.head()"
   ]
  },
  {
   "cell_type": "code",
   "execution_count": null,
   "id": "6cb0b0cb",
   "metadata": {},
   "outputs": [
    {
     "data": {
      "text/html": [
       "<div>\n",
       "<style scoped>\n",
       "    .dataframe tbody tr th:only-of-type {\n",
       "        vertical-align: middle;\n",
       "    }\n",
       "\n",
       "    .dataframe tbody tr th {\n",
       "        vertical-align: top;\n",
       "    }\n",
       "\n",
       "    .dataframe thead th {\n",
       "        text-align: right;\n",
       "    }\n",
       "</style>\n",
       "<table border=\"1\" class=\"dataframe\">\n",
       "  <thead>\n",
       "    <tr style=\"text-align: right;\">\n",
       "      <th></th>\n",
       "      <th>game_id</th>\n",
       "      <th>move</th>\n",
       "    </tr>\n",
       "  </thead>\n",
       "  <tbody>\n",
       "    <tr>\n",
       "      <th>0</th>\n",
       "      <td>1</td>\n",
       "      <td>[d2d4, f7f5, g2g3, g7g6, f1g2, f8g7, g1f3, d7d...</td>\n",
       "    </tr>\n",
       "    <tr>\n",
       "      <th>1</th>\n",
       "      <td>2</td>\n",
       "      <td>[e2e4, e7e6, d2d4, d7d5, b1c3, f8b4, e4e5, c7c...</td>\n",
       "    </tr>\n",
       "    <tr>\n",
       "      <th>2</th>\n",
       "      <td>3</td>\n",
       "      <td>[d2d4, g8f6, c2c4, e7e5, d4e5, f6g4, c1f4, b8c...</td>\n",
       "    </tr>\n",
       "    <tr>\n",
       "      <th>3</th>\n",
       "      <td>4</td>\n",
       "      <td>[c2c4, g8f6, b1c3, e7e5, g2g3, g7g6, f1g2, f8g...</td>\n",
       "    </tr>\n",
       "    <tr>\n",
       "      <th>4</th>\n",
       "      <td>5</td>\n",
       "      <td>[d2d4, g8f6, c2c4, e7e6, b1c3, f8b4, d1c2, c7c...</td>\n",
       "    </tr>\n",
       "  </tbody>\n",
       "</table>\n",
       "</div>"
      ],
      "text/plain": [
       "   game_id                                               move\n",
       "0        1  [d2d4, f7f5, g2g3, g7g6, f1g2, f8g7, g1f3, d7d...\n",
       "1        2  [e2e4, e7e6, d2d4, d7d5, b1c3, f8b4, e4e5, c7c...\n",
       "2        3  [d2d4, g8f6, c2c4, e7e5, d4e5, f6g4, c1f4, b8c...\n",
       "3        4  [c2c4, g8f6, b1c3, e7e5, g2g3, g7g6, f1g2, f8g...\n",
       "4        5  [d2d4, g8f6, c2c4, e7e6, b1c3, f8b4, d1c2, c7c..."
      ]
     },
     "execution_count": 78,
     "metadata": {},
     "output_type": "execute_result"
    }
   ],
   "source": [
    "df_moves_grouped.head()"
   ]
  },
  {
   "cell_type": "code",
   "execution_count": null,
   "id": "831d1555",
   "metadata": {},
   "outputs": [
    {
     "data": {
      "text/html": [
       "<div>\n",
       "<style scoped>\n",
       "    .dataframe tbody tr th:only-of-type {\n",
       "        vertical-align: middle;\n",
       "    }\n",
       "\n",
       "    .dataframe tbody tr th {\n",
       "        vertical-align: top;\n",
       "    }\n",
       "\n",
       "    .dataframe thead th {\n",
       "        text-align: right;\n",
       "    }\n",
       "</style>\n",
       "<table border=\"1\" class=\"dataframe\">\n",
       "  <thead>\n",
       "    <tr style=\"text-align: right;\">\n",
       "      <th></th>\n",
       "      <th>move</th>\n",
       "      <th>termination</th>\n",
       "    </tr>\n",
       "  </thead>\n",
       "  <tbody>\n",
       "    <tr>\n",
       "      <th>0</th>\n",
       "      <td>[d2d4, f7f5, g2g3, g7g6, f1g2, f8g7, g1f3, d7d...</td>\n",
       "      <td>FIVEFOLD_REPETITION</td>\n",
       "    </tr>\n",
       "    <tr>\n",
       "      <th>1</th>\n",
       "      <td>[e2e4, e7e6, d2d4, d7d5, b1c3, f8b4, e4e5, c7c...</td>\n",
       "      <td>CHECKMATE</td>\n",
       "    </tr>\n",
       "    <tr>\n",
       "      <th>2</th>\n",
       "      <td>[d2d4, g8f6, c2c4, e7e5, d4e5, f6g4, c1f4, b8c...</td>\n",
       "      <td>INSUFFICIENT_MATERIAL</td>\n",
       "    </tr>\n",
       "    <tr>\n",
       "      <th>3</th>\n",
       "      <td>[c2c4, g8f6, b1c3, e7e5, g2g3, g7g6, f1g2, f8g...</td>\n",
       "      <td>CHECKMATE</td>\n",
       "    </tr>\n",
       "    <tr>\n",
       "      <th>4</th>\n",
       "      <td>[d2d4, g8f6, c2c4, e7e6, b1c3, f8b4, d1c2, c7c...</td>\n",
       "      <td>CHECKMATE</td>\n",
       "    </tr>\n",
       "  </tbody>\n",
       "</table>\n",
       "</div>"
      ],
      "text/plain": [
       "                                                move            termination\n",
       "0  [d2d4, f7f5, g2g3, g7g6, f1g2, f8g7, g1f3, d7d...    FIVEFOLD_REPETITION\n",
       "1  [e2e4, e7e6, d2d4, d7d5, b1c3, f8b4, e4e5, c7c...              CHECKMATE\n",
       "2  [d2d4, g8f6, c2c4, e7e5, d4e5, f6g4, c1f4, b8c...  INSUFFICIENT_MATERIAL\n",
       "3  [c2c4, g8f6, b1c3, e7e5, g2g3, g7g6, f1g2, f8g...              CHECKMATE\n",
       "4  [d2d4, g8f6, c2c4, e7e6, b1c3, f8b4, d1c2, c7c...              CHECKMATE"
      ]
     },
     "execution_count": 79,
     "metadata": {},
     "output_type": "execute_result"
    }
   ],
   "source": [
    "df_moves_cause = pd.merge(df_moves_grouped, df_cause, left_on='game_id', right_on='id', how='left').drop(columns=['id', 'game_id'])\n",
    "df_moves_cause.head()"
   ]
  },
  {
   "cell_type": "code",
   "execution_count": null,
   "id": "a4954c66",
   "metadata": {},
   "outputs": [
    {
     "data": {
      "text/html": [
       "<div>\n",
       "<style scoped>\n",
       "    .dataframe tbody tr th:only-of-type {\n",
       "        vertical-align: middle;\n",
       "    }\n",
       "\n",
       "    .dataframe tbody tr th {\n",
       "        vertical-align: top;\n",
       "    }\n",
       "\n",
       "    .dataframe thead th {\n",
       "        text-align: right;\n",
       "    }\n",
       "</style>\n",
       "<table border=\"1\" class=\"dataframe\">\n",
       "  <thead>\n",
       "    <tr style=\"text-align: right;\">\n",
       "      <th></th>\n",
       "      <th>move</th>\n",
       "      <th>one_hot_termination</th>\n",
       "    </tr>\n",
       "  </thead>\n",
       "  <tbody>\n",
       "    <tr>\n",
       "      <th>0</th>\n",
       "      <td>[d2d4, f7f5, g2g3, g7g6, f1g2, f8g7, g1f3, d7d...</td>\n",
       "      <td>[False, True, False, False, False]</td>\n",
       "    </tr>\n",
       "    <tr>\n",
       "      <th>1</th>\n",
       "      <td>[e2e4, e7e6, d2d4, d7d5, b1c3, f8b4, e4e5, c7c...</td>\n",
       "      <td>[True, False, False, False, False]</td>\n",
       "    </tr>\n",
       "    <tr>\n",
       "      <th>2</th>\n",
       "      <td>[d2d4, g8f6, c2c4, e7e5, d4e5, f6g4, c1f4, b8c...</td>\n",
       "      <td>[False, False, True, False, False]</td>\n",
       "    </tr>\n",
       "    <tr>\n",
       "      <th>3</th>\n",
       "      <td>[c2c4, g8f6, b1c3, e7e5, g2g3, g7g6, f1g2, f8g...</td>\n",
       "      <td>[True, False, False, False, False]</td>\n",
       "    </tr>\n",
       "    <tr>\n",
       "      <th>4</th>\n",
       "      <td>[d2d4, g8f6, c2c4, e7e6, b1c3, f8b4, d1c2, c7c...</td>\n",
       "      <td>[True, False, False, False, False]</td>\n",
       "    </tr>\n",
       "  </tbody>\n",
       "</table>\n",
       "</div>"
      ],
      "text/plain": [
       "                                                move  \\\n",
       "0  [d2d4, f7f5, g2g3, g7g6, f1g2, f8g7, g1f3, d7d...   \n",
       "1  [e2e4, e7e6, d2d4, d7d5, b1c3, f8b4, e4e5, c7c...   \n",
       "2  [d2d4, g8f6, c2c4, e7e5, d4e5, f6g4, c1f4, b8c...   \n",
       "3  [c2c4, g8f6, b1c3, e7e5, g2g3, g7g6, f1g2, f8g...   \n",
       "4  [d2d4, g8f6, c2c4, e7e6, b1c3, f8b4, d1c2, c7c...   \n",
       "\n",
       "                  one_hot_termination  \n",
       "0  [False, True, False, False, False]  \n",
       "1  [True, False, False, False, False]  \n",
       "2  [False, False, True, False, False]  \n",
       "3  [True, False, False, False, False]  \n",
       "4  [True, False, False, False, False]  "
      ]
     },
     "execution_count": 83,
     "metadata": {},
     "output_type": "execute_result"
    }
   ],
   "source": [
    "# One hot encoding the termination column\n",
    "one_hot_termination = pd.get_dummies(df_moves_cause['termination'])\n",
    "df_cause_one_hot = df_moves_cause.copy()\n",
    "df_cause_one_hot['one_hot_termination'] = one_hot_termination.values.tolist()\n",
    "# drop the termination column\n",
    "df_cause_one_hot = df_cause_one_hot.drop(columns=['termination'])\n",
    "df_cause_one_hot.head()"
   ]
  },
  {
   "cell_type": "code",
   "execution_count": null,
   "id": "a804c0ec",
   "metadata": {},
   "outputs": [
    {
     "data": {
      "text/plain": [
       "((64000, 2), (16000, 2), (20000, 2))"
      ]
     },
     "execution_count": 84,
     "metadata": {},
     "output_type": "execute_result"
    }
   ],
   "source": [
    "# Cross validation split the dataset\n",
    "from sklearn.model_selection import train_test_split\n",
    "df_train_cause, df_test_cause = train_test_split(df_cause_one_hot, test_size=0.2, random_state=42)\n",
    "df_train_cause, df_val_cause  = train_test_split(df_train_cause, test_size=0.2, random_state=42)\n",
    "df_train_cause.shape, df_val_cause.shape, df_test_cause.shape"
   ]
  }
 ],
 "metadata": {
  "kernelspec": {
   "display_name": "Python 3",
   "language": "python",
   "name": "python3"
  },
  "language_info": {
   "codemirror_mode": {
    "name": "ipython",
    "version": 3
   },
   "file_extension": ".py",
   "mimetype": "text/x-python",
   "name": "python",
   "nbconvert_exporter": "python",
   "pygments_lexer": "ipython3",
   "version": "3.11.11"
  }
 },
 "nbformat": 4,
 "nbformat_minor": 5
}
