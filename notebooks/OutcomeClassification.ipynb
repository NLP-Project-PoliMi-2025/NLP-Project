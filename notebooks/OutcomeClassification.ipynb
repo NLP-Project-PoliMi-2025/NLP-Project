{
 "cells": [
  {
   "cell_type": "code",
   "execution_count": 1,
   "metadata": {
    "execution": {
     "iopub.execute_input": "2025-05-25T01:39:36.473070Z",
     "iopub.status.busy": "2025-05-25T01:39:36.472199Z",
     "iopub.status.idle": "2025-05-25T01:40:20.289221Z",
     "shell.execute_reply": "2025-05-25T01:40:20.288395Z",
     "shell.execute_reply.started": "2025-05-25T01:39:36.473031Z"
    },
    "trusted": true
   },
   "outputs": [],
   "source": [
    "import numpy as np\n",
    "import pandas as pd\n",
    "import torch\n",
    "from gensim.models import Word2Vec\n",
    "\n",
    "# Autoreload extensions\n",
    "%load_ext autoreload\n",
    "%autoreload 2"
   ]
  },
  {
   "cell_type": "code",
   "execution_count": 2,
   "metadata": {
    "execution": {
     "iopub.execute_input": "2025-05-25T01:41:06.181822Z",
     "iopub.status.busy": "2025-05-25T01:41:06.181526Z",
     "iopub.status.idle": "2025-05-25T01:41:06.282905Z",
     "shell.execute_reply": "2025-05-25T01:41:06.282169Z",
     "shell.execute_reply.started": "2025-05-25T01:41:06.181799Z"
    },
    "trusted": true
   },
   "outputs": [
    {
     "name": "stdout",
     "output_type": "stream",
     "text": [
      "EMBEDDING_SIZE: 100\n",
      "Vocab Size: 1968\n"
     ]
    }
   ],
   "source": [
    "word2VecModel =  Word2Vec.load(\"..\\model_weights\\word2vec.model\")\n",
    "#print embedding dimensions\n",
    "EMBEDDING_SIZE = word2VecModel.wv.vectors.shape[1]\n",
    "print(f\"EMBEDDING_SIZE: {EMBEDDING_SIZE}\")\n",
    "print(f\"Vocab Size: {word2VecModel.wv.vectors.shape[0]}\")"
   ]
  },
  {
   "cell_type": "code",
   "execution_count": 4,
   "metadata": {
    "trusted": true
   },
   "outputs": [],
   "source": [
    "from nlpChess.utils.DatasetLoader import loadDataset\n",
    "\n",
    "dataset = loadDataset()"
   ]
  },
  {
   "cell_type": "code",
   "execution_count": 7,
   "metadata": {},
   "outputs": [],
   "source": [
    "dataset_train = dataset['train'].to_pandas()[['Moves', 'Result']]\n",
    "dataset_test = dataset['test'].to_pandas()[['Moves', 'Result']]\n",
    "dataset_val = dataset['validation'].to_pandas()[['Moves', 'Result']]"
   ]
  },
  {
   "cell_type": "code",
   "execution_count": 8,
   "metadata": {},
   "outputs": [
    {
     "data": {
      "text/html": [
       "<div>\n",
       "<style scoped>\n",
       "    .dataframe tbody tr th:only-of-type {\n",
       "        vertical-align: middle;\n",
       "    }\n",
       "\n",
       "    .dataframe tbody tr th {\n",
       "        vertical-align: top;\n",
       "    }\n",
       "\n",
       "    .dataframe thead th {\n",
       "        text-align: right;\n",
       "    }\n",
       "</style>\n",
       "<table border=\"1\" class=\"dataframe\">\n",
       "  <thead>\n",
       "    <tr style=\"text-align: right;\">\n",
       "      <th></th>\n",
       "      <th>Moves</th>\n",
       "      <th>Result</th>\n",
       "    </tr>\n",
       "  </thead>\n",
       "  <tbody>\n",
       "    <tr>\n",
       "      <th>0</th>\n",
       "      <td>[e2e4, g7g6, g1f3, f8g7, d2d4, d7d6, f1d3, e7e...</td>\n",
       "      <td>1-0</td>\n",
       "    </tr>\n",
       "    <tr>\n",
       "      <th>1</th>\n",
       "      <td>[e2e4, c7c6, d2d3, d7d6, g2g3, g8f6, h2h4, e7e...</td>\n",
       "      <td>0-1</td>\n",
       "    </tr>\n",
       "    <tr>\n",
       "      <th>2</th>\n",
       "      <td>[e2e4, c7c5, g1f3, d7d6, d2d4, c5d4, f3d4, g8f...</td>\n",
       "      <td>1/2-1/2</td>\n",
       "    </tr>\n",
       "    <tr>\n",
       "      <th>3</th>\n",
       "      <td>[d2d4, d7d6, g1f3, g8f6, c2c4, g7g6, e2e3, f8g...</td>\n",
       "      <td>0-1</td>\n",
       "    </tr>\n",
       "    <tr>\n",
       "      <th>4</th>\n",
       "      <td>[e2e4, g7g6, d2d4, d7d5, e4e5, c7c5, d4c5, f8g...</td>\n",
       "      <td>0-1</td>\n",
       "    </tr>\n",
       "    <tr>\n",
       "      <th>...</th>\n",
       "      <td>...</td>\n",
       "      <td>...</td>\n",
       "    </tr>\n",
       "    <tr>\n",
       "      <th>69995</th>\n",
       "      <td>[d2d4, d7d5, g1f3, g8f6, e2e3, e7e6, f1e2, c7c...</td>\n",
       "      <td>1/2-1/2</td>\n",
       "    </tr>\n",
       "    <tr>\n",
       "      <th>69996</th>\n",
       "      <td>[d2d4, g8f6, g1f3, e7e6, c2c4, d7d5, b1c3, c7c...</td>\n",
       "      <td>1-0</td>\n",
       "    </tr>\n",
       "    <tr>\n",
       "      <th>69997</th>\n",
       "      <td>[d2d4, g8f6, g1f3, e7e6, c1g5, c7c5, e2e3, f8e...</td>\n",
       "      <td>1/2-1/2</td>\n",
       "    </tr>\n",
       "    <tr>\n",
       "      <th>69998</th>\n",
       "      <td>[g1f3, g8f6, c2c4, g7g6, d2d4, f8g7, b1c3, d7d...</td>\n",
       "      <td>1/2-1/2</td>\n",
       "    </tr>\n",
       "    <tr>\n",
       "      <th>69999</th>\n",
       "      <td>[d2d4, d7d5, c2c4, c7c6, e2e3, g8f6, f1e2, e7e...</td>\n",
       "      <td>1-0</td>\n",
       "    </tr>\n",
       "  </tbody>\n",
       "</table>\n",
       "<p>70000 rows × 2 columns</p>\n",
       "</div>"
      ],
      "text/plain": [
       "                                                   Moves   Result\n",
       "0      [e2e4, g7g6, g1f3, f8g7, d2d4, d7d6, f1d3, e7e...      1-0\n",
       "1      [e2e4, c7c6, d2d3, d7d6, g2g3, g8f6, h2h4, e7e...      0-1\n",
       "2      [e2e4, c7c5, g1f3, d7d6, d2d4, c5d4, f3d4, g8f...  1/2-1/2\n",
       "3      [d2d4, d7d6, g1f3, g8f6, c2c4, g7g6, e2e3, f8g...      0-1\n",
       "4      [e2e4, g7g6, d2d4, d7d5, e4e5, c7c5, d4c5, f8g...      0-1\n",
       "...                                                  ...      ...\n",
       "69995  [d2d4, d7d5, g1f3, g8f6, e2e3, e7e6, f1e2, c7c...  1/2-1/2\n",
       "69996  [d2d4, g8f6, g1f3, e7e6, c2c4, d7d5, b1c3, c7c...      1-0\n",
       "69997  [d2d4, g8f6, g1f3, e7e6, c1g5, c7c5, e2e3, f8e...  1/2-1/2\n",
       "69998  [g1f3, g8f6, c2c4, g7g6, d2d4, f8g7, b1c3, d7d...  1/2-1/2\n",
       "69999  [d2d4, d7d5, c2c4, c7c6, e2e3, g8f6, f1e2, e7e...      1-0\n",
       "\n",
       "[70000 rows x 2 columns]"
      ]
     },
     "execution_count": 8,
     "metadata": {},
     "output_type": "execute_result"
    }
   ],
   "source": [
    "dataset_train"
   ]
  },
  {
   "cell_type": "code",
   "execution_count": 9,
   "metadata": {},
   "outputs": [],
   "source": [
    "# index the result as 0 for loss, 1 for draw, and 2 for win\n",
    "dataset_train['Result'] = dataset_train['Result'].map({'0-1': 0, '1/2-1/2': 1, '1-0': 2})\n",
    "dataset_test['Result'] = dataset_test['Result'].map({'0-1': 0, '1/2-1/2': 1, '1-0': 2})\n",
    "dataset_val['Result'] = dataset_val['Result'].map({'0-1': 0, '1/2-1/2': 1, '1-0': 2})"
   ]
  },
  {
   "cell_type": "code",
   "execution_count": 10,
   "metadata": {
    "execution": {
     "iopub.execute_input": "2025-05-24T11:56:44.201610Z",
     "iopub.status.busy": "2025-05-24T11:56:44.201307Z",
     "iopub.status.idle": "2025-05-24T11:56:44.565066Z",
     "shell.execute_reply": "2025-05-24T11:56:44.564372Z",
     "shell.execute_reply.started": "2025-05-24T11:56:44.201591Z"
    },
    "trusted": true
   },
   "outputs": [],
   "source": [
    "from torch.utils.data import Dataset, DataLoader\n",
    "from typing import Dict\n",
    "\n",
    "class OutcomeClassificationDataset(Dataset):\n",
    "    def __init__(self, data, word2VecModel:Word2Vec):\n",
    "        self.data = data\n",
    "        self.word2VecModel:Word2Vec = word2VecModel\n",
    "\n",
    "    def __len__(self):\n",
    "        return len(self.data)\n",
    "\n",
    "    def __getitem__(self, idx):\n",
    "        sent = self.data[idx]['Moves']\n",
    "        # words = [self.word2VecModel.wv[token] if token in self.word2VecModel.wv.key_to_index else np.zeros(EMBEDDING_SIZE) for token in sent]\n",
    "        words = [self.word2VecModel.wv[token] if token in self.word2VecModel.wv.key_to_index else np.zeros(EMBEDDING_SIZE) for token in sent]\n",
    "        label = self.data[idx]['Result']\n",
    "        return torch.tensor(words, dtype=torch.float32), torch.tensor(label, dtype=torch.float32)\n",
    "    \n",
    "dataset_train = OutcomeClassificationDataset(dataset_train.to_dict(orient='records'), word2VecModel)\n",
    "dataset_val = OutcomeClassificationDataset(dataset_val.to_dict(orient='records'), word2VecModel)\n",
    "dataset_test = OutcomeClassificationDataset(dataset_test.to_dict(orient='records'), word2VecModel)"
   ]
  },
  {
   "cell_type": "code",
   "execution_count": 11,
   "metadata": {
    "execution": {
     "iopub.execute_input": "2025-05-24T11:56:49.297190Z",
     "iopub.status.busy": "2025-05-24T11:56:49.296322Z",
     "iopub.status.idle": "2025-05-24T11:56:49.388631Z",
     "shell.execute_reply": "2025-05-24T11:56:49.387873Z",
     "shell.execute_reply.started": "2025-05-24T11:56:49.297149Z"
    },
    "trusted": true
   },
   "outputs": [
    {
     "name": "stderr",
     "output_type": "stream",
     "text": [
      "C:\\Users\\marti\\AppData\\Local\\Temp\\ipykernel_3476\\1233293205.py:17: UserWarning: Creating a tensor from a list of numpy.ndarrays is extremely slow. Please consider converting the list to a single numpy.ndarray with numpy.array() before converting to a tensor. (Triggered internally at C:\\actions-runner\\_work\\pytorch\\pytorch\\pytorch\\torch\\csrc\\utils\\tensor_new.cpp:257.)\n",
      "  return torch.tensor(words, dtype=torch.float32), torch.tensor(label, dtype=torch.float32)\n"
     ]
    },
    {
     "data": {
      "text/plain": [
       "(torch.Size([135, 100]), torch.Size([]))"
      ]
     },
     "execution_count": 11,
     "metadata": {},
     "output_type": "execute_result"
    }
   ],
   "source": [
    "dataset_test[0][0].shape, dataset_test[0][1].shape"
   ]
  },
  {
   "cell_type": "code",
   "execution_count": 67,
   "metadata": {
    "execution": {
     "iopub.execute_input": "2025-05-24T11:56:51.843520Z",
     "iopub.status.busy": "2025-05-24T11:56:51.843234Z",
     "iopub.status.idle": "2025-05-24T11:56:51.892769Z",
     "shell.execute_reply": "2025-05-24T11:56:51.891976Z",
     "shell.execute_reply.started": "2025-05-24T11:56:51.843500Z"
    },
    "trusted": true
   },
   "outputs": [],
   "source": [
    "def collate_fn(batch):\n",
    "    # batch: list of tuples (word_tensor, tag_tensor)\n",
    "    # Get input sentences\n",
    "    moves = [item[0] for item in batch]\n",
    "    # Get labels\n",
    "    outcomes = [item[1] for item in batch]\n",
    "    # Get maximum length in the batch\n",
    "    lengths = [len(s) for s in moves]\n",
    "    max_len = max(lengths)\n",
    "\n",
    "    # Pad shorter sentences to let the input tensors all have the same size\n",
    "    padded_moves = []\n",
    "    for s in moves:\n",
    "        pad_len = max_len - len(s)\n",
    "        # Padding uses index 0 both for words and labels\n",
    "        padded_moves.append(torch.cat([s, torch.zeros((pad_len, s.shape[1]), dtype=torch.float32)]))\n",
    "\n",
    "    #\n",
    "    return torch.stack(padded_moves), torch.stack(outcomes), lengths\n",
    "\n",
    "BATCH_SIZE = 32\n",
    "train_loader = DataLoader(dataset_train, batch_size=BATCH_SIZE, shuffle=True, collate_fn=collate_fn)\n",
    "val_loader = DataLoader(dataset_val, batch_size=BATCH_SIZE, shuffle=False, collate_fn=collate_fn)\n",
    "test_loader = DataLoader(dataset_test, batch_size=BATCH_SIZE, shuffle=False, collate_fn=collate_fn)"
   ]
  },
  {
   "cell_type": "code",
   "execution_count": 68,
   "metadata": {
    "execution": {
     "iopub.execute_input": "2025-05-24T11:56:54.371618Z",
     "iopub.status.busy": "2025-05-24T11:56:54.371265Z",
     "iopub.status.idle": "2025-05-24T11:56:54.560612Z",
     "shell.execute_reply": "2025-05-24T11:56:54.559818Z",
     "shell.execute_reply.started": "2025-05-24T11:56:54.371594Z"
    },
    "trusted": true
   },
   "outputs": [
    {
     "name": "stdout",
     "output_type": "stream",
     "text": [
      "Moves shape: torch.Size([32, 398, 100])\n",
      "Outcomes shape: torch.Size([32])\n",
      "Lengths: [123, 150, 348, 137, 185, 135, 153, 110, 163, 105, 151, 55, 176, 215, 162, 165, 128, 143, 317, 220, 175, 143, 376, 121, 165, 221, 332, 86, 126, 398, 172, 99]\n"
     ]
    }
   ],
   "source": [
    "for batch in train_loader:\n",
    "    moves, outcomes, lengths = batch\n",
    "    print(\"Moves shape:\", moves.shape)\n",
    "    print(\"Outcomes shape:\", outcomes.shape)\n",
    "    print(\"Lengths:\", lengths)\n",
    "    break"
   ]
  },
  {
   "cell_type": "code",
   "execution_count": 69,
   "metadata": {
    "execution": {
     "iopub.execute_input": "2025-05-24T11:56:55.604360Z",
     "iopub.status.busy": "2025-05-24T11:56:55.603629Z",
     "iopub.status.idle": "2025-05-24T11:56:55.649055Z",
     "shell.execute_reply": "2025-05-24T11:56:55.648459Z",
     "shell.execute_reply.started": "2025-05-24T11:56:55.604334Z"
    },
    "trusted": true
   },
   "outputs": [],
   "source": [
    "import torch\n",
    "import torch.nn as nn\n",
    "import torch.optim as optim\n",
    "from torch.utils.data import Dataset, DataLoader"
   ]
  },
  {
   "cell_type": "code",
   "execution_count": null,
   "metadata": {
    "execution": {
     "iopub.execute_input": "2025-05-24T11:56:57.260016Z",
     "iopub.status.busy": "2025-05-24T11:56:57.259728Z",
     "iopub.status.idle": "2025-05-24T11:56:57.307377Z",
     "shell.execute_reply": "2025-05-24T11:56:57.306614Z",
     "shell.execute_reply.started": "2025-05-24T11:56:57.259994Z"
    },
    "trusted": true
   },
   "outputs": [],
   "source": [
    "class BiLSTM_NER(nn.Module):\n",
    "    def __init__(self, embedding_dim, hidden_dim, num_outcomes):\n",
    "        super(BiLSTM_NER, self).__init__()\n",
    "        # Bidirectional LSTM; we set batch_first=True to have input like [batch, seq_len, embedding_dim]\n",
    "        self.lstm = nn.LSTM(embedding_dim, hidden_dim, bidirectional=False, batch_first=True)\n",
    "        # Fully connected layer to map hidden state coming from LSTM to output labels\n",
    "        # (the hidden state is a concatenation of two LSTM outputs since it is bidirectional)\n",
    "        self.fc = nn.Linear(hidden_dim, num_outcomes)\n",
    "\n",
    "    def forward(self, x):\n",
    "        # x: [batch_size, seq_len]\n",
    "        lstm_out, _ = self.lstm.forward(x)   # lstm_out: [batch_size, seq_len, hidden_dim*2]\n",
    "        logits = self.fc(lstm_out[:, -1, :])        # logits: [batch_size, num_tags]\n",
    "        probabs = torch.nn.functional.softmax(logits, dim=-1)  # probabs: [batch_size, num_tags]\n",
    "        return probabs, logits"
   ]
  },
  {
   "cell_type": "code",
   "execution_count": 71,
   "metadata": {
    "execution": {
     "iopub.execute_input": "2025-05-24T11:56:59.410174Z",
     "iopub.status.busy": "2025-05-24T11:56:59.409683Z",
     "iopub.status.idle": "2025-05-24T11:56:59.455242Z",
     "shell.execute_reply": "2025-05-24T11:56:59.454640Z",
     "shell.execute_reply.started": "2025-05-24T11:56:59.410152Z"
    },
    "trusted": true
   },
   "outputs": [],
   "source": [
    "# Models parameters\n",
    "HIDDEN_DIM = 128\n",
    "EPOCHS = 10"
   ]
  },
  {
   "cell_type": "code",
   "execution_count": null,
   "metadata": {
    "execution": {
     "iopub.execute_input": "2025-05-24T11:57:00.541676Z",
     "iopub.status.busy": "2025-05-24T11:57:00.541414Z",
     "iopub.status.idle": "2025-05-24T11:57:00.591560Z",
     "shell.execute_reply": "2025-05-24T11:57:00.590804Z",
     "shell.execute_reply.started": "2025-05-24T11:57:00.541661Z"
    },
    "trusted": true
   },
   "outputs": [],
   "source": [
    "model = BiLSTM_NER(EMBEDDING_SIZE, HIDDEN_DIM, 3)"
   ]
  },
  {
   "cell_type": "code",
   "execution_count": 73,
   "metadata": {
    "execution": {
     "iopub.execute_input": "2025-05-24T11:57:02.198171Z",
     "iopub.status.busy": "2025-05-24T11:57:02.197446Z",
     "iopub.status.idle": "2025-05-24T11:57:06.075594Z",
     "shell.execute_reply": "2025-05-24T11:57:06.075041Z",
     "shell.execute_reply.started": "2025-05-24T11:57:02.198147Z"
    },
    "trusted": true
   },
   "outputs": [],
   "source": [
    "criterion = nn.CrossEntropyLoss()\n",
    "optimizer = optim.Adam(model.parameters(), lr=0.001)"
   ]
  },
  {
   "cell_type": "code",
   "execution_count": 74,
   "metadata": {
    "execution": {
     "iopub.execute_input": "2025-05-24T11:57:06.077055Z",
     "iopub.status.busy": "2025-05-24T11:57:06.076593Z",
     "iopub.status.idle": "2025-05-24T11:57:06.230014Z",
     "shell.execute_reply": "2025-05-24T11:57:06.229221Z",
     "shell.execute_reply.started": "2025-05-24T11:57:06.077036Z"
    },
    "trusted": true
   },
   "outputs": [
    {
     "name": "stdout",
     "output_type": "stream",
     "text": [
      "cuda\n"
     ]
    }
   ],
   "source": [
    "import torch\n",
    "device = torch.device('cuda' if torch.cuda.is_available() else 'cpu')\n",
    "print(device)"
   ]
  },
  {
   "cell_type": "code",
   "execution_count": 75,
   "metadata": {
    "execution": {
     "iopub.execute_input": "2025-05-24T11:57:06.231132Z",
     "iopub.status.busy": "2025-05-24T11:57:06.230823Z",
     "iopub.status.idle": "2025-05-24T11:57:06.607890Z",
     "shell.execute_reply": "2025-05-24T11:57:06.607095Z",
     "shell.execute_reply.started": "2025-05-24T11:57:06.231108Z"
    },
    "trusted": true
   },
   "outputs": [],
   "source": [
    "model = model.to(device)"
   ]
  },
  {
   "cell_type": "code",
   "execution_count": 81,
   "metadata": {
    "execution": {
     "iopub.execute_input": "2025-05-24T11:57:06.609283Z",
     "iopub.status.busy": "2025-05-24T11:57:06.609077Z",
     "iopub.status.idle": "2025-05-24T12:50:44.384282Z",
     "shell.execute_reply": "2025-05-24T12:50:44.383608Z",
     "shell.execute_reply.started": "2025-05-24T11:57:06.609268Z"
    },
    "trusted": true
   },
   "outputs": [
    {
     "name": "stderr",
     "output_type": "stream",
     "text": [
      "100%|██████████| 2188/2188 [03:46<00:00,  9.65it/s]\n",
      "Validation: 100%|██████████| 625/625 [01:02<00:00, 10.00it/s]\n"
     ]
    },
    {
     "name": "stdout",
     "output_type": "stream",
     "text": [
      "Epoch 1/10 - Train Loss: 0.1898 - Val Loss: 0.1791 - Val Acc: 0.9304 - Val Recall: 0.9304 - Val F1: 0.9295\n"
     ]
    },
    {
     "name": "stderr",
     "output_type": "stream",
     "text": [
      "100%|██████████| 2188/2188 [03:47<00:00,  9.61it/s]\n",
      "Validation: 100%|██████████| 625/625 [01:02<00:00,  9.98it/s]\n"
     ]
    },
    {
     "name": "stdout",
     "output_type": "stream",
     "text": [
      "Epoch 2/10 - Train Loss: 0.1564 - Val Loss: 0.1543 - Val Acc: 0.9386 - Val Recall: 0.9386 - Val F1: 0.9386\n"
     ]
    },
    {
     "name": "stderr",
     "output_type": "stream",
     "text": [
      "100%|██████████| 2188/2188 [03:55<00:00,  9.28it/s]\n",
      "Validation: 100%|██████████| 625/625 [01:03<00:00,  9.78it/s]\n"
     ]
    },
    {
     "name": "stdout",
     "output_type": "stream",
     "text": [
      "Epoch 3/10 - Train Loss: 0.1324 - Val Loss: 0.1460 - Val Acc: 0.9421 - Val Recall: 0.9421 - Val F1: 0.9423\n"
     ]
    },
    {
     "name": "stderr",
     "output_type": "stream",
     "text": [
      "100%|██████████| 2188/2188 [03:54<00:00,  9.32it/s]\n",
      "Validation: 100%|██████████| 625/625 [01:03<00:00,  9.80it/s]\n"
     ]
    },
    {
     "name": "stdout",
     "output_type": "stream",
     "text": [
      "Epoch 4/10 - Train Loss: 0.1152 - Val Loss: 0.1373 - Val Acc: 0.9448 - Val Recall: 0.9448 - Val F1: 0.9448\n"
     ]
    },
    {
     "name": "stderr",
     "output_type": "stream",
     "text": [
      "100%|██████████| 2188/2188 [03:50<00:00,  9.49it/s]\n",
      "Validation: 100%|██████████| 625/625 [01:03<00:00,  9.82it/s]\n"
     ]
    },
    {
     "name": "stdout",
     "output_type": "stream",
     "text": [
      "Epoch 5/10 - Train Loss: 0.1045 - Val Loss: 0.1372 - Val Acc: 0.9458 - Val Recall: 0.9458 - Val F1: 0.9458\n"
     ]
    },
    {
     "name": "stderr",
     "output_type": "stream",
     "text": [
      "100%|██████████| 2188/2188 [03:53<00:00,  9.36it/s]\n",
      "Validation: 100%|██████████| 625/625 [01:02<00:00,  9.98it/s]\n"
     ]
    },
    {
     "name": "stdout",
     "output_type": "stream",
     "text": [
      "Epoch 6/10 - Train Loss: 0.0920 - Val Loss: 0.1410 - Val Acc: 0.9447 - Val Recall: 0.9447 - Val F1: 0.9439\n"
     ]
    },
    {
     "name": "stderr",
     "output_type": "stream",
     "text": [
      "100%|██████████| 2188/2188 [03:52<00:00,  9.40it/s]\n",
      "Validation: 100%|██████████| 625/625 [01:05<00:00,  9.59it/s]\n"
     ]
    },
    {
     "name": "stdout",
     "output_type": "stream",
     "text": [
      "Epoch 7/10 - Train Loss: 0.0840 - Val Loss: 0.1332 - Val Acc: 0.9505 - Val Recall: 0.9505 - Val F1: 0.9501\n"
     ]
    },
    {
     "name": "stderr",
     "output_type": "stream",
     "text": [
      "100%|██████████| 2188/2188 [03:50<00:00,  9.51it/s]\n",
      "Validation: 100%|██████████| 625/625 [01:03<00:00,  9.83it/s]\n"
     ]
    },
    {
     "name": "stdout",
     "output_type": "stream",
     "text": [
      "Epoch 8/10 - Train Loss: 0.0769 - Val Loss: 0.1406 - Val Acc: 0.9498 - Val Recall: 0.9498 - Val F1: 0.9496\n"
     ]
    },
    {
     "name": "stderr",
     "output_type": "stream",
     "text": [
      "100%|██████████| 2188/2188 [03:49<00:00,  9.53it/s]\n",
      "Validation: 100%|██████████| 625/625 [01:03<00:00,  9.91it/s]\n"
     ]
    },
    {
     "name": "stdout",
     "output_type": "stream",
     "text": [
      "Epoch 9/10 - Train Loss: 0.0713 - Val Loss: 0.1357 - Val Acc: 0.9489 - Val Recall: 0.9489 - Val F1: 0.9488\n"
     ]
    },
    {
     "name": "stderr",
     "output_type": "stream",
     "text": [
      "100%|██████████| 2188/2188 [03:47<00:00,  9.63it/s]\n",
      "Validation: 100%|██████████| 625/625 [01:01<00:00, 10.23it/s]"
     ]
    },
    {
     "name": "stdout",
     "output_type": "stream",
     "text": [
      "Epoch 10/10 - Train Loss: 0.0639 - Val Loss: 0.1469 - Val Acc: 0.9504 - Val Recall: 0.9504 - Val F1: 0.9501\n",
      "Early stopping triggered.\n"
     ]
    },
    {
     "name": "stderr",
     "output_type": "stream",
     "text": [
      "\n"
     ]
    }
   ],
   "source": [
    "from tqdm import tqdm\n",
    "from sklearn.metrics import accuracy_score, recall_score, f1_score\n",
    "import logging\n",
    "logging.basicConfig(level=logging.INFO, format='%(asctime)s - %(levelname)s - %(message)s', filename='training.log')\n",
    "\n",
    "\n",
    "history = []\n",
    "best_val_loss = float('inf')\n",
    "patience = 3\n",
    "patience_counter = 0\n",
    "\n",
    "for epoch in range(EPOCHS):\n",
    "    # Training\n",
    "    model.train()\n",
    "    epoch_loss = 0\n",
    "    for inputs, targets, lengths in tqdm(train_loader):\n",
    "        optimizer.zero_grad()\n",
    "        inputs = inputs.to(device)\n",
    "        targets = targets.to(device)\n",
    "        outputs, logits = model(inputs)\n",
    "        # CrossEntropyLoss expects targets to be of type Long and 1D (class indices)\n",
    "        loss = criterion(logits, targets.long())\n",
    "        loss.backward()\n",
    "        optimizer.step()\n",
    "        epoch_loss += loss.item()\n",
    "        history.append(loss.item())\n",
    "        # Log training loss\n",
    "        logging.info(f\"Epoch {epoch+1}/{EPOCHS} - Batch Loss: {loss.item():.4f}\")\n",
    "    avg_train_loss = epoch_loss / len(train_loader)\n",
    "\n",
    "    # Validation\n",
    "    model.eval()\n",
    "    val_loss = 0\n",
    "    all_preds = []\n",
    "    all_true = []\n",
    "    with torch.no_grad():\n",
    "        for inputs, targets, lengths in tqdm(val_loader, desc=\"Validation\"):\n",
    "            inputs = inputs.to(device)\n",
    "            targets = targets.to(device) # Ensure targets are of shape [batch_size, num_classes]\n",
    "            outputs, logits = model(inputs)\n",
    "            loss = criterion(logits, targets.long())\n",
    "            val_loss += loss.item()\n",
    "            preds = torch.argmax(outputs, dim=1)\n",
    "            true = targets\n",
    "            all_preds.extend(preds.cpu().numpy())\n",
    "            all_true.extend(true.cpu().numpy())\n",
    "            #log\n",
    "            logging.info(f\"Validation Batch Loss: {loss.item():.4f}\")\n",
    "    avg_val_loss = val_loss / len(val_loader)\n",
    "\n",
    "    # Compute metrics\n",
    "    val_accuracy = accuracy_score(all_true, all_preds)\n",
    "    val_recall = recall_score(all_true, all_preds, average='weighted')\n",
    "    val_f1 = f1_score(all_true, all_preds, average='weighted')\n",
    "\n",
    "    print(f\"Epoch {epoch+1}/{EPOCHS} - Train Loss: {avg_train_loss:.4f} - Val Loss: {avg_val_loss:.4f} - Val Acc: {val_accuracy:.4f} - Val Recall: {val_recall:.4f} - Val F1: {val_f1:.4f}\")\n",
    "\n",
    "    # Early stopping check\n",
    "    if avg_val_loss < best_val_loss:\n",
    "        best_val_loss = avg_val_loss\n",
    "        patience_counter = 0\n",
    "        best_model_state = model.state_dict()\n",
    "    else:\n",
    "        patience_counter += 1\n",
    "        if patience_counter >= patience:\n",
    "            print(\"Early stopping triggered.\")\n",
    "            model.load_state_dict(best_model_state)\n",
    "            break"
   ]
  },
  {
   "cell_type": "code",
   "execution_count": 111,
   "metadata": {},
   "outputs": [
    {
     "data": {
      "text/plain": [
       "OrderedDict([('lstm.weight_ih_l0',\n",
       "              tensor([[ 0.0379,  0.0576,  0.2621,  ...,  0.6185,  0.2249, -0.4344],\n",
       "                      [-0.3193, -0.0248, -0.0606,  ...,  0.5082, -0.2285,  0.2018],\n",
       "                      [-0.1781,  0.0736, -0.1689,  ...,  0.1571, -0.1663,  0.2531],\n",
       "                      ...,\n",
       "                      [-0.1958, -0.3801, -0.0820,  ..., -0.0591,  0.0698,  0.2087],\n",
       "                      [-0.0259,  0.3731,  0.2491,  ...,  0.4076,  0.3222, -0.2167],\n",
       "                      [-0.3850,  0.3355, -0.0481,  ...,  0.0717,  0.0454,  0.3318]],\n",
       "                     device='cuda:0')),\n",
       "             ('lstm.weight_hh_l0',\n",
       "              tensor([[ 0.2676, -0.1528,  0.3156,  ...,  0.3662,  0.1730, -0.1334],\n",
       "                      [ 0.3435,  0.2843,  0.1839,  ...,  0.1983,  0.2519,  0.0187],\n",
       "                      [ 0.0854, -0.0240, -0.1179,  ...,  0.2667, -0.0907,  0.0903],\n",
       "                      ...,\n",
       "                      [ 0.0441, -0.0272,  0.1913,  ...,  0.1713,  0.6157,  0.2143],\n",
       "                      [-0.1989,  0.2074, -0.3945,  ...,  0.2622, -0.4458,  0.0022],\n",
       "                      [ 0.0690,  0.1181,  0.0648,  ...,  0.2334, -0.0683, -0.0178]],\n",
       "                     device='cuda:0')),\n",
       "             ('lstm.bias_ih_l0',\n",
       "              tensor([-3.1201e-01, -2.9244e-01,  8.9529e-02, -1.2351e-01,  1.3144e-01,\n",
       "                      -7.6052e-02, -1.8589e-01, -5.5391e-02, -2.1915e-02, -9.1214e-02,\n",
       "                       9.3460e-02, -2.7964e-01,  2.7167e-03, -6.8159e-02, -1.2826e-01,\n",
       "                      -3.4589e-01, -1.7875e-01, -1.5596e-01, -7.0048e-02, -1.4668e-01,\n",
       "                      -2.1382e-01, -1.0178e-01, -2.1662e-01, -7.1716e-02,  1.3223e-01,\n",
       "                      -2.2230e-01, -4.8072e-02, -1.1275e-01, -1.3579e-01, -8.5870e-02,\n",
       "                       9.7945e-02, -1.7579e-01, -1.8215e-01, -6.2692e-02, -6.7526e-02,\n",
       "                      -8.1287e-02, -1.6938e-01, -1.1291e-01, -5.0022e-02, -6.8750e-02,\n",
       "                      -9.5954e-02,  4.1688e-02,  1.0033e-01, -2.8121e-01,  5.7421e-02,\n",
       "                      -1.5015e-01, -7.3630e-02, -1.0152e-01, -2.2671e-02, -1.1141e-01,\n",
       "                      -1.3666e-01,  7.0486e-02, -6.4812e-02,  1.0365e-01, -8.2847e-02,\n",
       "                      -9.6964e-02, -4.3078e-02,  6.3898e-02, -2.4139e-01, -1.1107e-01,\n",
       "                      -4.9462e-01,  9.0793e-03, -6.7586e-02,  1.3653e-01, -8.5807e-03,\n",
       "                      -2.4894e-01, -1.8613e-01, -9.9938e-02,  5.4124e-02, -5.7196e-02,\n",
       "                      -2.4822e-01, -2.5306e-01, -3.1842e-01,  5.2698e-02,  7.4250e-02,\n",
       "                      -3.2158e-02, -4.1129e-01,  7.7455e-02, -8.9936e-02, -6.6720e-02,\n",
       "                      -2.4248e-01, -2.9257e-01,  1.2985e-01, -1.1505e-01, -5.8319e-02,\n",
       "                      -2.7448e-01, -2.1497e-01, -1.0421e-01,  2.8975e-02,  7.1979e-02,\n",
       "                      -1.7715e-01, -1.3766e-01, -2.2916e-01,  1.1745e-01, -4.3635e-01,\n",
       "                       6.9447e-02, -1.6399e-01, -1.4992e-01,  9.9646e-02, -2.0303e-01,\n",
       "                      -3.8487e-03, -2.9776e-01, -4.6510e-01, -3.3363e-02, -4.4371e-02,\n",
       "                       3.8564e-02,  7.7353e-02,  1.2440e-01, -8.3388e-02, -1.3389e-01,\n",
       "                      -1.4248e-01, -2.2107e-01, -3.1137e-02, -1.2141e-01, -6.6114e-02,\n",
       "                       1.8137e-01,  8.1370e-02, -5.3817e-02,  4.2658e-02, -2.0420e-01,\n",
       "                       8.2680e-03,  3.5799e-02,  6.1573e-02, -7.7178e-02, -1.8228e-01,\n",
       "                       3.6952e-02, -7.7634e-02, -8.3029e-02,  2.0645e-01, -3.6559e-02,\n",
       "                       1.3699e-01, -1.4510e-01, -1.1282e-01,  8.4003e-03, -3.8608e-02,\n",
       "                       2.1411e-01, -5.1654e-02, -2.2185e-01, -2.5887e-01, -1.5526e-01,\n",
       "                      -2.8359e-02, -5.5277e-02,  1.4641e-01,  2.5468e-01,  2.2621e-01,\n",
       "                       9.2247e-03, -4.2134e-02, -2.9837e-02, -8.9983e-02,  2.1426e-01,\n",
       "                      -1.5578e-02,  2.4858e-01, -2.3299e-01,  1.2581e-01, -2.1398e-02,\n",
       "                       2.0958e-01,  1.0483e-02, -8.6354e-02,  6.4489e-02,  2.0091e-01,\n",
       "                      -8.2799e-02,  3.7410e-02, -1.9730e-01, -1.4827e-01,  8.8159e-02,\n",
       "                      -8.7978e-02,  1.9471e-01,  2.4022e-03, -1.0357e-01, -2.2800e-01,\n",
       "                      -1.2903e-01, -8.0552e-02, -2.3760e-01, -8.4652e-03, -8.4340e-02,\n",
       "                      -2.6837e-02,  1.1707e-01,  1.9673e-01,  4.6365e-02, -2.8095e-01,\n",
       "                       2.4302e-01, -1.4110e-01, -2.2760e-01, -8.0290e-02, -9.9401e-02,\n",
       "                       1.5825e-01, -4.6513e-02, -1.8456e-02,  3.1338e-01,  2.2043e-01,\n",
       "                      -2.1694e-02, -2.3551e-01, -1.7190e-01,  3.7156e-02,  6.6244e-02,\n",
       "                      -8.6541e-02, -7.5557e-02, -1.2669e-01,  2.1069e-01,  1.7253e-01,\n",
       "                       5.9864e-02, -6.5622e-02, -1.7242e-01,  5.4338e-03,  1.2301e-01,\n",
       "                       1.9625e-01,  6.1606e-02, -1.3455e-01,  1.0327e-01,  7.0094e-02,\n",
       "                       1.8886e-02, -7.8820e-02,  2.2385e-02,  8.2761e-02, -7.6625e-02,\n",
       "                      -8.9550e-02, -1.4069e-01, -1.2221e-01,  3.6314e-02, -5.4603e-02,\n",
       "                      -1.9823e-02,  2.0453e-01, -6.8060e-02, -1.9532e-01, -6.6292e-02,\n",
       "                      -1.5481e-02,  2.2753e-01,  2.2895e-01,  8.2238e-02,  6.8323e-02,\n",
       "                       1.9598e-01,  9.8846e-02, -2.6697e-02, -2.9467e-01,  1.2573e-01,\n",
       "                       4.3878e-02, -1.0729e-01, -8.6778e-02,  3.4389e-02, -9.1503e-02,\n",
       "                       3.2402e-04,  1.4102e-01, -2.0395e-01,  1.7858e-01,  3.7280e-01,\n",
       "                      -3.0668e-03,  1.8726e-01,  1.4702e-02,  1.5734e-01, -5.0798e-02,\n",
       "                      -8.1333e-02, -1.9298e-01, -7.6665e-02, -7.8416e-02, -4.9195e-02,\n",
       "                      -5.8273e-03,  6.1776e-02,  3.4380e-02, -6.1987e-02,  2.6194e-02,\n",
       "                       1.3925e-02, -3.3398e-02,  4.8315e-02, -2.2438e-03,  1.2328e-01,\n",
       "                      -2.6146e-02, -1.9730e-02,  9.8891e-02,  6.7534e-03, -9.5163e-02,\n",
       "                       1.2434e-01, -5.5837e-02,  7.3309e-02,  7.7159e-02,  1.9724e-02,\n",
       "                       3.9980e-02,  2.8460e-02, -3.5931e-03,  5.7792e-02,  8.7231e-02,\n",
       "                       5.6389e-03,  2.3902e-02,  4.2225e-02, -2.0575e-01,  3.4746e-02,\n",
       "                      -1.8790e-01,  8.9425e-02,  1.5680e-01,  1.4089e-02,  1.8872e-01,\n",
       "                      -2.6099e-02, -5.3574e-02, -8.2696e-03,  2.9160e-02, -4.6980e-02,\n",
       "                      -4.2208e-02, -5.5271e-04,  3.3647e-02, -2.2274e-02, -4.5854e-02,\n",
       "                      -1.6739e-01, -8.4656e-02, -1.6051e-02, -5.4908e-02,  3.7347e-02,\n",
       "                       1.0286e-01,  1.6085e-01,  5.3357e-02, -9.0258e-02,  5.9733e-02,\n",
       "                      -5.2069e-03, -8.8236e-02, -4.2129e-02, -9.3201e-02, -3.8004e-02,\n",
       "                       2.7611e-03,  2.3130e-02,  6.9734e-02,  1.0130e-01,  8.6143e-02,\n",
       "                       1.1324e-01,  9.4677e-02,  2.3258e-02, -5.1362e-02, -8.0770e-03,\n",
       "                      -4.9126e-02,  9.2404e-02,  2.1411e-03,  1.4885e-01, -4.0860e-02,\n",
       "                      -7.1043e-02,  1.1313e-01, -8.4577e-02, -2.2106e-01, -6.6810e-02,\n",
       "                      -1.7765e-01, -5.6230e-03, -3.8424e-02,  9.7952e-02, -5.4896e-02,\n",
       "                       2.0286e-02,  2.4390e-01,  5.9287e-03, -1.0412e-01, -3.6853e-02,\n",
       "                       5.1955e-02,  7.1082e-02,  9.9636e-02,  5.8313e-02,  5.2597e-02,\n",
       "                       7.2697e-03,  1.2530e-01,  7.6224e-02, -2.6439e-02,  2.6094e-03,\n",
       "                       4.2937e-02, -3.4240e-02, -1.1512e-01,  9.9353e-02, -3.9650e-02,\n",
       "                       5.1931e-02, -5.6679e-02,  4.1149e-02, -4.8783e-02, -1.1894e-01,\n",
       "                      -1.1132e-01, -2.8158e-02,  6.7932e-02,  6.5887e-02,  1.2604e-03,\n",
       "                       1.4375e-02,  9.3158e-02,  2.0680e-01,  1.0509e-01,  2.0862e-01,\n",
       "                       2.3641e-02,  1.7052e-01,  8.5197e-02, -1.9854e-01, -4.0064e-02,\n",
       "                      -1.0753e-01,  9.3612e-02, -5.5930e-02, -1.7260e-02,  6.1377e-03,\n",
       "                      -3.9941e-02, -2.1438e-01,  2.1067e-02, -1.3694e-01, -1.2232e-01,\n",
       "                      -4.5986e-02, -1.5369e-01, -6.1649e-02, -4.8496e-03,  9.6666e-02,\n",
       "                      -2.6349e-01, -6.1836e-02, -1.7690e-01, -2.3916e-01,  4.5834e-02,\n",
       "                      -1.0352e-01, -2.5920e-02, -1.5715e-01, -1.8748e-01, -1.7546e-01,\n",
       "                      -1.0820e-01, -7.9880e-02, -1.2875e-01,  1.2581e-02, -1.4456e-01,\n",
       "                       5.9316e-02, -7.8990e-02,  5.0396e-02,  6.1112e-02, -3.3774e-01,\n",
       "                       2.0015e-01, -4.3963e-02,  1.3288e-01, -1.8022e-02, -4.4694e-02,\n",
       "                      -6.3974e-02, -8.7485e-02, -1.9587e-01, -3.3869e-01,  1.0758e-01,\n",
       "                      -3.3247e-02,  2.5465e-01, -5.4479e-03,  6.6874e-02, -3.2717e-02,\n",
       "                      -2.5687e-01, -1.1259e-01, -1.5375e-01, -3.9220e-01, -2.0563e-01,\n",
       "                       8.1227e-02, -3.1736e-01, -7.0179e-03, -2.2164e-02,  2.7732e-01,\n",
       "                       1.5612e-01, -3.1347e-01,  1.0084e-01, -3.1030e-01,  1.7580e-01,\n",
       "                      -2.2992e-01,  5.4500e-03,  1.5214e-01, -1.3257e-01, -2.2554e-01,\n",
       "                       4.4294e-03,  1.1245e-02,  1.7884e-01, -9.5763e-02,  1.4032e-03,\n",
       "                      -1.1022e-01, -9.6436e-02,  1.3617e-01,  2.4076e-01, -2.4665e-01,\n",
       "                      -3.6014e-03, -3.6224e-01, -1.6100e-01, -3.8471e-02, -1.4422e-01,\n",
       "                      -2.1138e-01, -3.7091e-01, -7.6136e-03, -5.2651e-02, -7.9674e-02,\n",
       "                      -8.4001e-02, -1.8413e-01, -6.5558e-02,  6.4914e-02, -2.8600e-01,\n",
       "                      -8.7287e-02, -1.7829e-01, -2.8405e-01, -1.1012e-01, -2.6828e-03,\n",
       "                      -1.4781e-01, -7.3346e-02, -1.6624e-01, -8.2737e-02, -1.8050e-01,\n",
       "                       1.1931e-01,  4.5803e-02,  7.0731e-02,  4.4487e-02,  5.1280e-02,\n",
       "                      -2.1107e-01, -1.4828e-01, -9.6668e-03, -1.4888e-01, -9.1394e-02,\n",
       "                       1.5195e-02, -2.2741e-01, -2.7975e-01, -1.1909e-01, -2.1836e-01,\n",
       "                      -2.7714e-01, -1.1648e-01, -5.1571e-02, -2.4398e-01, -3.1519e-01,\n",
       "                       1.2674e-01,  1.2290e-02, -7.8462e-02, -1.0978e-01,  1.5139e-01,\n",
       "                      -2.0683e-02, -3.4535e-02], device='cuda:0')),\n",
       "             ('lstm.bias_hh_l0',\n",
       "              tensor([-0.2537, -0.2053,  0.1549, -0.0856, -0.0139, -0.0454, -0.2076, -0.1703,\n",
       "                      -0.0010, -0.2266,  0.0287, -0.2175, -0.0403, -0.1445, -0.2841, -0.2619,\n",
       "                      -0.2692, -0.0857, -0.2025, -0.0925, -0.1819, -0.1754, -0.3229, -0.1123,\n",
       "                       0.0846, -0.1610, -0.0638, -0.2345, -0.2559, -0.2244, -0.0183, -0.1309,\n",
       "                      -0.1325,  0.0384, -0.0528, -0.1267, -0.1831, -0.2027, -0.1104, -0.0828,\n",
       "                      -0.1882,  0.0800,  0.2346, -0.2102,  0.0187, -0.0921, -0.0353, -0.1511,\n",
       "                      -0.1365, -0.1085, -0.1710,  0.0225, -0.0702,  0.1026,  0.0084, -0.0438,\n",
       "                      -0.0816,  0.1272, -0.3007,  0.0062, -0.4731, -0.1100, -0.0115,  0.0553,\n",
       "                      -0.0354, -0.1927, -0.0895, -0.0076,  0.0157, -0.1768, -0.2797, -0.0867,\n",
       "                      -0.2945,  0.0557, -0.0454, -0.0710, -0.4742,  0.0052, -0.0136, -0.2321,\n",
       "                      -0.2369, -0.3244,  0.1265, -0.1178,  0.0265, -0.1422, -0.1063, -0.2006,\n",
       "                       0.0562,  0.1397, -0.2417, -0.0990, -0.0703,  0.1895, -0.2804,  0.0436,\n",
       "                      -0.2386, -0.0862,  0.1042, -0.2933,  0.0129, -0.1995, -0.3942, -0.0718,\n",
       "                      -0.0357,  0.0454,  0.0346,  0.0871, -0.0688, -0.0452, -0.2163, -0.2525,\n",
       "                      -0.0369, -0.1528,  0.0076,  0.1237,  0.1074, -0.0829, -0.0412, -0.0632,\n",
       "                       0.0696,  0.1614, -0.0422, -0.0573, -0.1629, -0.0655, -0.0065, -0.1778,\n",
       "                       0.2640,  0.0371,  0.0737, -0.1507, -0.0894,  0.0223,  0.0535,  0.1151,\n",
       "                       0.0901, -0.1937, -0.2833, -0.1044,  0.0407,  0.0560,  0.1004,  0.3308,\n",
       "                       0.1946, -0.0528,  0.0792, -0.1257, -0.0577,  0.1858,  0.0806,  0.1693,\n",
       "                      -0.3007,  0.1522, -0.0642,  0.2099,  0.0299, -0.0253,  0.1350,  0.1299,\n",
       "                       0.0358, -0.0163, -0.1762, -0.0144, -0.0363,  0.0135,  0.1877, -0.0194,\n",
       "                      -0.0797, -0.1051, -0.1705, -0.0255, -0.1139,  0.0039, -0.0993, -0.0388,\n",
       "                       0.0446,  0.2459,  0.0746, -0.3049,  0.2384, -0.0276, -0.1660, -0.2012,\n",
       "                      -0.1409,  0.1105,  0.0182, -0.1183,  0.3111,  0.2837,  0.0929, -0.3356,\n",
       "                      -0.1685,  0.0388,  0.0533, -0.1143, -0.0509, -0.2409,  0.2797,  0.1233,\n",
       "                       0.0571, -0.1014, -0.2113,  0.1409,  0.1339,  0.1707, -0.0386, -0.1312,\n",
       "                       0.1311,  0.0549,  0.0474, -0.1993,  0.0080,  0.0922, -0.0435, -0.1310,\n",
       "                      -0.2684, -0.1006,  0.1027, -0.0397, -0.0379,  0.2240, -0.0387, -0.0607,\n",
       "                      -0.0574,  0.0342,  0.2564,  0.1220,  0.0701,  0.2282,  0.1780,  0.0055,\n",
       "                      -0.1754, -0.2753,  0.2662,  0.0390, -0.2223, -0.0906, -0.0319, -0.0725,\n",
       "                       0.1321,  0.0805, -0.1793,  0.1352,  0.3475, -0.0339,  0.2995, -0.0543,\n",
       "                       0.1530, -0.0310, -0.0901, -0.2177, -0.0812, -0.1754,  0.0794,  0.1367,\n",
       "                      -0.0370,  0.1251, -0.0854,  0.0324,  0.0384, -0.0576, -0.0151,  0.0976,\n",
       "                       0.0298,  0.0520, -0.0346, -0.0127, -0.0367,  0.0346,  0.1371, -0.1277,\n",
       "                       0.0271,  0.1206,  0.0088,  0.1056, -0.0071, -0.0238,  0.0574,  0.0754,\n",
       "                      -0.0846,  0.0575,  0.1134, -0.1682,  0.0443, -0.1639,  0.2416,  0.0962,\n",
       "                      -0.0489,  0.2105,  0.0157, -0.0777, -0.0023,  0.0922, -0.0685, -0.1501,\n",
       "                      -0.0868,  0.1565, -0.1133,  0.0306, -0.1733, -0.0872,  0.0506, -0.0423,\n",
       "                       0.0600,  0.1197,  0.0384,  0.1117, -0.1314, -0.0418,  0.0704, -0.0451,\n",
       "                      -0.0029, -0.0403,  0.1089, -0.0251,  0.0684,  0.0368,  0.1548,  0.0488,\n",
       "                       0.0471,  0.0197,  0.0104, -0.0388, -0.0043,  0.0285,  0.0043,  0.0238,\n",
       "                       0.1367,  0.0372, -0.0166,  0.0869, -0.0090, -0.2091,  0.0160, -0.1174,\n",
       "                       0.0511, -0.0942,  0.0530,  0.0097, -0.0747,  0.2113,  0.0328, -0.0191,\n",
       "                      -0.1594,  0.0568, -0.0350,  0.1146,  0.0183,  0.0426, -0.0325,  0.0360,\n",
       "                       0.0332, -0.0718, -0.0503, -0.0300,  0.0270, -0.1106,  0.0208, -0.1008,\n",
       "                       0.0797, -0.1584,  0.0309, -0.0656, -0.1258, -0.1492, -0.1428,  0.0201,\n",
       "                       0.2118, -0.0298, -0.0196,  0.1018,  0.1915, -0.0321,  0.1610, -0.0191,\n",
       "                       0.1488,  0.0705, -0.1128,  0.0294,  0.0228, -0.0060, -0.0430,  0.0402,\n",
       "                       0.0588, -0.1065, -0.3288, -0.0581, -0.1714, -0.0229, -0.0227, -0.0752,\n",
       "                      -0.1871,  0.1059,  0.1183, -0.1195, -0.2074, -0.1221, -0.2249,  0.0765,\n",
       "                      -0.0938, -0.0139, -0.2247, -0.1844, -0.2392, -0.2306, -0.0432, -0.0417,\n",
       "                      -0.0025, -0.2491,  0.0238, -0.0525,  0.0215,  0.0148, -0.3526,  0.1574,\n",
       "                      -0.0289,  0.0073, -0.0313, -0.0139, -0.0026, -0.0879, -0.2104, -0.2728,\n",
       "                      -0.0029,  0.0346,  0.2859, -0.0193,  0.0513, -0.1229, -0.2796, -0.0670,\n",
       "                      -0.1978, -0.2569, -0.1335, -0.0449, -0.2405, -0.0075,  0.0121,  0.3266,\n",
       "                       0.0734, -0.2635,  0.0713, -0.3492,  0.2479, -0.2503, -0.0743,  0.1892,\n",
       "                      -0.1493, -0.1206,  0.1108,  0.0049,  0.0593, -0.1479, -0.0982, -0.1409,\n",
       "                       0.0209, -0.0121,  0.3302, -0.1386, -0.1365, -0.2785, -0.0812, -0.0345,\n",
       "                      -0.1657, -0.0911, -0.4008, -0.0900, -0.0288, -0.1232, -0.1720, -0.0714,\n",
       "                       0.0693,  0.0282, -0.2050, -0.1562, -0.1917, -0.2633, -0.0692,  0.0714,\n",
       "                      -0.1510, -0.1451, -0.0539, -0.2003, -0.1447, -0.0384, -0.0051,  0.0612,\n",
       "                       0.0444, -0.0063, -0.1032, -0.1388,  0.0244, -0.0585,  0.0134,  0.0012,\n",
       "                      -0.1827, -0.1170, -0.0718, -0.2488, -0.3091, -0.0907, -0.1035, -0.2241,\n",
       "                      -0.1831,  0.0230,  0.0028, -0.1343, -0.1561,  0.0678, -0.0457, -0.0503],\n",
       "                     device='cuda:0')),\n",
       "             ('fc.weight',\n",
       "              tensor([[ 3.6406e-01,  1.1622e-01, -5.2269e-02, -1.4737e-01,  3.2523e-02,\n",
       "                        1.8495e-01, -1.3159e-01, -6.3277e-02, -5.1510e-03, -3.5057e-01,\n",
       "                       -1.3215e-01, -2.7647e-02,  1.8836e-01,  1.8821e-01,  1.7988e-02,\n",
       "                        2.0101e+00, -2.4084e-02, -5.5465e-02, -9.0380e-02, -2.6728e-01,\n",
       "                        3.7792e-02,  2.1317e-01, -3.1379e-02,  4.0597e-02, -4.4808e-01,\n",
       "                       -1.4216e-01, -1.3490e-01,  2.6170e-02,  2.4190e-01,  2.0188e-01,\n",
       "                       -7.9929e-02,  9.9340e-02,  1.2725e-01,  1.9658e-01,  4.9614e-02,\n",
       "                        3.5578e-01, -6.4083e-01, -1.9915e-02,  2.5071e-02,  6.1917e-03,\n",
       "                        6.4358e-01, -1.5743e-01,  2.8401e-01,  4.8013e-02,  6.6408e-02,\n",
       "                        2.2515e-01, -5.2720e-02,  1.6219e-01,  2.7659e-02,  2.3829e-02,\n",
       "                       -5.3931e-01,  3.0079e-02,  7.1910e-02,  1.7387e-01, -1.3992e-01,\n",
       "                       -2.4205e-01,  1.5290e-01, -1.0299e-01,  2.8668e-01,  1.3551e-01,\n",
       "                        6.2257e-01,  3.1612e-02,  6.4111e-02,  8.7940e-02,  2.0675e-01,\n",
       "                       -7.1224e-02,  2.5717e-01, -3.1692e-01,  5.0626e-01, -2.7909e-01,\n",
       "                       -4.4735e-02, -1.7681e-01,  6.3483e-01, -9.5771e-02, -2.3067e-01,\n",
       "                       -8.4609e-02,  8.2800e-01, -5.8569e-02, -9.2442e-02,  4.1293e-02,\n",
       "                       -2.4030e-01, -2.4731e-01,  1.6548e-03,  5.0361e-01, -2.2933e-01,\n",
       "                       -5.1349e-01,  6.5833e-02,  8.3379e-02, -3.2606e-02,  1.7744e-01,\n",
       "                       -6.6090e-02, -7.2362e-01,  5.6835e-03,  1.9141e-03,  3.3908e-02,\n",
       "                        7.9395e-02, -1.7555e-01,  6.4213e-02, -1.0417e-01,  3.4115e-03,\n",
       "                       -2.0196e-01, -8.1867e-04, -1.1515e-01,  1.2595e-01, -1.6839e-01,\n",
       "                       -1.2391e-01,  9.3786e-02,  2.0474e-01,  2.8067e-01,  9.5391e-02,\n",
       "                        3.6427e-02, -1.6413e-01,  7.7845e-02,  1.1480e-01,  8.5035e-02,\n",
       "                        8.7767e-02, -3.0893e-01, -8.2158e-02,  4.6396e-02,  6.1280e-02,\n",
       "                       -3.6829e-02, -3.0647e-02,  1.8833e-01, -2.0345e-01,  7.9045e-02,\n",
       "                       -5.1209e-01,  1.5700e-02,  9.3481e-02],\n",
       "                      [-3.6963e-01, -4.4745e-01,  6.4564e-02,  7.3339e-01, -5.1499e-02,\n",
       "                       -6.6200e-03, -8.3071e-01,  1.0084e-01,  5.7054e-02, -3.3013e-01,\n",
       "                       -1.9401e-01,  8.3357e-01, -1.1832e-01,  2.3880e-01, -1.3654e-01,\n",
       "                       -1.4619e-01, -1.1897e-01,  1.7387e-02,  3.6710e-01,  2.6092e-01,\n",
       "                        3.1092e-02, -3.1405e-02,  3.9349e-01, -3.0968e-01,  1.5846e-01,\n",
       "                        4.6287e-01, -1.8974e-01,  1.7253e-01, -5.1981e-01, -1.3746e-01,\n",
       "                       -8.8775e-02, -5.8462e-01, -3.2435e-01, -9.9333e-02, -5.4563e-01,\n",
       "                       -2.7574e-01,  7.0296e-01,  2.2497e-01,  7.5229e-02,  1.9854e-01,\n",
       "                       -7.1109e-01,  2.4848e-01, -3.9629e-01, -4.0769e-01,  2.0455e-01,\n",
       "                       -3.2942e-01,  1.3537e-01, -2.5080e-01,  3.6560e-02, -5.7604e-02,\n",
       "                        5.3029e-01,  1.2763e-01,  2.3666e-02, -1.6082e-01,  1.1348e-01,\n",
       "                        1.0558e+00, -2.4068e-01, -6.7574e-02, -8.9171e-02, -4.7286e-01,\n",
       "                       -2.6128e+00,  2.4315e-02, -3.8387e-01, -3.0429e-01, -5.3422e-01,\n",
       "                        6.9314e-01, -1.1230e+00, -4.7759e-02, -4.6149e-01, -2.0398e-01,\n",
       "                       -2.0952e-01,  2.1750e-01,  5.3151e-02,  1.3309e-01,  3.9645e-01,\n",
       "                       -2.1987e-02, -3.2727e-01,  1.0306e-01,  4.3410e-02,  8.6101e-01,\n",
       "                        5.5251e-01,  3.4150e-01, -1.4714e-02, -1.8509e-01,  8.3485e-02,\n",
       "                        3.4033e-01, -1.0252e-01, -3.7897e-01,  4.7562e-01,  1.3459e-01,\n",
       "                        5.5744e-02,  2.7892e-02,  1.1823e-01, -4.0073e-02, -2.7767e-01,\n",
       "                       -7.8271e-02,  1.2226e+00, -9.7282e-02, -3.4103e-02, -5.5295e-02,\n",
       "                        2.8184e-01, -6.6074e-01, -2.5330e-01, -2.7099e-01,  9.1572e-02,\n",
       "                       -1.2624e-01, -1.9664e-01, -1.3358e-01,  3.6937e-01, -2.5001e-01,\n",
       "                       -8.2517e-01,  1.8813e-01,  1.0533e-01, -3.7979e-02, -1.7207e-01,\n",
       "                       -1.3436e-01,  1.3646e-01,  1.2616e-01, -3.2582e-01,  4.5142e-02,\n",
       "                       -8.3450e-02, -3.7760e-01,  1.3544e-01, -4.1192e-01, -1.2715e-01,\n",
       "                        1.5545e+00, -2.7857e-02, -1.0603e-02],\n",
       "                      [ 2.5979e-01,  1.0417e-01, -1.5838e-01, -3.7693e-01,  1.3310e-01,\n",
       "                       -1.3208e-01,  4.1707e-01, -3.7839e-02,  1.1501e-01,  5.0561e-01,\n",
       "                        1.8522e-01, -3.3076e-01, -9.7458e-02, -3.5428e-01,  1.0881e-01,\n",
       "                       -1.6916e+00,  3.7981e-02,  3.2048e-02, -8.5047e-02, -8.2016e-02,\n",
       "                        1.0309e-01, -1.3887e-01, -3.0290e-01,  2.0540e-01,  3.6225e-01,\n",
       "                       -1.3639e-01,  1.8922e-01, -8.5374e-02,  1.2631e-01, -1.9532e-01,\n",
       "                        4.9944e-02,  3.2345e-01,  9.8142e-02, -2.7427e-01,  2.5094e-01,\n",
       "                       -1.6622e-01,  2.2826e-01, -1.2993e-01, -3.6753e-02, -6.9605e-02,\n",
       "                       -1.6353e-01, -1.3188e-01,  1.6487e-01,  2.1662e-01, -1.7985e-01,\n",
       "                        1.5460e-01, -1.1437e-01,  1.3075e-01,  4.6404e-02,  4.4283e-02,\n",
       "                       -1.0361e-01, -2.0675e-01, -1.9584e-02,  8.3629e-02,  3.4397e-02,\n",
       "                       -3.8307e-01,  8.4749e-02,  1.1923e-01, -2.4746e-01,  2.0092e-01,\n",
       "                        1.5858e+00,  2.4703e-02,  1.1834e-02,  1.1901e-01,  1.1483e-01,\n",
       "                       -2.1826e-01,  3.0216e-01,  3.4666e-01,  9.3048e-03,  3.8369e-01,\n",
       "                        2.8533e-01, -1.3435e-01, -7.3329e-01,  9.1909e-02, -2.4856e-01,\n",
       "                        7.0663e-02, -3.8026e-01, -2.9266e-02, -8.8160e-02, -3.5145e-01,\n",
       "                       -3.9568e-01,  3.3756e-02,  9.4467e-02, -2.6419e-01,  2.1253e-01,\n",
       "                        3.4547e-01,  5.6126e-03,  1.2934e-01, -2.4077e-01, -2.7749e-01,\n",
       "                        7.8414e-02,  5.0198e-01, -1.3256e-01, -4.0526e-02,  1.0921e-01,\n",
       "                       -4.7145e-02, -3.2693e-01,  6.1516e-02, -4.7160e-02,  5.2286e-02,\n",
       "                       -4.7537e-02,  1.9917e-01,  1.5470e-01,  7.7935e-02,  1.2058e-01,\n",
       "                        1.7209e-01, -4.4447e-02,  2.6490e-02, -2.8894e-01,  4.6363e-02,\n",
       "                        3.6908e-01, -1.9318e-01, -7.8825e-02,  5.8799e-02, -1.3540e-02,\n",
       "                        1.6526e-02,  2.1435e-02, -8.6900e-02,  9.9501e-02,  6.9336e-02,\n",
       "                        8.2862e-02,  1.9148e-01, -2.5528e-01,  5.1058e-01,  9.6042e-02,\n",
       "                       -2.3404e-01,  3.0252e-03, -1.3772e-01]], device='cuda:0')),\n",
       "             ('fc.bias',\n",
       "              tensor([-0.1008,  0.1186, -0.0045], device='cuda:0'))])"
      ]
     },
     "execution_count": 111,
     "metadata": {},
     "output_type": "execute_result"
    }
   ],
   "source": [
    "model.state_dict()"
   ]
  },
  {
   "cell_type": "code",
   "execution_count": 84,
   "metadata": {},
   "outputs": [],
   "source": [
    "# save the model\n",
    "torch.save(model.state_dict(), \"C:\\\\Users\\\\marti\\\\NLP-Project\\\\model_weights\\\\bilstm_ner_model.pth\")"
   ]
  },
  {
   "cell_type": "code",
   "execution_count": 109,
   "metadata": {},
   "outputs": [
    {
     "data": {
      "text/plain": [
       "<matplotlib.lines.Line2D at 0x28abe63b890>"
      ]
     },
     "execution_count": 109,
     "metadata": {},
     "output_type": "execute_result"
    },
    {
     "data": {
      "image/png": "[encoded data removed]",
      "text/plain": [
       "<Figure size 640x480 with 1 Axes>"
      ]
     },
     "metadata": {},
     "output_type": "display_data"
    }
   ],
   "source": [
    "import matplotlib.pyplot as plt\n",
    "\n",
    "x, y = test_loader.dataset[3]\n",
    "x = x.unsqueeze(0).to(device)  # Add batch dimension\n",
    "game_length = x.shape[1]\n",
    "# cocatenate 0s to the end of x to match the input size of the model\n",
    "x = torch.cat([x, torch.zeros((1, 100, x.shape[-1]), dtype=torch.float32).to(device)], dim=1)\n",
    "logits = model.fc(model.lstm.forward(x)[0]).detach().cpu()[0]\n",
    "plt.plot(logits, label='Logits')\n",
    "plt.axvline(game_length)\n",
    "\n",
    "\n"
   ]
  },
  {
   "cell_type": "code",
   "execution_count": 26,
   "metadata": {
    "execution": {
     "iopub.execute_input": "2025-05-24T13:05:43.219668Z",
     "iopub.status.busy": "2025-05-24T13:05:43.219130Z",
     "iopub.status.idle": "2025-05-24T13:05:43.287701Z",
     "shell.execute_reply": "2025-05-24T13:05:43.286948Z",
     "shell.execute_reply.started": "2025-05-24T13:05:43.219640Z"
    },
    "trusted": true
   },
   "outputs": [
    {
     "name": "stdout",
     "output_type": "stream",
     "text": [
      "(10, 4000)\n"
     ]
    }
   ],
   "source": [
    "historyReshaped = np.array(history).reshape(-1, len(train_loader))\n",
    "print(historyReshaped.shape)"
   ]
  },
  {
   "cell_type": "code",
   "execution_count": 90,
   "metadata": {
    "execution": {
     "iopub.execute_input": "2025-05-24T13:05:44.968601Z",
     "iopub.status.busy": "2025-05-24T13:05:44.967887Z",
     "iopub.status.idle": "2025-05-24T13:05:45.452884Z",
     "shell.execute_reply": "2025-05-24T13:05:45.452141Z",
     "shell.execute_reply.started": "2025-05-24T13:05:44.968566Z"
    },
    "trusted": true
   },
   "outputs": [
    {
     "data": {
      "image/png": "[encoded data removed]",
      "text/plain": [
       "<Figure size 640x480 with 1 Axes>"
      ]
     },
     "metadata": {},
     "output_type": "display_data"
    }
   ],
   "source": [
    "# plot the distribution of the loss\n",
    "import matplotlib.pyplot as plt\n",
    "\n",
    "plt.hist(history[:-1], bins=50)\n",
    "plt.xlabel('Loss')\n",
    "plt.ylabel('Frequency')\n",
    "plt.title('Loss Distribution')\n",
    "plt.show()"
   ]
  },
  {
   "cell_type": "code",
   "execution_count": 28,
   "metadata": {
    "execution": {
     "iopub.execute_input": "2025-05-24T13:05:50.558187Z",
     "iopub.status.busy": "2025-05-24T13:05:50.557773Z",
     "iopub.status.idle": "2025-05-24T13:05:50.675095Z",
     "shell.execute_reply": "2025-05-24T13:05:50.674296Z",
     "shell.execute_reply.started": "2025-05-24T13:05:50.558155Z"
    },
    "trusted": true
   },
   "outputs": [
    {
     "name": "stdout",
     "output_type": "stream",
     "text": [
      "Predictions: [[9.9998927e-01 1.0670213e-05 1.6567036e-08]\n",
      " [2.5982295e-06 9.9999738e-01 1.6333949e-08]\n",
      " [9.9999106e-01 3.5417727e-07 8.5965412e-06]\n",
      " [3.9829606e-06 4.6776036e-05 9.9994934e-01]\n",
      " [2.4616584e-06 9.9999750e-01 1.3264348e-08]\n",
      " [2.0791574e-06 2.4961992e-05 9.9997306e-01]\n",
      " [2.5819145e-06 9.9999738e-01 1.5944439e-08]\n",
      " [2.8242371e-06 9.9999714e-01 2.2404645e-08]\n",
      " [2.9073287e-06 9.9999702e-01 2.4967550e-08]\n",
      " [2.6579933e-06 9.9999738e-01 1.7815625e-08]]\n",
      "True labels: [0 1 0 2 1 2 1 1 2 1]\n"
     ]
    }
   ],
   "source": [
    "model.eval()\n",
    "with torch.no_grad():\n",
    "    # Get the first 10 samples from the validation set\n",
    "    sample_batch = [dataset_val[i] for i in range(10)]\n",
    "    moves, outcomes, lengths = collate_fn(sample_batch)\n",
    "    moves = moves.to(device)\n",
    "    outputs = model(moves)\n",
    "    preds = outputs.cpu().numpy()\n",
    "    true_labels = torch.argmax(outcomes, dim=1).numpy()\n",
    "    print(\"Predictions:\", preds)\n",
    "    print(\"True labels:\", true_labels)"
   ]
  },
  {
   "cell_type": "code",
   "execution_count": 29,
   "metadata": {
    "execution": {
     "iopub.execute_input": "2025-05-24T13:05:54.286727Z",
     "iopub.status.busy": "2025-05-24T13:05:54.286117Z",
     "iopub.status.idle": "2025-05-24T13:06:51.780205Z",
     "shell.execute_reply": "2025-05-24T13:06:51.779383Z",
     "shell.execute_reply.started": "2025-05-24T13:05:54.286703Z"
    },
    "trusted": true
   },
   "outputs": [
    {
     "data": {
      "image/png": "[encoded data removed]",
      "text/plain": [
       "<Figure size 500x500 with 2 Axes>"
      ]
     },
     "metadata": {},
     "output_type": "display_data"
    }
   ],
   "source": [
    "from sklearn.metrics import confusion_matrix, ConfusionMatrixDisplay\n",
    "import numpy as np\n",
    "\n",
    "import matplotlib.pyplot as plt\n",
    "\n",
    "# Get predictions and true labels for the entire validation set\n",
    "model.eval()\n",
    "all_preds = []\n",
    "all_true = []\n",
    "\n",
    "with torch.no_grad():\n",
    "    for inputs, targets, lengths in val_loader:\n",
    "        inputs = inputs.to(device)\n",
    "        targets = targets.to(device)\n",
    "        outputs = model(inputs)\n",
    "        preds = torch.argmax(outputs, dim=1).cpu().numpy()\n",
    "        true = torch.argmax(targets, dim=1).cpu().numpy()\n",
    "        all_preds.extend(preds)\n",
    "        all_true.extend(true)\n",
    "\n",
    "cm = confusion_matrix(all_true, all_preds)\n",
    "labels = ['0-1', '1-0', '1/2-1/2']\n",
    "disp = ConfusionMatrixDisplay(confusion_matrix=cm, display_labels=labels)\n",
    "fig, ax = plt.subplots(figsize=(5,5))\n",
    "disp.plot(ax=ax, cmap='Blues', values_format='d')\n",
    "plt.title(\"Confusion Matrix on Validation Set\")\n",
    "plt.show()"
   ]
  },
  {
   "cell_type": "code",
   "execution_count": null,
   "metadata": {
    "execution": {
     "execution_failed": "2025-05-24T11:36:24.390Z"
    },
    "trusted": true
   },
   "outputs": [],
   "source": [
    "from sklearn.utils.class_weight import compute_class_weight\n",
    "\n",
    "# Plot a weighted confusion matrix\n",
    "# Compute class weights\n",
    "class_weights = compute_class_weight(class_weight='balanced', classes=np.unique(all_true), y=all_true)\n",
    "# Normalize weights for display\n",
    "norm_weights = class_weights / class_weights.sum()\n",
    "norm_weights = norm_weights[:, np.newaxis]  # Reshape to 2D for display\n",
    "\n",
    "norm_weights_matrix = norm_weights @ norm_weights.T\n",
    "\n",
    "cm_weighted = cm * norm_weights_matrix\n",
    "cm_weighted = cm_weighted.astype('float') / cm_weighted.sum()\n",
    "\n",
    "# Plot weighted confusion matrix\n",
    "fig, ax = plt.subplots(figsize=(5,5))\n",
    "disp = ConfusionMatrixDisplay(confusion_matrix=cm_weighted, display_labels=labels)\n",
    "disp.plot(ax=ax, cmap='Blues', values_format='.2f')\n",
    "plt.title(\"Weighted Confusion Matrix on Validation Set\")\n",
    "plt.show()"
   ]
  },
  {
   "cell_type": "code",
   "execution_count": null,
   "metadata": {
    "execution": {
     "execution_failed": "2025-05-24T11:36:24.390Z"
    },
    "trusted": true
   },
   "outputs": [],
   "source": [
    "print(\"Sum of diagonal of weighted confusion matrix:\", np.trace(cm_weighted))"
   ]
  },
  {
   "cell_type": "code",
   "execution_count": null,
   "metadata": {
    "execution": {
     "execution_failed": "2025-05-24T11:36:24.391Z"
    },
    "trusted": true
   },
   "outputs": [],
   "source": [
    "#Comupte accuracy, recall and f1 score on validation set\n",
    "from sklearn.metrics import classification_report\n",
    "report = classification_report(all_true, all_preds, target_names=labels)\n",
    "print(report)\n",
    "\n",
    "# Plot the metrics\n",
    "import matplotlib.pyplot as plt\n",
    "\n",
    "plt.figure(figsize=(10, 5))\n",
    "plt.plot(history, label='Loss')\n",
    "\n",
    "plt.axhline(y=best_val_loss, color='r', linestyle='--', label='Best Validation Loss')\n",
    "plt.title('Training Loss')\n",
    "plt.xlabel('Iterations')\n",
    "plt.ylabel('Loss')\n",
    "plt.legend()\n",
    "plt.show()"
   ]
  },
  {
   "cell_type": "code",
   "execution_count": null,
   "metadata": {
    "execution": {
     "execution_failed": "2025-05-24T11:36:24.391Z"
    },
    "trusted": true
   },
   "outputs": [],
   "source": [
    "# Save the model\n",
    "torch.save(model.state_dict(), 'bilstm_model.pth')"
   ]
  },
  {
   "cell_type": "markdown",
   "metadata": {},
   "source": [
    "# Classification of the outcome cause"
   ]
  },
  {
   "cell_type": "code",
   "execution_count": null,
   "metadata": {
    "execution": {
     "execution_failed": "2025-05-24T11:36:24.391Z"
    },
    "trusted": true
   },
   "outputs": [],
   "source": [
    "df_cause = pd.read_sql_query(\"SELECT id, termination FROM games\", connection)"
   ]
  },
  {
   "cell_type": "code",
   "execution_count": null,
   "metadata": {
    "execution": {
     "execution_failed": "2025-05-24T11:36:24.391Z"
    },
    "trusted": true
   },
   "outputs": [],
   "source": [
    "df_cause.head()"
   ]
  },
  {
   "cell_type": "code",
   "execution_count": null,
   "metadata": {
    "execution": {
     "execution_failed": "2025-05-24T11:36:24.391Z"
    },
    "trusted": true
   },
   "outputs": [],
   "source": [
    "df_moves_grouped.head()"
   ]
  },
  {
   "cell_type": "code",
   "execution_count": null,
   "metadata": {
    "execution": {
     "execution_failed": "2025-05-24T11:36:24.391Z"
    },
    "trusted": true
   },
   "outputs": [],
   "source": [
    "df_moves_cause = pd.merge(df_moves_grouped, df_cause, left_on='game_id', right_on='id', how='left').drop(columns=['id', 'game_id'])\n",
    "df_moves_cause.head()"
   ]
  },
  {
   "cell_type": "code",
   "execution_count": null,
   "metadata": {
    "execution": {
     "execution_failed": "2025-05-24T11:36:24.391Z"
    },
    "trusted": true
   },
   "outputs": [],
   "source": [
    "# One hot encoding the termination column\n",
    "one_hot_termination = pd.get_dummies(df_moves_cause['termination'])\n",
    "df_cause_one_hot = df_moves_cause.copy()\n",
    "df_cause_one_hot['one_hot_termination'] = one_hot_termination.values.tolist()\n",
    "# drop the termination column\n",
    "df_cause_one_hot = df_cause_one_hot.drop(columns=['termination'])\n",
    "df_cause_one_hot.head()"
   ]
  },
  {
   "cell_type": "code",
   "execution_count": null,
   "metadata": {
    "execution": {
     "execution_failed": "2025-05-24T11:36:24.391Z"
    },
    "trusted": true
   },
   "outputs": [],
   "source": [
    "# Cross validation split the dataset\n",
    "from sklearn.model_selection import train_test_split\n",
    "df_train_cause, df_test_cause = train_test_split(df_cause_one_hot, test_size=0.2, random_state=42)\n",
    "df_train_cause, df_val_cause  = train_test_split(df_train_cause, test_size=0.2, random_state=42)\n",
    "df_train_cause.shape, df_val_cause.shape, df_test_cause.shape"
   ]
  },
  {
   "cell_type": "code",
   "execution_count": null,
   "metadata": {
    "trusted": true
   },
   "outputs": [],
   "source": []
  }
 ],
 "metadata": {
  "kaggle": {
   "accelerator": "nvidiaTeslaT4",
   "dataSources": [
    {
     "datasetId": 7437345,
     "sourceId": 11837767,
     "sourceType": "datasetVersion"
    },
    {
     "isSourceIdPinned": true,
     "modelId": 356506,
     "modelInstanceId": 335487,
     "sourceId": 410899,
     "sourceType": "modelInstanceVersion"
    }
   ],
   "dockerImageVersionId": 31040,
   "isGpuEnabled": true,
   "isInternetEnabled": true,
   "language": "python",
   "sourceType": "notebook"
  },
  "kernelspec": {
   "display_name": "Python 3",
   "language": "python",
   "name": "python3"
  },
  "language_info": {
   "codemirror_mode": {
    "name": "ipython",
    "version": 3
   },
   "file_extension": ".py",
   "mimetype": "text/x-python",
   "name": "python",
   "nbconvert_exporter": "python",
   "pygments_lexer": "ipython3",
   "version": "3.11.11"
  }
 },
 "nbformat": 4,
 "nbformat_minor": 4
}
