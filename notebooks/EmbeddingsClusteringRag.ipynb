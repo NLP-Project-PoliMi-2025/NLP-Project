{
 "cells": [
  {
   "cell_type": "code",
   "execution_count": null,
   "id": "79bed30f",
   "metadata": {},
   "outputs": [],
   "source": [
    "import torch\n",
    "import numpy as np\n",
    "import matplotlib.pyplot as plt\n",
    "import tqdm\n",
    "import seaborn as sns\n",
    "sns.set_theme()"
   ]
  },
  {
   "cell_type": "code",
   "execution_count": 2,
   "id": "9c282540",
   "metadata": {},
   "outputs": [
    {
     "name": "stdout",
     "output_type": "stream",
     "text": [
      "c:\\Polimi\\Master\\2Sem\\NLP-Project\n"
     ]
    }
   ],
   "source": [
    "import os\n",
    "#add .. to path via os\n",
    "os.chdir('..')\n",
    "print(os.getcwd())"
   ]
  },
  {
   "cell_type": "code",
   "execution_count": 7,
   "id": "bc7d6f1c",
   "metadata": {},
   "outputs": [],
   "source": [
    "from project.models.lit_modules import SeqAnnotator\n",
    "from project.dataset.ChessDataset import ChessDataset"
   ]
  },
  {
   "cell_type": "code",
   "execution_count": 5,
   "id": "64be2019",
   "metadata": {},
   "outputs": [
    {
     "data": {
      "text/plain": [
       "SeqAnnotator(\n",
       "  (embedding): Embedding(1968, 100)\n",
       "  (rnn): LSTM(100, 512, batch_first=True, bidirectional=True)\n",
       "  (fc_out): Sequential(\n",
       "    (0): Linear(in_features=1024, out_features=512, bias=True)\n",
       "    (1): ReLU()\n",
       "    (2): Linear(in_features=512, out_features=3, bias=True)\n",
       "    (3): Softmax(dim=-1)\n",
       "  )\n",
       "  (loss_fn): CrossEntropyLoss()\n",
       "  (reg_loss_fn): MSELoss()\n",
       ")"
      ]
     },
     "execution_count": 5,
     "metadata": {},
     "output_type": "execute_result"
    }
   ],
   "source": [
    "WEIGHT_LOCATION = \"./checkpoints/lstm-best-v3.ckpt\"\n",
    "\n",
    "# Load the model\n",
    "model = SeqAnnotator.load_from_checkpoint(WEIGHT_LOCATION)\n",
    "model.eval()"
   ]
  },
  {
   "cell_type": "code",
   "execution_count": 9,
   "id": "5a597b68",
   "metadata": {},
   "outputs": [
    {
     "name": "stdout",
     "output_type": "stream",
     "text": [
      "Loading parquet file @  ./data/games_0001/train_100K.parquet  with columns  ['Moves']\n",
      "Loaded 70000 rows and 1 columns\n"
     ]
    },
    {
     "name": "stderr",
     "output_type": "stream",
     "text": [
      "Building lookup tables: 100%|██████████| 1/1 [00:01<00:00,  1.03s/it]\n",
      "Converting columns to indices: 100%|██████████| 1/1 [00:01<00:00,  1.82s/it]\n"
     ]
    }
   ],
   "source": [
    "#Load the dataset\n",
    "dataset = ChessDataset(\n",
    "    parquette_path=\"./data/games_0001/train_100K.parquet\",\n",
    "    inputColumns=[\"Moves\"],\n",
    "    labelColumns=[]\n",
    ")"
   ]
  },
  {
   "cell_type": "code",
   "execution_count": 42,
   "id": "fd11101c",
   "metadata": {},
   "outputs": [],
   "source": [
    "data = [dataset[i][0][0] for i in range(len(dataset))]"
   ]
  },
  {
   "cell_type": "code",
   "execution_count": null,
   "id": "a9b08919",
   "metadata": {},
   "outputs": [],
   "source": [
    "tensors = []\n",
    "for d in tqdm.tqdm(data):\n",
    "    # Convert the data to a tensor\n",
    "    d = torch.tensor(d).unsqueeze(0)\n",
    "    tensors.append(d)\n"
   ]
  },
  {
   "cell_type": "code",
   "execution_count": 32,
   "id": "beb377f7",
   "metadata": {},
   "outputs": [
    {
     "data": {
      "text/plain": [
       "torch.Size([1, 163])"
      ]
     },
     "execution_count": 32,
     "metadata": {},
     "output_type": "execute_result"
    }
   ],
   "source": [
    "torch.unsqueeze(dataset[0][0][0], dim=0).shape"
   ]
  },
  {
   "cell_type": "code",
   "execution_count": 40,
   "id": "d6c05c49",
   "metadata": {},
   "outputs": [
    {
     "data": {
      "text/plain": [
       "torch.Size([2, 1, 512])"
      ]
     },
     "execution_count": 40,
     "metadata": {},
     "output_type": "execute_result"
    }
   ],
   "source": [
    "outcome, (embeddings_h, embeddings_c) = model.forward(torch.unsqueeze(dataset[0][0][0], dim=0))\n",
    "embeddings_c.shape"
   ]
  }
 ],
 "metadata": {
  "kernelspec": {
   "display_name": "Python 3",
   "language": "python",
   "name": "python3"
  },
  "language_info": {
   "codemirror_mode": {
    "name": "ipython",
    "version": 3
   },
   "file_extension": ".py",
   "mimetype": "text/x-python",
   "name": "python",
   "nbconvert_exporter": "python",
   "pygments_lexer": "ipython3",
   "version": "3.11.12"
  }
 },
 "nbformat": 4,
 "nbformat_minor": 5
}
