{
 "cells": [
  {
   "cell_type": "code",
   "execution_count": 4,
   "id": "73b373f4",
   "metadata": {},
   "outputs": [],
   "source": [
    "import pandas as pd\n",
    "import sqlite3\n",
    "import chess"
   ]
  },
  {
   "cell_type": "code",
   "execution_count": 5,
   "id": "13ca5234",
   "metadata": {},
   "outputs": [],
   "source": [
    "connection = sqlite3.connect('chess_games.db')\n",
    "cursor = connection.cursor()"
   ]
  },
  {
   "cell_type": "code",
   "execution_count": 6,
   "id": "986da356",
   "metadata": {},
   "outputs": [
    {
     "name": "stdout",
     "output_type": "stream",
     "text": [
      "Schema for table: games\n",
      "(0, 'id', 'INTEGER', 0, None, 1)\n",
      "(1, 'result', 'TEXT', 0, None, 0)\n",
      "(2, 'termination', 'TEXT', 0, None, 0)\n",
      "----------------------------------------\n",
      "Schema for table: moves\n",
      "(0, 'id', 'INTEGER', 0, None, 1)\n",
      "(1, 'game_id', 'INTEGER', 0, None, 0)\n",
      "(2, 'move_number', 'INTEGER', 0, None, 0)\n",
      "(3, 'move', 'TEXT', 0, None, 0)\n",
      "(4, 'board_fen', 'TEXT', 0, None, 0)\n",
      "----------------------------------------\n"
     ]
    }
   ],
   "source": [
    "# Query to get the schema of all tables\n",
    "cursor.execute(\"SELECT name FROM sqlite_master WHERE type='table';\")\n",
    "tables = cursor.fetchall()\n",
    "\n",
    "for table_name in tables:\n",
    "    table_name = table_name[0]\n",
    "    print(f\"Schema for table: {table_name}\")\n",
    "    cursor.execute(f\"PRAGMA table_info({table_name});\")\n",
    "    schema = cursor.fetchall()\n",
    "    for column in schema:\n",
    "        print(column)\n",
    "    print(\"-\" * 40)"
   ]
  },
  {
   "cell_type": "code",
   "execution_count": 7,
   "id": "9fe713c6",
   "metadata": {},
   "outputs": [
    {
     "data": {
      "text/plain": [
       "[('rnbqkbnr/pppppppp/8/8/3P4/8/PPP1PPPP/RNBQKBNR b KQkq - 0 1',),\n",
       " ('rnbqkbnr/ppppp1pp/8/5p2/3P4/8/PPP1PPPP/RNBQKBNR w KQkq - 0 2',),\n",
       " ('rnbqkbnr/ppppp1pp/8/5p2/3P4/6P1/PPP1PP1P/RNBQKBNR b KQkq - 0 2',),\n",
       " ('rnbqkbnr/ppppp2p/6p1/5p2/3P4/6P1/PPP1PP1P/RNBQKBNR w KQkq - 0 3',),\n",
       " ('rnbqkbnr/ppppp2p/6p1/5p2/3P4/6P1/PPP1PPBP/RNBQK1NR b KQkq - 1 3',)]"
      ]
     },
     "execution_count": 7,
     "metadata": {},
     "output_type": "execute_result"
    }
   ],
   "source": [
    "cursor.execute(\"SELECT board_fen FROM moves LIMIT 5;\")\n",
    "games = cursor.fetchall()\n",
    "games"
   ]
  },
  {
   "cell_type": "code",
   "execution_count": 8,
   "id": "0a5879b6",
   "metadata": {},
   "outputs": [
    {
     "name": "stdout",
     "output_type": "stream",
     "text": [
      "r n b q k b n r\n",
      "p p p p p p p p\n",
      ". . . . . . . .\n",
      ". . . . . . . .\n",
      ". . . P . . . .\n",
      ". . . . . . . .\n",
      "P P P . P P P P\n",
      "R N B Q K B N R\n",
      "----------------------------------------\n",
      "r n b q k b n r\n",
      "p p p p p . p p\n",
      ". . . . . . . .\n",
      ". . . . . p . .\n",
      ". . . P . . . .\n",
      ". . . . . . . .\n",
      "P P P . P P P P\n",
      "R N B Q K B N R\n",
      "----------------------------------------\n",
      "r n b q k b n r\n",
      "p p p p p . p p\n",
      ". . . . . . . .\n",
      ". . . . . p . .\n",
      ". . . P . . . .\n",
      ". . . . . . P .\n",
      "P P P . P P . P\n",
      "R N B Q K B N R\n",
      "----------------------------------------\n",
      "r n b q k b n r\n",
      "p p p p p . . p\n",
      ". . . . . . p .\n",
      ". . . . . p . .\n",
      ". . . P . . . .\n",
      ". . . . . . P .\n",
      "P P P . P P . P\n",
      "R N B Q K B N R\n",
      "----------------------------------------\n",
      "r n b q k b n r\n",
      "p p p p p . . p\n",
      ". . . . . . p .\n",
      ". . . . . p . .\n",
      ". . . P . . . .\n",
      ". . . . . . P .\n",
      "P P P . P P B P\n",
      "R N B Q K . N R\n",
      "----------------------------------------\n"
     ]
    }
   ],
   "source": [
    "#Visualize the first game\n",
    "for game in games:\n",
    "    board = chess.Board(game[0])\n",
    "    print(board)\n",
    "    print(\"-\" * 40)"
   ]
  },
  {
   "cell_type": "code",
   "execution_count": 26,
   "id": "1012e17e",
   "metadata": {},
   "outputs": [
    {
     "data": {
      "text/plain": [
       "array([list(['d2d4', 'f7f5', 'g2g3', 'g7g6', 'f1g2', 'f8g7', 'g1f3', 'd7d6', 'c2c3', 'e7e6', 'a2a4', 'g8f6', 'd1c2', 'd8e7', 'b1d2', 'e6e5', 'd4e5', 'd6e5', 'e2e4', 'b8c6', 'e1g1', 'f5e4', 'd2e4', 'c8f5', 'f3d2', 'e8c8', 'b2b4', 'g7h6', 'f1e1', 'h6d2', 'c1d2', 'f6e4', 'g2e4', 'e7e6', 'd2g5', 'd8d6', 'a1d1', 'd6d1', 'e1d1', 'h7h6', 'g5e3', 'a7a5', 'c2b1', 'h6h5', 'b4b5', 'c6e7', 'e3g5', 'h8e8', 'h2h4', 'e6c4', 'd1e1', 'f5e4', 'e1e4', 'c4e6', 'g5f4', 'e6f5', 'f4e5', 'e7d5', 'b1e1', 'd5b6', 'f2f4', 'b6d7', 'e1e2', 'b7b6', 'e4e3', 'e8e7', 'e3e4', 'd7c5', 'e4d4', 'e7d7', 'g1g2', 'c8d8', 'g2h2', 'd8c8', 'e2g2', 'c8b8', 'g2a2', 'b8a7', 'a2g2', 'a7b8', 'g2e2', 'b8c8', 'e2f3', 'c8b8', 'f3d1', 'b8c8', 'd1e2', 'c8b8', 'e2d1', 'b8b7', 'd4d7', 'c5d7', 'e5d4', 'd7c5', 'h2g2', 'f5d5', 'g2g1', 'd5f5', 'd4c5', 'f5c5', 'd1d4', 'c5f5', 'd4d2', 'f5b1', 'g1f2', 'b1b3', 'd2d4', 'b3c2', 'f2e3', 'b7c8', 'd4h8', 'c8b7', 'h8d4', 'b7b8', 'd4d8', 'b8b7', 'd8d5', 'b7b8', 'd5g8', 'b8b7', 'g8c4', 'b7b8', 'c4g8', 'b8b7', 'g8d5', 'b7b8', 'd5d8', 'b8b7', 'd8d4', 'b7b8', 'd4d8', 'b8b7', 'd8d3', 'c2a4', 'd3g6', 'a4b5', 'g6e4', 'b7a7', 'f4f5', 'a5a4', 'f5f6', 'a4a3', 'f6f7', 'b5c5', 'e3e2', 'c5b5', 'e2e3', 'b5c5', 'e3d3', 'c5b5', 'd3e3', 'b5c5', 'e3d3', 'c5b5', 'e4c4', 'b5c4', 'd3c4', 'a3a2', 'f7f8q', 'a2a1q', 'f8f3', 'a1b1', 'f3h5', 'b1e4', 'c4b3', 'e4b1', 'b3a3', 'b1c1', 'a3b3', 'c1b1', 'b3c4', 'b1e4', 'c4b3', 'e4b1', 'b3a4', 'b1a2', 'a4b4', 'a2b1', 'b4a4', 'b1c2', 'a4b4', 'c2b1', 'b4a4', 'b1a2', 'a4b4', 'a2b1', 'b4a4', 'b1c2', 'a4b4', 'c2b1', 'b4c4', 'b1e4', 'c4b3', 'e4b1', 'b3c4', 'b1e4', 'c4b3', 'e4b1']),\n",
       "       list(['e2e4', 'e7e6', 'd2d4', 'd7d5', 'b1c3', 'f8b4', 'e4e5', 'c7c5', 'd1g4', 'g8e7', 'd4c5', 'b4c3', 'b2c3', 'e8g8', 'g1f3', 'b8d7', 'f1d3', 'f7f5', 'e5f6', 'f8f6', 'g4h5', 'h7h6', 'c1e3', 'e7f5', 'e3d4', 'e6e5', 'f3e5', 'd8e7', 'e1g1', 'd7e5', 'a1e1', 'f6e6', 'h5f5', 'e5d3', 'e1e6', 'c8e6', 'f5d3', 'a8e8', 'h2h3', 'e6d7', 'f1b1', 'd7c6', 'f2f4', 'e7h4', 'd4e5', 'h4e7', 'd3d4', 'a7a6', 'b1f1', 'h6h5', 'f1f3', 'h5h4', 'd4f2', 'c6d7', 'f3d3', 'g7g5', 'f2f3', 'e7f7', 'd3d4', 'e8c8', 'e5d6', 'c8e8', 'd4d5', 'd7f5', 'd6e5', 'g5f4', 'e5f4', 'a6a5', 'g1h2', 'e8e4', 'd5d4', 'e4d4', 'c3d4', 'f5c2', 'f3g4', 'f7g7', 'f4g5', 'c2b1', 'a2a3', 'b1a2', 'g4c8', 'g8h7', 'c8d8', 'h7g6', 'g5h4', 'g6f5', 'h4f2', 'a2c4', 'd8e8', 'g7c7', 'f2g3', 'c7c6', 'e8e5', 'f5g6', 'g3f4', 'a5a4', 'e5g5', 'g6f7', 'g5f5', 'f7e8', 'f4d6', 'e8d8', 'h3h4', 'c6d7', 'f5f6', 'd8c8', 'f6f8', 'd7d8', 'f8f5', 'd8d7', 'f5f8', 'd7d8', 'f8d8', 'c8d8', 'g2g4', 'd8e8', 'h4h5', 'e8f7', 'h2g3', 'f7e6', 'g3f4', 'c4e2', 'f4g5', 'e2f3', 'd6f4', 'e6f7', 'f4d2', 'f7g7', 'g5f4', 'f3e2', 'd4d5', 'e2b5', 'g4g5', 'b5d7', 'g5g6', 'g7h6', 'f4e5', 'h6h5', 'g6g7', 'd7b5', 'g7g8q', 'h5h4', 'e5f4', 'b5e2', 'g8g5', 'h4h3', 'g5g3']),\n",
       "       list(['d2d4', 'g8f6', 'c2c4', 'e7e5', 'd4e5', 'f6g4', 'c1f4', 'b8c6', 'g1f3', 'f8b4', 'b1d2', 'd7d6', 'e5d6', 'b4d6', 'f4d6', 'd8d6', 'e2e3', 'c8f5', 'f1e2', 'g4e5', 'e1g1', 'e8c8', 'd1a4', 'd6g6', 'f3h4', 'g6e6', 'h4f5', 'd8d2', 'f5g3', 'h8d8', 'b2b4', 'h7h5', 'e2h5', 'e6c4', 'a2a3', 'g7g6', 'a1c1', 'c4d3', 'h5d1', 'e5c4', 'a4b3', 'b7b5', 'a3a4', 'a7a6', 'b3d3', 'd8d3', 'd1g4', 'f7f5', 'a4b5', 'a6b5', 'g3f5', 'g6f5', 'g4f5', 'c8b7', 'f5d3', 'd2d3', 'g2g4', 'c6b4', 'f1d1', 'c4e5', 'g4g5', 'e5f3', 'g1f1', 'f3g5', 'h2h4', 'g5f7', 'd1d3', 'b4d3', 'c1b1', 'b7c6', 'f1e2', 'd3c5', 'f2f3', 'c5d7', 'h4h5', 'd7f6', 'b1h1', 'c6d6', 'h5h6', 'f6h7', 'e3e4', 'b5b4', 'f3f4', 'b4b3', 'e2d3', 'd6e6', 'h1g1', 'h7f6', 'e4e5', 'f6d5', 'd3e4', 'd5c3', 'e4d3', 'c3d5', 'h6h7', 'd5f4', 'd3d2', 'f7h8', 'g1g7', 'c7c5', 'g7c7', 'e6e5', 'c7c5', 'e5f6', 'c5c8', 'f6g7', 'c8h8', 'b3b2', 'd2c2', 'f4d5', 'c2b2', 'd5f6', 'h8g8', 'g7h7', 'g8g7', 'h7h6', 'g7g6', 'h6g6']),\n",
       "       list(['c2c4', 'g8f6', 'b1c3', 'e7e5', 'g2g3', 'g7g6', 'f1g2', 'f8g7', 'g1f3', 'b8c6', 'd2d4', 'e5d4', 'f3d4', 'e8g8', 'e1g1', 'f8e8', 'h2h3', 'f6h5', 'd4c2', 'd7d6', 'g3g4', 'h5f6', 'f2f4', 'f6d7', 'd1d2', 'a7a5', 'b2b3', 'a5a4', 'a1b1', 'a4b3', 'a2b3', 'd7c5', 'b3b4', 'c5a4', 'c3d5', 'c8e6', 'b1b3', 'a4b6', 'd2d3', 'a8a2', 'd5b6', 'c7b6', 'b3b1', 'b6b5', 'c4b5', 'c6e7', 'c2e3', 'f7f5', 'f1d1', 'd6d5', 'g4f5', 'g6f5', 'g1f1', 'd5d4', 'e3c2', 'e6d5', 'c2d4', 'g7d4', 'g2d5', 'd8d5', 'd3d4', 'd5h1', 'd4g1', 'h1g1', 'f1g1', 'e7g6', 'b1b2', 'a2b2', 'c1b2', 'g6f4', 'g1f1', 'e8e2', 'b2c1', 'e2e4', 'd1d8', 'g8f7', 'd8d7', 'f7e6', 'd7b7', 'e4b4', 'c1f4', 'b4f4', 'f1g2', 'f4b4', 'b7h7', 'b4b5', 'h7a7', 'f5f4', 'a7a6', 'e6e7', 'a6a1', 'e7f6', 'h3h4', 'b5b7', 'h4h5', 'f4f3', 'g2g1', 'f6g7', 'h5h6', 'g7h7', 'g1f2', 'b7f7', 'a1a2', 'f7c7', 'a2a1', 'c7b7', 'a1a2', 'b7c7', 'a2a1', 'c7e7', 'f2f3', 'e7f7', 'f3g4', 'f7b7', 'g4f5', 'b7b5', 'f5f6', 'b5b6', 'f6e5', 'b6b5', 'e5e6', 'h7h6', 'a1h1', 'h6g6', 'h1a1', 'g6h5', 'e6f6', 'h5g4', 'a1a2', 'g4g3', 'a2a8', 'g3g4', 'a8a1', 'g4f4', 'a1a4', 'f4e3', 'a4a8', 'b5b6', 'f6g5', 'b6b5', 'g5g4', 'b5b1', 'a8e8', 'e3d3', 'e8e7', 'd3c4', 'g4g5', 'c4c5', 'g5g4', 'c5c4', 'g4g5', 'b1b8', 'e7h7', 'b8b2', 'g5g4', 'c4b4', 'h7b7', 'b4c3', 'b7c7', 'c3b4', 'c7d7', 'b2c2', 'g4f3', 'b4b5', 'd7f7', 'c2c3', 'f3f2', 'b5b6', 'f7e7', 'c3c2', 'f2e1', 'c2a2', 'e1d1', 'a2a4', 'd1c1', 'a4c4', 'c1b1', 'c4f4', 'e7g7', 'f4f2', 'g7h7', 'f2d2', 'b1a1', 'd2d3', 'a1a2', 'd3f3', 'h7h6', 'b6b5', 'h6h5', 'b5b4', 'h5h4', 'b4c3', 'h4h7', 'c3d4', 'h7d7', 'd4e5', 'd7c7', 'e5f6', 'c7c5', 'f3f5', 'c5c6', 'f6g5', 'c6c7', 'f5f4', 'a2a3', 'f4f3', 'a3a4', 'f3f8', 'c7c5', 'g5g4', 'a4b5', 'f8e8', 'c5c2', 'e8e5', 'b5a6', 'e5e1', 'a6b6', 'e1e6', 'c2c6', 'e6e7', 'c6c1', 'e7e1', 'c1e1', 'g4f4', 'b6a7', 'f4g4', 'e1f1', 'g4g5', 'a7b7', 'g5g4', 'f1f6', 'g4g3', 'b7c6', 'g3g4', 'c6c5', 'g4g5', 'f6f1', 'g5g4', 'f1b1', 'g4f4', 'c5d4', 'f4f3', 'b1b2', 'f3g4', 'd4e4', 'g4g5', 'b2f2', 'g5g6', 'e4e5', 'g6g7', 'e5e6', 'g7g6', 'f2g2', 'g6h5', 'e6e5', 'h5h4', 'e5f4', 'h4h5', 'g2g1', 'h5h6', 'f4f5', 'h6h7', 'f5f6', 'h7h8', 'f6f7', 'h8h7', 'g1h1']),\n",
       "       list(['d2d4', 'g8f6', 'c2c4', 'e7e6', 'b1c3', 'f8b4', 'd1c2', 'c7c5', 'd4c5', 'b4c5', 'g1f3', 'd7d5', 'c1g5', 'd5c4', 'e2e3', 'c5e7', 'f1c4', 'h7h6', 'g5f4', 'c8d7', 'e1g1', 'e8g8', 'a2a3', 'd7c6', 'f3d4', 'd8b6', 'a1d1', 'c6e8', 'b2b4', 'a7a6', 'e3e4', 'f6h5', 'f4e3', 'b6c7', 'c4a2', 'e7f6', 'f2f4', 'f6d4', 'd1d4', 'e8b5', 'f1f3', 'b8c6', 'd4d1', 'f8d8', 'f3f2', 'h5f6', 'h2h3', 'd8d1', 'c2d1', 'c6e7', 'f2c2', 'a8d8', 'c3d5', 'b5c6', 'd5f6', 'g7f6', 'd1g4', 'g8h8', 'g4e2', 'h8g7', 'a3a4', 'c7b8', 'e2g4', 'g7h7', 'g4h5', 'h7g8', 'f4f5', 'b8e5', 'h5g4', 'g8h7', 'f5e6', 'c6e4', 'c2c5', 'e5a1', 'c5c1', 'a1a2', 'g4e4', 'f6f5', 'e4b7', 'a2e6', 'e3f2', 'e7g6', 'b4b5', 'a6b5', 'c1e1', 'e6b3', 'a4a5', 'd8g8', 'b7d7', 'g6h4', 'f2h4', 'h7g6', 'h4f2', 'b5b4', 'd7b5', 'b3c3', 'a5a6', 'b4b3', 'e1e3', 'c3c1', 'g1h2', 'c1c2', 'e3g3', 'g6h7', 'b5b3', 'c2b3', 'g3b3', 'g8a8', 'a6a7', 'a8a7', 'f2a7', 'f5f4', 'b3b1', 'f7f5', 'h2h1', 'f4f3', 'b1b7', 'h7g8', 'a7f2', 'f5f4', 'h3h4', 'h6h5', 'b7b2', 'g8g7', 'b2b7', 'g7g8', 'b7d7', 'f3g2', 'h1g2', 'g8f8', 'd7d8', 'f8e7', 'd8d1', 'e7f8', 'g2h1', 'f8g7', 'd1d7', 'g7g8', 'd7d8', 'g8h7', 'd8d5', 'h7g8', 'f2c5', 'g8h8', 'c5d4', 'h8g8', 'd5g5', 'g8h7', 'g5g7', 'h7h6', 'g7g2', 'h6h7', 'g2g7', 'h7h6', 'g7d7', 'h6g6', 'd4b2', 'g6f5', 'h1g1', 'f5e4', 'g1f2', 'e4f5', 'f2f1', 'f5g6', 'b2h8', 'g6f5', 'd7d6', 'f5g4', 'd6b6', 'g4f3', 'b6b3', 'f3g4', 'f1f2', 'g4h4', 'h8c3', 'h4g4', 'f2f1', 'g4g5', 'b3b5', 'g5g6', 'c3d2', 'g6h7', 'b5a5', 'h7g8', 'd2c3', 'f4f3', 'a5h5', 'g8f8', 'h5f5', 'f8e7', 'f1f2', 'e7e6', 'f5f6', 'e6d5', 'f2f3', 'd5c4', 'c3e1', 'c4d4', 'f3e2', 'd4d5', 'e2e3', 'd5e5', 'f6b6', 'e5d5', 'e1b4', 'd5e5', 'b4f8', 'e5f5', 'b6c6', 'f5e5', 'c6d6', 'e5f5', 'e3f3', 'f5e5', 'f8e7', 'e5f5', 'd6d1', 'f5e6', 'e7d6', 'e6f7', 'f3f4', 'f7f6', 'd6b8', 'f6f7', 'd1d7', 'f7e6', 'd7d4', 'e6f7', 'f4f5', 'f7e7', 'b8e5', 'e7f8', 'f5f6', 'f8g8', 'd4h4', 'g8f8', 'h4h8']),\n",
       "       list(['e2e4', 'c7c5', 'd2d4', 'c5d4', 'c2c3', 'g8f6', 'e4e5', 'f6d5', 'c3d4', 'b8c6', 'g1f3', 'd7d6', 'f1c4', 'd6e5', 'd4e5', 'd5b6', 'd1d8', 'c6d8', 'c4b5', 'c8d7', 'b1c3', 'd8c6', 'c1e3', 'e7e6', 'a2a3', 'f8e7', 'e1c1', 'h7h6', 'c1c2', 'e8c8', 'b2b4', 'g7g5', 'h1e1'])],\n",
       "      dtype=object)"
      ]
     },
     "execution_count": 26,
     "metadata": {},
     "output_type": "execute_result"
    }
   ],
   "source": [
    "#Extract the dataset\n",
    "cursor.execute('''SELECT game_id, move, move_number FROM moves\n",
    "               LIMIT 1000;''')\n",
    "moves = cursor.fetchall()\n",
    "moves_df = pd.DataFrame(moves, columns=['game_id', 'move', 'move_number'])\n",
    "moves_dict = moves_df.groupby('game_id')['move'].apply(list).to_numpy()\n",
    "moves_dict"
   ]
  }
 ],
 "metadata": {
  "kernelspec": {
   "display_name": "Python 3",
   "language": "python",
   "name": "python3"
  },
  "language_info": {
   "codemirror_mode": {
    "name": "ipython",
    "version": 3
   },
   "file_extension": ".py",
   "mimetype": "text/x-python",
   "name": "python",
   "nbconvert_exporter": "python",
   "pygments_lexer": "ipython3",
   "version": "3.11.12"
  }
 },
 "nbformat": 4,
 "nbformat_minor": 5
}
